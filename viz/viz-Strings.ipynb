{
 "cells": [
  {
   "cell_type": "markdown",
   "metadata": {},
   "source": [
    "# Visualização de Dados em Python - parte 1 em sala\n",
    "\n",
    "\n",
    "Neste notebook, vamos praticar a manipulação de strings em Python\n",
    "\n",
    "Se for necessário acrescentar passos adicionais além daqueles que estão indicados neste notebook, faça isso\n",
    "\n",
    "\n",
    "\n"
   ]
  },
  {
   "cell_type": "markdown",
   "metadata": {},
   "source": [
    "## Concatenando Strings\n",
    "\n",
    "\n",
    "Mostre o resultado da concatenação destas duas strings:\n",
    "\n",
    "frase = 'Python eh uma linguagem fenomenal'\n",
    "\n",
    "frase2 = ' para qualquer cientista de dados'"
   ]
  },
  {
   "cell_type": "code",
   "execution_count": null,
   "metadata": {},
   "outputs": [],
   "source": [
    "frase = 'Python eh uma linguagem fenomenal'\n",
    "frase2 = ' para qualquer cientista de dados'\n",
    "frase + frase2\n"
   ]
  },
  {
   "cell_type": "markdown",
   "metadata": {},
   "source": [
    "## Como acessar uma parte da string\n",
    "\n",
    "Pode-se usar os índices para acessar uma substring. Execute o código abaixo.\n"
   ]
  },
  {
   "cell_type": "code",
   "execution_count": null,
   "metadata": {},
   "outputs": [],
   "source": [
    "frase2[0:15]\n"
   ]
  },
  {
   "cell_type": "markdown",
   "metadata": {},
   "source": [
    "## Lista de Strings\n",
    "\n",
    "Veja o resultado da concatenação de duas listas de strings no código abaixo.\n"
   ]
  },
  {
   "cell_type": "code",
   "execution_count": null,
   "metadata": {},
   "outputs": [],
   "source": [
    "semana = ['Segunda','Terça','Quarta'] + ['Quinta','Sexta','Sábado']\n",
    "semana"
   ]
  },
  {
   "cell_type": "markdown",
   "metadata": {},
   "source": [
    "## Insira uma string na lista\n",
    "\n",
    "Para inserir um elemento numa lista, use o método append. Faça o código para incluir o 'Domingo' como um elemento a mais na lista semana.\n",
    "\n"
   ]
  },
  {
   "cell_type": "code",
   "execution_count": null,
   "metadata": {},
   "outputs": [],
   "source": [
    "semana.append('Domingo')\n",
    "semana"
   ]
  },
  {
   "cell_type": "markdown",
   "metadata": {},
   "source": [
    "## Índices de listas de strings\n",
    "\n",
    "Também é possível usar índices nas listas.  \n"
   ]
  },
  {
   "cell_type": "code",
   "execution_count": null,
   "metadata": {},
   "outputs": [],
   "source": [
    "semana[3:8]\n"
   ]
  },
  {
   "cell_type": "markdown",
   "metadata": {},
   "source": [
    "## Conte quantos elementos tem \n",
    "\n",
    "Use a função len em frase2 e em semana. Verifique que o resultado de len numa string e numa lista contam itens diferentes.\n"
   ]
  },
  {
   "cell_type": "code",
   "execution_count": null,
   "metadata": {},
   "outputs": [],
   "source": [
    "len(frase2)\n",
    "len(semana)\n"
   ]
  },
  {
   "cell_type": "markdown",
   "metadata": {},
   "source": [
    "## Conte quantas ocorrências existem\n",
    "\n",
    "\n",
    "Crie uma string Frase3 = 'Six six six the number of the Beast'\n",
    "\n",
    "\n",
    "Agora, você quer contar a quantidade de ocorrências da string 'six', para tanto use o método count. \n"
   ]
  },
  {
   "cell_type": "code",
   "execution_count": null,
   "metadata": {},
   "outputs": [],
   "source": [
    "Frase3 = 'Six six six the number of the Beast'\n",
    "Frase3 = Frase3.lower()\n",
    "Frase3.count('six')\n",
    "Frase3"
   ]
  },
  {
   "cell_type": "markdown",
   "metadata": {},
   "source": [
    "\n",
    "Exercício: Veja que a contagem não retornou o 'Six' com inicial maiúscula. \n",
    "\n",
    "Para tanto, use o método lower() da string. \n"
   ]
  },
  {
   "cell_type": "code",
   "execution_count": null,
   "metadata": {},
   "outputs": [],
   "source": []
  },
  {
   "cell_type": "markdown",
   "metadata": {},
   "source": [
    "## Método Index\n",
    "\n",
    "Execute o código abaixo e analise o significado da resposta. \n"
   ]
  },
  {
   "cell_type": "code",
   "execution_count": null,
   "metadata": {},
   "outputs": [],
   "source": [
    "frase2.index('cientista')\n"
   ]
  },
  {
   "cell_type": "markdown",
   "metadata": {},
   "source": [
    "## Método Join\n",
    "\n",
    "Execute o código abaixo e analise o significado da resposta."
   ]
  },
  {
   "cell_type": "code",
   "execution_count": null,
   "metadata": {},
   "outputs": [],
   "source": [
    "\n",
    "lista = ['hot','dog']\n",
    "' '.join(lista)\n"
   ]
  }
 ],
 "metadata": {
  "kernelspec": {
   "display_name": "Python 3",
   "language": "python",
   "name": "python3"
  },
  "language_info": {
   "codemirror_mode": {
    "name": "ipython",
    "version": 3
   },
   "file_extension": ".py",
   "mimetype": "text/x-python",
   "name": "python",
   "nbconvert_exporter": "python",
   "pygments_lexer": "ipython3",
   "version": "3.6.5"
  }
 },
 "nbformat": 4,
 "nbformat_minor": 2
}
