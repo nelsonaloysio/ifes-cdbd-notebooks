{
 "cells": [
  {
   "cell_type": "markdown",
   "metadata": {},
   "source": [
    "# Visualização de Dados em Python\n",
    "\n",
    "\n",
    "Neste notebook, vamos praticar uma aplicação simples de comparação de Histogramas de Imagens.\n",
    "\n",
    "Se for necessário acrescentar passos adicionais além daqueles que estão indicados neste notebook, faça isso.\n",
    "\n",
    "Não esqueça de carregar as bibliotecas.\n"
   ]
  },
  {
   "cell_type": "code",
   "execution_count": null,
   "metadata": {
    "collapsed": true
   },
   "outputs": [],
   "source": [
    "import numpy as np\n",
    "import matplotlib.pyplot as plt\n"
   ]
  },
  {
   "cell_type": "markdown",
   "metadata": {},
   "source": [
    "# Defina a função de Comparação de Histogramas\n"
   ]
  },
  {
   "cell_type": "code",
   "execution_count": null,
   "metadata": {
    "collapsed": true
   },
   "outputs": [],
   "source": [
    "def return_intersection(hist_1, hist_2):\n",
    "    minima = np.minimum(hist_1, hist_2)\n",
    "    intersection = np.sum(minima)\n",
    "    return intersection\n"
   ]
  },
  {
   "cell_type": "markdown",
   "metadata": {},
   "source": [
    "## Imagem de Entrada\n",
    "\n",
    "Crie uma lista com os nomes das imagens de entrada. \n"
   ]
  },
  {
   "cell_type": "code",
   "execution_count": null,
   "metadata": {
    "collapsed": true
   },
   "outputs": [],
   "source": [
    "lst_in = ['Maravilha.png', 'Ferro.png', 'Flash.png', 'Wolverine.png','America.png', 'Batman.png', 'Hulk.png', 'Super.png' ]\n",
    "\n"
   ]
  },
  {
   "cell_type": "markdown",
   "metadata": {},
   "source": [
    "# Armazene os histogramas\n",
    "\n",
    "As imagens de entrada são com imagens de referência. \n",
    "\n",
    "A ideia é armazenar os histogramas de cada imagem. \n"
   ]
  },
  {
   "cell_type": "code",
   "execution_count": null,
   "metadata": {
    "collapsed": true
   },
   "outputs": [],
   "source": [
    "h_in = np.zeros((len(lst_in), 3, 256))   \n",
    "for i in range(len(lst_in)):\n",
    "    image1 = plt.imread(lst_in[i]) \n",
    "    (x, y, z) = image1.shape\n",
    "    hr1,bins = np.histogram(image1[:,:,0], bins=256)\n",
    "    hg1,bins = np.histogram(image1[:,:,1], bins=256)\n",
    "    hb1,bins = np.histogram(image1[:,:,2], bins=256)\n",
    "    h_in[i,0,:] = hr1 /(x*y)\n",
    "    h_in[i,1,:] = hg1 /(x*y)\n",
    "    h_in[i,2,:] = hb1 /(x*y)\n",
    " \n"
   ]
  },
  {
   "cell_type": "markdown",
   "metadata": {},
   "source": [
    "Agora, faça o mesmo para as imagens que queremos saber quem são. \n",
    "\n",
    "Crie uma lista com os nomes das imagens e faça o código para armazenar os histogramas deles na variável h_out.\n",
    "\n"
   ]
  },
  {
   "cell_type": "code",
   "execution_count": null,
   "metadata": {},
   "outputs": [],
   "source": [
    "lst_out = ['QUEM1.png', 'QUEM2.png', 'QUEM3.png', 'QUEM4.png', 'QUEM5.png', 'QUEM6.png']\n",
    "\n",
    "h_out = np.zeros((len(lst_out), 3, 256))   \n",
    "\n"
   ]
  },
  {
   "cell_type": "code",
   "execution_count": null,
   "metadata": {
    "collapsed": true
   },
   "outputs": [],
   "source": [
    "for i in range(len(lst_out)):\n",
    "    image1 = plt.imread(lst_out[i]) \n",
    "    (x, y, z) = image1.shape\n",
    "    hr1,bins = np.histogram(image1[:,:,0], bins=256)\n",
    "    hg1,bins = np.histogram(image1[:,:,1], bins=256)\n",
    "    hb1,bins = np.histogram(image1[:,:,2], bins=256)\n",
    "    h_out[i,0] = hr1 /(x*y)\n",
    "    h_out[i,1] = hg1 /(x*y)\n",
    "    h_out[i,2] = hb1 /(x*y)"
   ]
  },
  {
   "cell_type": "markdown",
   "metadata": {},
   "source": [
    "Agora faça o código que compare os histogramas das imagens \"QUEM\" com as imagens de referência usando a função \"return_intersection\". \n",
    "\n"
   ]
  },
  {
   "cell_type": "code",
   "execution_count": null,
   "metadata": {
    "collapsed": true
   },
   "outputs": [],
   "source": []
  },
  {
   "cell_type": "markdown",
   "metadata": {},
   "source": [
    "Veja o resultado de resposta. \n"
   ]
  },
  {
   "cell_type": "code",
   "execution_count": null,
   "metadata": {
    "collapsed": true
   },
   "outputs": [],
   "source": [
    "\n"
   ]
  }
 ],
 "metadata": {
  "kernelspec": {
   "display_name": "Python 3",
   "language": "python",
   "name": "python3"
  },
  "language_info": {
   "codemirror_mode": {
    "name": "ipython",
    "version": 3
   },
   "file_extension": ".py",
   "mimetype": "text/x-python",
   "name": "python",
   "nbconvert_exporter": "python",
   "pygments_lexer": "ipython3",
   "version": "3.6.1"
  }
 },
 "nbformat": 4,
 "nbformat_minor": 2
}
