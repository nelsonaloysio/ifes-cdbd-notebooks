{
 "cells": [
  {
   "cell_type": "markdown",
   "metadata": {},
   "source": [
    "# Visualização de Dados em Python\n",
    "\n",
    "\n",
    "Neste notebook, vamos praticar a questão do Espaço de Cores.\n",
    "\n",
    "Se for necessário acrescentar passos adicionais além daqueles que estão indicados neste notebook, faça isso.\n"
   ]
  },
  {
   "cell_type": "markdown",
   "metadata": {},
   "source": [
    "## Imagem de Entrada\n",
    "\n",
    "\n",
    "Comece importando OpenCV. Esta será a única biblioteca a ser usada. \n",
    "\n",
    "Depois escreva uma linha de código que faça a leitura da imagem. A imagem de entrada é \"Vermelho3.jpg\".\n"
   ]
  },
  {
   "cell_type": "code",
   "execution_count": null,
   "metadata": {
    "collapsed": true
   },
   "outputs": [],
   "source": [
    "\n"
   ]
  },
  {
   "cell_type": "markdown",
   "metadata": {},
   "source": [
    "# Conversão do Espaço de Cores \n",
    "\n",
    "\n",
    "Faça a conversão do espaço de cores BGR -> HSV (variável img1 -> hsv).\n",
    "\n"
   ]
  },
  {
   "cell_type": "code",
   "execution_count": null,
   "metadata": {
    "collapsed": true
   },
   "outputs": [],
   "source": [
    "hsv = cv2.cvtColor(img1, cv2.COLOR_BGR2HSV)\n"
   ]
  },
  {
   "cell_type": "markdown",
   "metadata": {},
   "source": [
    "# Mude a Cor\n",
    "\n",
    "O enunciado pede que se mude a cor do pássaro de vermelho para amarelo. \n",
    "\n",
    "Lembrando que o H do HSV é a medida do ângulo. \n",
    "\n",
    "Uma observação importante é que no OpenCV em Python, o ângulo varia de 0º a 180º ao invés de ir até 360º. \n",
    "\n",
    "Outra questão é que a cor vermelha se encontra no início (menos que 30º - na figura 60º) e no final da faixa (maior que 150º - na figura 300º).  \n",
    "\n",
    "\n",
    "<img src=\"HSV.png\">\n",
    "\n"
   ]
  },
  {
   "cell_type": "code",
   "execution_count": null,
   "metadata": {
    "collapsed": true
   },
   "outputs": [],
   "source": [
    "\n",
    "\n"
   ]
  },
  {
   "cell_type": "markdown",
   "metadata": {},
   "source": [
    "# Volte para o espaço BGR\n",
    "\n",
    "\n",
    "Faça a conversão para retornar ao BGR, para tanto use a opção cv2.COLOR_HSV2BGR. \n"
   ]
  },
  {
   "cell_type": "code",
   "execution_count": null,
   "metadata": {
    "collapsed": true
   },
   "outputs": [],
   "source": [
    "\n"
   ]
  },
  {
   "cell_type": "markdown",
   "metadata": {},
   "source": [
    "# Grave a imagem\n",
    "\n",
    "Grave a imagem em arquivo. \n",
    "\n",
    "Verifique como ficou o resultado. \n"
   ]
  },
  {
   "cell_type": "code",
   "execution_count": null,
   "metadata": {
    "collapsed": true
   },
   "outputs": [],
   "source": []
  }
 ],
 "metadata": {
  "kernelspec": {
   "display_name": "Python 3",
   "language": "python",
   "name": "python3"
  },
  "language_info": {
   "codemirror_mode": {
    "name": "ipython",
    "version": 3
   },
   "file_extension": ".py",
   "mimetype": "text/x-python",
   "name": "python",
   "nbconvert_exporter": "python",
   "pygments_lexer": "ipython3",
   "version": "3.6.1"
  }
 },
 "nbformat": 4,
 "nbformat_minor": 2
}
