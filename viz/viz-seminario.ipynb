{
 "cells": [
  {
   "cell_type": "markdown",
   "metadata": {},
   "source": [
    "# Análise de tweets: um estudo de caso sobre violência\n",
    "\n",
    "\n",
    "**IFES - Pós graduação *lato sensu* de Ciência de Dados com Big Data** | Aluno: Nelson\n",
    "\n",
    "A intenção desta análise é exemplificar um método descritivo-exploratório para o estudo de dados coletados de redes sociais, em específico do Twitter, a partir das bibliotecas *numpy, pandas e networkx*, ou softwares como o [Gephi](https://gephi.org/), que corrobore com pesquisas e investigações de fenômenos sociais.\n",
    "\n",
    "Uma base de dados de 114 mil tweets em português com o termo de pesquisa **\"violência\"** foi coletada na semana de 09 a 15 de dezembro de 2018."
   ]
  },
  {
   "cell_type": "markdown",
   "metadata": {},
   "source": [
    "- **Contextualização do Tema**:\n",
    "\n",
    "A violência no Brasil é um problema que atinge a população em níveis maiores que as médias registradas mundialmente. Em 2016, pela primeira vez, o país alcançou a marca de 62.517 homicídio ao ano, o equivalente a uma taxa de 30,3 mortes para cada 100 mil habitantes; isso significa que, em três semanas, são assassinadas no Brasil mais pessoas que o total de mortes em todos os ataques terroristas do mundo nos cinco primeiros meses de 2017 ([G1](http://g1.globo.com/politica/noticia/taxa-de-homicidios-no-brasil-aumenta-mais-de-10-de-2005-a-2015.ghtml)). Observa-se, no entanto, que há diferenças entre os índices de criminalidade dentro do país. Enquanto em Santa Catarina a taxa de homicídios registrada em 2010 foi de 12,9 mortes por 100 mil habitantes, em Alagoas esse índice foi de 66,8 homicídios ([O Globo](https://web.archive.org/web/20111215044451/http://oglobo.globo.com/infograficos/taxa-de-homicidio-estados/)).\n",
    " \n",
    "- **Descrição do Problema**:\n",
    "\n",
    "Indo numa outra direção, em vez de utilizar múltiplas variáveis de natureza sociológica para arranhar uma real compreensão aprofundada do problema por uma abordagem matemática, pretende-se aqui responder a seguinte pergunta: **como as redes sociais podem contribuir para a compreensão e o estudo de problemas e fenômenos sociais?** Ou ainda, como utilizar as bibliotecas supracitadas (código aberto) para atingir este objetivo?:\n",
    "\n",
    "- **Motivação/ Justificativa**:\n",
    "\n",
    "As redes sociais são, em si, representativas das novas tecnologias de informação e comunicação (NTICs), de estrutura descentralizada e rizomática, e permitem uma expressão de alcance e extensão muito maiores que as redes centralizadas e hierárquicas anteriormente dominantes na era analógica.\n",
    "\n",
    "Como fonte de dados, as redes sociais aparece como uma possibilidade para estudos de correlação entre variáveis psicossociológicas (entre emoções e comportamento político, por exemplo), e a Análise de Redes Sociais (Social Network Analysis) uma interpelação da Sociologia e da Ciência de Dados que se desenvolveu no meio acadêmico em vias recentes - o que contribuiu também para o interesse nesse objeto de pesquisa.\n",
    "\n",
    "- **Proposta, Objetivos e Limitações**:\n",
    "\n",
    "A proposta é exemplificar um método descritivo-exploratório para o estudo de dados coletados das redes sociais, em específico do Twitter.\n",
    "\n",
    "O objetivo principal é demonstrar a viabilidade deste método para adquirir mais informações em torno de um fenômeno social a fim de explorá-lo de diferentes maneiras, numa técnica que não subordine a análise, mas complemente-a - como a partir da teoria dos grafos, demonstrado a seguir.\n",
    "\n",
    "A limitação principal é trabalhar com um conjunto de dados que, por referir-se a um período de coleta de uma semana, predeterminado pelas capacidades da API gratuita do Twitter, certamente poderia ser expandido a fim de comportar mais dados e uma maior variabilidade a respeito do problema estudado; a fim de evitar-se este problema, um período de coleta maior pode ser contabilizado. Por enquanto, bastou como exemplo.\n",
    "\n",
    "- **Há trabalhos correlatos? De outra forma, há trabalhos que já fazem o que o seu sistema fará?**\n",
    "\n",
    "Já me deparei com algumas plataformas pagas que ofereciam análises deste tipo, mas automatizadas, como o [Flocker](http://flocker.outliers.es), uma plataforma da Outliers Collective que permitia a coleta e visualização em tempo real de tweets por meio do navegador, mas que hoje aparenta estar offline ([vídeo](https://www.youtube.com/watch?v=Lbm0uKCdh3U) dele).\n",
    "\n",
    "- **Base de dados (descrição da base coletada - raw):**\n",
    "\n",
    "Os dados dos tweets foram retornados Search API do Twitter em modo \"extended\" ([data sample](https://developer.twitter.com/en/docs/tweets/search/api-reference/get-search-tweets.html)). \n",
    "Para a coleta de dados, utilizou-se a biblioteca [Twython](https://twython.readthedocs.io/en/latest/api.html) por meio do script [twitter-capture](https://github.com/labic/twitter-capture) (de minha autoria!). Alguns campos retornados foram ignorados na hora de escrever o arquivo CSV final.\n",
    "\n",
    "Ao todo, 114 mil tweets em português com o termo de pesquisa **\"violência\"** em seu texto foram coletados, referentes ao período de uma semana entre 09 e 15 de dezembro de 2018 (por limitação inerente à API do Twitter), e o arquivo final pode ser baixado executando-se o comando abaixo:"
   ]
  },
  {
   "cell_type": "code",
   "execution_count": 1,
   "metadata": {
    "scrolled": true
   },
   "outputs": [],
   "source": [
    "#!curl -L -o tweets.csv \"https://www.dropbox.com/s/mz5os5w8vtet7zw/tweets.csv?dl=1\""
   ]
  },
  {
   "cell_type": "markdown",
   "metadata": {},
   "source": [
    "Um gazetteer do **GeoNames** contendo os nomes das principais cidades e capitais no Brasil e suas coordenadas geográficas foi utilizado para cruzar os dados de local da publicação retornados do Twitter, que continham o nome da cidade de origem, mas não sua latitude e longitude. Este pode ser baixado e extraído executando-se o comando abaixo, e bases de dados para outras localizações também estão disponíveis [no site](http://download.geonames.org/export/dump/):"
   ]
  },
  {
   "cell_type": "code",
   "execution_count": 2,
   "metadata": {
    "scrolled": true
   },
   "outputs": [],
   "source": [
    "#!curl -o BR.zip \"http://download.geonames.org/export/dump/BR.zip\"\n",
    "#!unzip BR.zip"
   ]
  },
  {
   "cell_type": "markdown",
   "metadata": {},
   "source": [
    "A biblioteca **stopwords** do nltk foi utilizada para descartar palavras comuns ou sem significado aparente e pode ser obtida executando:"
   ]
  },
  {
   "cell_type": "code",
   "execution_count": 3,
   "metadata": {},
   "outputs": [],
   "source": [
    "# import nltk\n",
    "# nltk.download('stopwords')"
   ]
  },
  {
   "cell_type": "markdown",
   "metadata": {},
   "source": [
    "**Início da análise:**"
   ]
  },
  {
   "cell_type": "code",
   "execution_count": 4,
   "metadata": {},
   "outputs": [],
   "source": [
    "# importa funções necessárias\n",
    "import numpy as np\n",
    "import pandas as pd\n",
    "import string\n",
    "from collections import defaultdict\n",
    "from csv import reader, writer, QUOTE_MINIMAL\n",
    "from datetime import datetime\n",
    "from itertools import combinations\n",
    "from matplotlib import pyplot as plt\n",
    "from matplotlib import image as mpimg\n",
    "from nltk.corpus import stopwords\n",
    "from re import findall\n",
    "stopwords = stopwords.words('portuguese')\n",
    "%matplotlib inline"
   ]
  },
  {
   "cell_type": "code",
   "execution_count": 5,
   "metadata": {
    "scrolled": false
   },
   "outputs": [],
   "source": [
    "# função para inspecionar o data frame\n",
    "\n",
    "def check_df_nulls(df, verbose=False):\n",
    "   \n",
    "    # get columns with float64 values\n",
    "    is_float = []\n",
    "    for i in df.dtypes.keys():\n",
    "        if df.dtypes[i] == 'float64':\n",
    "            is_float.append(i)\n",
    "\n",
    "    # get columns with null values      \n",
    "    has_null = df.isnull().any()\n",
    "    for i in has_null.keys():\n",
    "        if has_null[i]:\n",
    "            print(i, '=>', df[i].isnull().sum(), 'nulls')\\\n",
    "            if verbose else None\n",
    "        else: has_null.pop(i)\n",
    "\n",
    "    # get columns with null float64 values\n",
    "    to_fill = [value for value in is_float if value in has_null.keys()]\n",
    "\n",
    "    # print overview\n",
    "    print(len(df.keys()), 'total columns')\n",
    "    print(len(is_float), 'are float64')\n",
    "    print(len(has_null), 'contain nulls')\n",
    "    print(len(to_fill), 'columns to fill\\n')\n",
    "    # return to_fill"
   ]
  },
  {
   "cell_type": "code",
   "execution_count": 6,
   "metadata": {},
   "outputs": [],
   "source": [
    "# função para exportar rede em formato gdf\n",
    "\n",
    "def export_gdf(filename, network=[], header_nodes=[], header_edges=[], directed=True):\n",
    "    header_nodes = ['nodedef>name VARCHAR'] + header_nodes\n",
    "    header_edges = ['edgedef>node1 VARCHAR', 'node2 VARCHAR'] + header_edges\n",
    "    header_edges.append('directed BOOLEAN')\n",
    "    with open(filename, 'w', newline='', encoding='utf8') as graphfile:\n",
    "        file_writer = writer(graphfile, delimiter=',')\n",
    "        file_writer.writerow(header_nodes)\n",
    "        file_writer.writerow(header_edges)\n",
    "        for line in network:\n",
    "            row = list(line)\n",
    "            row.append(directed)\n",
    "            file_writer.writerow(row)"
   ]
  },
  {
   "cell_type": "code",
   "execution_count": 7,
   "metadata": {},
   "outputs": [],
   "source": [
    "# função para verificar se string é número\n",
    "\n",
    "def is_number(str):\n",
    "    try:\n",
    "        int(str)\n",
    "        return True\n",
    "    except Exception:\n",
    "        try:\n",
    "            float(str)\n",
    "            return True\n",
    "        except Exception:\n",
    "            return False"
   ]
  },
  {
   "cell_type": "code",
   "execution_count": 8,
   "metadata": {},
   "outputs": [],
   "source": [
    "# função para iterar combinações de uma lista\n",
    "\n",
    "def list_combinations(list_of_values):\n",
    "    list_of_combinations = []\n",
    "    for item in combinations(list_of_values, 2):\n",
    "        list_of_combinations.append([item[0], item[1]])\n",
    "    return list_of_combinations"
   ]
  },
  {
   "cell_type": "code",
   "execution_count": 9,
   "metadata": {},
   "outputs": [],
   "source": [
    "# função para carregar atributos do geonames\n",
    "\n",
    "def load_geonames(filename):\n",
    "    geonames = defaultdict(dict)\n",
    "    with open(filename, 'rt', encoding='utf8') as csvfile:\n",
    "        csvfile = reader(csvfile, delimiter='\\t')\n",
    "        for line in csvfile:\n",
    "            geoname_id = line[0]\n",
    "            name = line[1].lower()\n",
    "            latitude = str(line[4])\n",
    "            longitude = str(line[5])\n",
    "            country_code = line[8]\n",
    "            geonames[country_code][name] = (latitude, longitude, geoname_id)\n",
    "    return geonames"
   ]
  },
  {
   "cell_type": "code",
   "execution_count": 10,
   "metadata": {},
   "outputs": [],
   "source": [
    "# sets e dicionários para substituição de acentos\n",
    "\n",
    "VALID_CHARACTERS_SET = set([])\n",
    "\n",
    "EXTRA_CHARACTERS = \"_-\"\n",
    "VALID_CHARACTERS = string.ascii_letters + string.digits\n",
    "VALID_CHARACTERS = VALID_CHARACTERS + EXTRA_CHARACTERS\n",
    "\n",
    "for character in VALID_CHARACTERS:\n",
    "    VALID_CHARACTERS_SET.add(character)\n",
    "\n",
    "ACCENT_REPLACEMENTS = {\n",
    "    ord('á'):'a', ord('ã'):'a', ord('â'):'a',\n",
    "    ord('à'):'a', ord('è'):'e', ord('ê'):'e',\n",
    "    ord('é'):'e', ord('í'):'i', ord('ì'):'i',\n",
    "    ord('ñ'):'n', ord('ò'):'o', ord('ó'):'o',\n",
    "    ord('ô'):'o', ord('õ'):'o', ord('ù'):'u',\n",
    "    ord('ú'):'u', ord('ü'):'u', ord('ç'):'c'}\n",
    "\n",
    "UNDESIRED_CHARACTERS = set(string.punctuation)\n",
    "\n",
    "UNDESIRED_CHARACTERS.add('”')\n",
    "UNDESIRED_CHARACTERS.add('“')\n",
    "UNDESIRED_CHARACTERS.add('‘')\n",
    "UNDESIRED_CHARACTERS.add('…')\n",
    "UNDESIRED_CHARACTERS.add('—')\n",
    "UNDESIRED_CHARACTERS.add('|')\n",
    "\n",
    "UNDESIRED_CHARACTERS_SPECIAL = UNDESIRED_CHARACTERS.copy()\n",
    "UNDESIRED_CHARACTERS_SPECIAL.remove('_')\n",
    "\n",
    "intab = ''.join(c for c in UNDESIRED_CHARACTERS)\n",
    "outtab = ''.join(' ' for c in UNDESIRED_CHARACTERS)\n",
    "punct_translate_tab = str.maketrans(intab, outtab)"
   ]
  },
  {
   "cell_type": "code",
   "execution_count": 11,
   "metadata": {},
   "outputs": [],
   "source": [
    "# taxa de homicídios a cada 100 mil habitantes por estado brasileiro (2010)\n",
    "# para exportar para um mapa (cloroplético) mas acabei não utilizando no final\n",
    "# fonte: https://web.archive.org/web/20111215044451/http://oglobo.globo.com/infograficos/taxa-de-homicidio-estados/\n",
    "\n",
    "dict_br = {\n",
    "'Alagoas': 66.8,\n",
    "'Espírito Santo': 50.1,\n",
    "'Pará': 45.9,\n",
    "'Pernambuco': 38.8,\n",
    "'Amapá': 38.7,\n",
    "'Paraíba': 38.6,\n",
    "'Bahia': 37.7,\n",
    "'Rondônia': 34.7,\n",
    "'Paraná': 34.4,\n",
    "'Distrito Federal': 34.2,\n",
    "'Sergipe': 33.3,\n",
    "'Mato Grosso': 31.7,\n",
    "'Amazonas': 30.6,\n",
    "'Ceará': 29.7,\n",
    "'Goiás': 29.4,\n",
    "'Roraima': 27.3,\n",
    "'Rio de Janeiro': 26.2,\n",
    "'Mato Grosso do Sul': 25.8,\n",
    "'Rio Grande do Norte': 22.9,\n",
    "'Tocantins': 22.5,\n",
    "'Maranhão': 22.5,\n",
    "'Acre': 19.6,\n",
    "'Rio Grande do Sul': 19.3,\n",
    "'Minas Gerais': 18.1,\n",
    "'São Paulo': 13.9,\n",
    "'Piauí': 13.7,\n",
    "'Santa Catarina': 12.9}"
   ]
  },
  {
   "cell_type": "code",
   "execution_count": 12,
   "metadata": {},
   "outputs": [],
   "source": [
    "# carrega dataframe\n",
    "tweets = pd.read_csv('tweets.csv', index_col='id', sep='|', quotechar='\"', quoting=QUOTE_MINIMAL, low_memory=False)"
   ]
  },
  {
   "cell_type": "code",
   "execution_count": 13,
   "metadata": {},
   "outputs": [],
   "source": [
    "# carrega geonames dump\n",
    "geonames = load_geonames('BR.txt')"
   ]
  },
  {
   "cell_type": "code",
   "execution_count": 14,
   "metadata": {},
   "outputs": [
    {
     "name": "stdout",
     "output_type": "stream",
     "text": [
      "\n",
      "type\t\tcount\n",
      "Tweet   \t 8785\n",
      "Retweet   \t 95345\n",
      "Quote   \t 1520\n",
      "Reply   \t 9149\n"
     ]
    },
    {
     "data": {
      "text/html": [
       "<div>\n",
       "<style scoped>\n",
       "    .dataframe tbody tr th:only-of-type {\n",
       "        vertical-align: middle;\n",
       "    }\n",
       "\n",
       "    .dataframe tbody tr th {\n",
       "        vertical-align: top;\n",
       "    }\n",
       "\n",
       "    .dataframe thead th {\n",
       "        text-align: right;\n",
       "    }\n",
       "</style>\n",
       "<table border=\"1\" class=\"dataframe\">\n",
       "  <thead>\n",
       "    <tr style=\"text-align: right;\">\n",
       "      <th></th>\n",
       "      <th>rt_count</th>\n",
       "      <th>favorite_count</th>\n",
       "      <th>user_followers</th>\n",
       "      <th>user_following</th>\n",
       "    </tr>\n",
       "  </thead>\n",
       "  <tbody>\n",
       "    <tr>\n",
       "      <th>count</th>\n",
       "      <td>114799.000000</td>\n",
       "      <td>114799.000000</td>\n",
       "      <td>1.147990e+05</td>\n",
       "      <td>114799.000000</td>\n",
       "    </tr>\n",
       "    <tr>\n",
       "      <th>mean</th>\n",
       "      <td>3574.648168</td>\n",
       "      <td>3.388235</td>\n",
       "      <td>4.315073e+03</td>\n",
       "      <td>1054.818038</td>\n",
       "    </tr>\n",
       "    <tr>\n",
       "      <th>std</th>\n",
       "      <td>4040.137185</td>\n",
       "      <td>168.659456</td>\n",
       "      <td>8.963428e+04</td>\n",
       "      <td>3123.154158</td>\n",
       "    </tr>\n",
       "    <tr>\n",
       "      <th>min</th>\n",
       "      <td>0.000000</td>\n",
       "      <td>0.000000</td>\n",
       "      <td>0.000000e+00</td>\n",
       "      <td>0.000000</td>\n",
       "    </tr>\n",
       "    <tr>\n",
       "      <th>25%</th>\n",
       "      <td>36.000000</td>\n",
       "      <td>0.000000</td>\n",
       "      <td>1.210000e+02</td>\n",
       "      <td>180.000000</td>\n",
       "    </tr>\n",
       "    <tr>\n",
       "      <th>50%</th>\n",
       "      <td>1817.000000</td>\n",
       "      <td>0.000000</td>\n",
       "      <td>3.630000e+02</td>\n",
       "      <td>397.000000</td>\n",
       "    </tr>\n",
       "    <tr>\n",
       "      <th>75%</th>\n",
       "      <td>6946.000000</td>\n",
       "      <td>0.000000</td>\n",
       "      <td>1.050000e+03</td>\n",
       "      <td>947.000000</td>\n",
       "    </tr>\n",
       "    <tr>\n",
       "      <th>max</th>\n",
       "      <td>45711.000000</td>\n",
       "      <td>20922.000000</td>\n",
       "      <td>1.163375e+07</td>\n",
       "      <td>250249.000000</td>\n",
       "    </tr>\n",
       "  </tbody>\n",
       "</table>\n",
       "</div>"
      ],
      "text/plain": [
       "            rt_count  favorite_count  user_followers  user_following\n",
       "count  114799.000000   114799.000000    1.147990e+05   114799.000000\n",
       "mean     3574.648168        3.388235    4.315073e+03     1054.818038\n",
       "std      4040.137185      168.659456    8.963428e+04     3123.154158\n",
       "min         0.000000        0.000000    0.000000e+00        0.000000\n",
       "25%        36.000000        0.000000    1.210000e+02      180.000000\n",
       "50%      1817.000000        0.000000    3.630000e+02      397.000000\n",
       "75%      6946.000000        0.000000    1.050000e+03      947.000000\n",
       "max     45711.000000    20922.000000    1.163375e+07   250249.000000"
      ]
     },
     "execution_count": 14,
     "metadata": {},
     "output_type": "execute_result"
    }
   ],
   "source": [
    "# seleciona alguns valores para soma e cálculo de média/mediana e desvio padrão\n",
    "\n",
    "df = tweets\n",
    "values = ['rt_count', 'favorite_count', 'user_followers', 'user_following']\n",
    "types = df.type.unique()\n",
    "\n",
    "describe = df[values].describe() # .to_dict()\n",
    "\n",
    "# for v in describe.keys():\n",
    "#     describe[v]['median'] = df[v].median()\n",
    "    \n",
    "# describe = pd.DataFrame.from_dict(describe)\n",
    "\n",
    "print('\\ntype\\t\\tcount')\n",
    "for t in list(types):\n",
    "    print(t, '  \\t', len(df[df['type'] == t]))\n",
    "\n",
    "describe"
   ]
  },
  {
   "cell_type": "code",
   "execution_count": 15,
   "metadata": {
    "scrolled": false
   },
   "outputs": [
    {
     "data": {
      "text/plain": [
       "(55890, 56)"
      ]
     },
     "execution_count": 15,
     "metadata": {},
     "output_type": "execute_result"
    }
   ],
   "source": [
    "# limpa a 'cauda' e a 'cabeça' do dataset\n",
    "# com base no número de retweets recebidos\n",
    "\n",
    "df = df[df['rt_count'] > 36] # <-- 25%\n",
    "df = df[df['rt_count'] < 6946] # <--- 75%\n",
    "\n",
    "df.shape"
   ]
  },
  {
   "cell_type": "code",
   "execution_count": 16,
   "metadata": {},
   "outputs": [
    {
     "name": "stdout",
     "output_type": "stream",
     "text": [
      "Point locations from Twitter: 39 \n",
      "Approximate locations from GeoNames: 744\n"
     ]
    }
   ],
   "source": [
    "# verifica localizações e adiciona numa lista\n",
    "# para isso, utiliza todos os tweets coletados\n",
    "# por conta da baixa frequência de localizações\n",
    "# anexadas a tweets, e procura por geocoordenadas\n",
    "# no dataset disponibilizado pelo GeoNames\n",
    "\n",
    "locations = []\n",
    "counter_point = 0\n",
    "counter_geomatch = 0\n",
    "\n",
    "for line in tweets.values:\n",
    "    \n",
    "    geo_type = line[7]\n",
    "    place = line[15]\n",
    "    \n",
    "    if geo_type == 'Point':\n",
    "        lat = line[8]\n",
    "        long = line[9]\n",
    "        locations.append([geo_type, lat, long])\n",
    "        counter_point += 1\n",
    "    \n",
    "    elif isinstance(place, str):\n",
    "        city = place.split(',')[0].lower()\n",
    "        country = line[16]\n",
    "        country_code = line[17]\n",
    "        \n",
    "        if country_code in geonames.keys()\\\n",
    "        and city in geonames[country_code].keys():\n",
    "            latitude = geonames[country_code][city][0]\n",
    "            longitude = geonames[country_code][city][1]\n",
    "            geo_type = geonames[country_code][city][2]\n",
    "            locations.append([geo_type, lat, long])\n",
    "            counter_geomatch += 1\n",
    "\n",
    "print('Point locations from Twitter:', counter_point,\n",
    "      '\\nApproximate locations from GeoNames:', counter_geomatch)"
   ]
  },
  {
   "cell_type": "code",
   "execution_count": 17,
   "metadata": {},
   "outputs": [],
   "source": [
    "# verifica top hashtags, datas, usuários, URLs e palavras\n",
    "# e adiciona as linhas de tweets com interação entre usuários\n",
    "# para uma lista com as informações sobre a rede analisada\n",
    "\n",
    "time_format = '%d/%m/%Y'\n",
    "\n",
    "network_hts = []\n",
    "network_rts = []\n",
    "\n",
    "dict_tweets = {}\n",
    "dict_dates = defaultdict(int)\n",
    "dict_hashtags = defaultdict(int)\n",
    "dict_mentions = defaultdict(int)\n",
    "dict_names = defaultdict(int)\n",
    "dict_urls = defaultdict(int)\n",
    "dict_words = defaultdict(int)\n",
    "\n",
    "dict_dates_by_type = defaultdict(lambda:defaultdict(int))\n",
    "\n",
    "for line in df.values:\n",
    "    \n",
    "    timestamp = line[11]\n",
    "    tdate = datetime.utcfromtimestamp(timestamp)\n",
    "    tdate = tdate.strftime(time_format) # <-- convert to daily string\n",
    "    tdate = datetime.strptime(tdate, time_format)\n",
    "    ttype = line[12].lower()\n",
    "    rt_count = line[13]\n",
    "    \n",
    "    hashtags = set()\n",
    "    mentions = set()\n",
    "    names = set()\n",
    "    urls = set()\n",
    "    words = set()\n",
    "    \n",
    "    dict_dates[tdate] += 1\n",
    "    dict_dates_by_type[ttype][tdate] += 1\n",
    "    \n",
    "    text = str(line[0]).replace(',','')\\\n",
    "                       .replace('\\'','')\\\n",
    "                       .replace('\"','')\\\n",
    "                       .replace('\\n','')\\\n",
    "                       .replace('\\r','')\n",
    "\n",
    "    dict_tweets[text] = rt_count\n",
    "    \n",
    "    for word in text.split():\n",
    "        \n",
    "        is_hashtag = word.startswith('#')\n",
    "        \n",
    "        if word.startswith('http'):\n",
    "            urls.add(word)\n",
    "        \n",
    "        elif word.startswith('@'):\n",
    "            mention = findall(r'(?<=@)[a-zA-Z0-9_]+', word)\n",
    "            mentions.add(mention[0])\\\n",
    "                if len(mention) == 1 else None\n",
    "        \n",
    "        else: # common word\n",
    "            str_word = word.lower()\n",
    "            str_word = str_word.translate(ACCENT_REPLACEMENTS)\n",
    "            str_word = ''.join(character for character in str_word if character not in UNDESIRED_CHARACTERS)\n",
    "            if len(str_word)>2\\\n",
    "            and not is_number(str_word)\\\n",
    "            and str_word not in stopwords:\n",
    "                if is_hashtag:\n",
    "                    hashtags.add('#'+str_word)\n",
    "                elif word == word.capitalize():\n",
    "                    names.add(str_word.capitalize())\n",
    "                else: words.add(str_word)\n",
    "    \n",
    "    for h in hashtags:\n",
    "        dict_hashtags[h] += 1\n",
    "    for m in mentions:\n",
    "        dict_mentions[m] += 1\n",
    "    for n in names:\n",
    "        dict_names[n] += 1\n",
    "    for u in urls:\n",
    "        dict_mentions[u] += 1\n",
    "    for w in words:\n",
    "        dict_words[w] += 1\n",
    "    \n",
    "    if len(hashtags) > 1:\n",
    "        for combination in list_combinations(hashtags):\n",
    "            source = combination[0]\n",
    "            target = combination[1]\n",
    "            network_hts.append([source, target])\n",
    "    \n",
    "    if ttype == 'retweet':\n",
    "        source = line[2]  # <-- user retweeting\n",
    "        target = line[29] # <-- retweteed user\n",
    "        network_rts.append([source, target, text, tdate])"
   ]
  },
  {
   "cell_type": "code",
   "execution_count": 18,
   "metadata": {},
   "outputs": [],
   "source": [
    "# converte dicionários para pandas data frames\n",
    "\n",
    "dates_by_type = pd.DataFrame.from_dict(dict_dates_by_type).fillna(0).astype(int)\n",
    "dates = pd.DataFrame.from_dict({'times': dict_dates}).sort_values(by='times', ascending=False)\n",
    "hashtags = pd.DataFrame.from_dict({'times': dict_hashtags}).sort_values(by='times', ascending=False)[:50]\n",
    "mentions = pd.DataFrame.from_dict({'times': dict_mentions}).sort_values(by='times', ascending=False)[:50]\n",
    "names = pd.DataFrame.from_dict({'times': dict_names}).sort_values(by='times', ascending=False)[:50]\n",
    "tweets = pd.DataFrame.from_dict({'times': dict_tweets}).sort_values(by='times', ascending=False)[:50]\n",
    "urls = pd.DataFrame.from_dict({'times': dict_urls}).sort_values(by='times', ascending=False)[:50]\n",
    "words = pd.DataFrame.from_dict({'times': dict_words}).sort_values(by='times', ascending=False)[:50]"
   ]
  },
  {
   "cell_type": "code",
   "execution_count": 19,
   "metadata": {},
   "outputs": [
    {
     "data": {
      "text/html": [
       "<div>\n",
       "<style scoped>\n",
       "    .dataframe tbody tr th:only-of-type {\n",
       "        vertical-align: middle;\n",
       "    }\n",
       "\n",
       "    .dataframe tbody tr th {\n",
       "        vertical-align: top;\n",
       "    }\n",
       "\n",
       "    .dataframe thead th {\n",
       "        text-align: right;\n",
       "    }\n",
       "</style>\n",
       "<table border=\"1\" class=\"dataframe\">\n",
       "  <thead>\n",
       "    <tr style=\"text-align: right;\">\n",
       "      <th></th>\n",
       "      <th>retweet</th>\n",
       "      <th>tweet</th>\n",
       "      <th>reply</th>\n",
       "      <th>quote</th>\n",
       "    </tr>\n",
       "  </thead>\n",
       "  <tbody>\n",
       "    <tr>\n",
       "      <th>2018-12-09</th>\n",
       "      <td>5403</td>\n",
       "      <td>26</td>\n",
       "      <td>2</td>\n",
       "      <td>0</td>\n",
       "    </tr>\n",
       "    <tr>\n",
       "      <th>2018-12-10</th>\n",
       "      <td>6603</td>\n",
       "      <td>13</td>\n",
       "      <td>1</td>\n",
       "      <td>5</td>\n",
       "    </tr>\n",
       "    <tr>\n",
       "      <th>2018-12-11</th>\n",
       "      <td>5564</td>\n",
       "      <td>15</td>\n",
       "      <td>4</td>\n",
       "      <td>0</td>\n",
       "    </tr>\n",
       "    <tr>\n",
       "      <th>2018-12-12</th>\n",
       "      <td>13747</td>\n",
       "      <td>27</td>\n",
       "      <td>1</td>\n",
       "      <td>2</td>\n",
       "    </tr>\n",
       "    <tr>\n",
       "      <th>2018-12-13</th>\n",
       "      <td>13249</td>\n",
       "      <td>21</td>\n",
       "      <td>5</td>\n",
       "      <td>3</td>\n",
       "    </tr>\n",
       "    <tr>\n",
       "      <th>2018-12-14</th>\n",
       "      <td>7486</td>\n",
       "      <td>13</td>\n",
       "      <td>1</td>\n",
       "      <td>3</td>\n",
       "    </tr>\n",
       "    <tr>\n",
       "      <th>2018-12-15</th>\n",
       "      <td>3683</td>\n",
       "      <td>8</td>\n",
       "      <td>2</td>\n",
       "      <td>3</td>\n",
       "    </tr>\n",
       "  </tbody>\n",
       "</table>\n",
       "</div>"
      ],
      "text/plain": [
       "            retweet  tweet  reply  quote\n",
       "2018-12-09     5403     26      2      0\n",
       "2018-12-10     6603     13      1      5\n",
       "2018-12-11     5564     15      4      0\n",
       "2018-12-12    13747     27      1      2\n",
       "2018-12-13    13249     21      5      3\n",
       "2018-12-14     7486     13      1      3\n",
       "2018-12-15     3683      8      2      3"
      ]
     },
     "execution_count": 19,
     "metadata": {},
     "output_type": "execute_result"
    }
   ],
   "source": [
    "# show top dates by type\n",
    "dates_by_type"
   ]
  },
  {
   "cell_type": "code",
   "execution_count": 20,
   "metadata": {},
   "outputs": [
    {
     "data": {
      "text/html": [
       "<div>\n",
       "<style scoped>\n",
       "    .dataframe tbody tr th:only-of-type {\n",
       "        vertical-align: middle;\n",
       "    }\n",
       "\n",
       "    .dataframe tbody tr th {\n",
       "        vertical-align: top;\n",
       "    }\n",
       "\n",
       "    .dataframe thead th {\n",
       "        text-align: right;\n",
       "    }\n",
       "</style>\n",
       "<table border=\"1\" class=\"dataframe\">\n",
       "  <thead>\n",
       "    <tr style=\"text-align: right;\">\n",
       "      <th></th>\n",
       "      <th>times</th>\n",
       "    </tr>\n",
       "  </thead>\n",
       "  <tbody>\n",
       "    <tr>\n",
       "      <th>2018-12-12</th>\n",
       "      <td>13777</td>\n",
       "    </tr>\n",
       "    <tr>\n",
       "      <th>2018-12-13</th>\n",
       "      <td>13278</td>\n",
       "    </tr>\n",
       "    <tr>\n",
       "      <th>2018-12-14</th>\n",
       "      <td>7503</td>\n",
       "    </tr>\n",
       "    <tr>\n",
       "      <th>2018-12-10</th>\n",
       "      <td>6622</td>\n",
       "    </tr>\n",
       "    <tr>\n",
       "      <th>2018-12-11</th>\n",
       "      <td>5583</td>\n",
       "    </tr>\n",
       "    <tr>\n",
       "      <th>2018-12-09</th>\n",
       "      <td>5431</td>\n",
       "    </tr>\n",
       "    <tr>\n",
       "      <th>2018-12-15</th>\n",
       "      <td>3696</td>\n",
       "    </tr>\n",
       "  </tbody>\n",
       "</table>\n",
       "</div>"
      ],
      "text/plain": [
       "            times\n",
       "2018-12-12  13777\n",
       "2018-12-13  13278\n",
       "2018-12-14   7503\n",
       "2018-12-10   6622\n",
       "2018-12-11   5583\n",
       "2018-12-09   5431\n",
       "2018-12-15   3696"
      ]
     },
     "execution_count": 20,
     "metadata": {},
     "output_type": "execute_result"
    }
   ],
   "source": [
    "# show top dates\n",
    "dates"
   ]
  },
  {
   "cell_type": "code",
   "execution_count": 21,
   "metadata": {},
   "outputs": [
    {
     "data": {
      "text/html": [
       "<div>\n",
       "<style scoped>\n",
       "    .dataframe tbody tr th:only-of-type {\n",
       "        vertical-align: middle;\n",
       "    }\n",
       "\n",
       "    .dataframe tbody tr th {\n",
       "        vertical-align: top;\n",
       "    }\n",
       "\n",
       "    .dataframe thead th {\n",
       "        text-align: right;\n",
       "    }\n",
       "</style>\n",
       "<table border=\"1\" class=\"dataframe\">\n",
       "  <thead>\n",
       "    <tr style=\"text-align: right;\">\n",
       "      <th></th>\n",
       "      <th>times</th>\n",
       "    </tr>\n",
       "  </thead>\n",
       "  <tbody>\n",
       "    <tr>\n",
       "      <th>#mataram2semterra</th>\n",
       "      <td>2233</td>\n",
       "    </tr>\n",
       "    <tr>\n",
       "      <th>#euapoiointercept</th>\n",
       "      <td>155</td>\n",
       "    </tr>\n",
       "    <tr>\n",
       "      <th>#primeiroassedio</th>\n",
       "      <td>143</td>\n",
       "    </tr>\n",
       "    <tr>\n",
       "      <th>#meescutetambem</th>\n",
       "      <td>83</td>\n",
       "    </tr>\n",
       "    <tr>\n",
       "      <th>#hearmetoo</th>\n",
       "      <td>82</td>\n",
       "    </tr>\n",
       "  </tbody>\n",
       "</table>\n",
       "</div>"
      ],
      "text/plain": [
       "                   times\n",
       "#mataram2semterra   2233\n",
       "#euapoiointercept    155\n",
       "#primeiroassedio     143\n",
       "#meescutetambem       83\n",
       "#hearmetoo            82"
      ]
     },
     "execution_count": 21,
     "metadata": {},
     "output_type": "execute_result"
    }
   ],
   "source": [
    "# show top hashtags\n",
    "hashtags[:5]"
   ]
  },
  {
   "cell_type": "code",
   "execution_count": 22,
   "metadata": {},
   "outputs": [
    {
     "data": {
      "text/html": [
       "<div>\n",
       "<style scoped>\n",
       "    .dataframe tbody tr th:only-of-type {\n",
       "        vertical-align: middle;\n",
       "    }\n",
       "\n",
       "    .dataframe tbody tr th {\n",
       "        vertical-align: top;\n",
       "    }\n",
       "\n",
       "    .dataframe thead th {\n",
       "        text-align: right;\n",
       "    }\n",
       "</style>\n",
       "<table border=\"1\" class=\"dataframe\">\n",
       "  <thead>\n",
       "    <tr style=\"text-align: right;\">\n",
       "      <th></th>\n",
       "      <th>times</th>\n",
       "    </tr>\n",
       "  </thead>\n",
       "  <tbody>\n",
       "    <tr>\n",
       "      <th>elikatakimoto</th>\n",
       "      <td>4348</td>\n",
       "    </tr>\n",
       "    <tr>\n",
       "      <th>rehventura</th>\n",
       "      <td>3784</td>\n",
       "    </tr>\n",
       "    <tr>\n",
       "      <th>davidmirandario</th>\n",
       "      <td>3410</td>\n",
       "    </tr>\n",
       "    <tr>\n",
       "      <th>gleisi</th>\n",
       "      <td>3381</td>\n",
       "    </tr>\n",
       "    <tr>\n",
       "      <th>bicmuller</th>\n",
       "      <td>2725</td>\n",
       "    </tr>\n",
       "  </tbody>\n",
       "</table>\n",
       "</div>"
      ],
      "text/plain": [
       "                 times\n",
       "elikatakimoto     4348\n",
       "rehventura        3784\n",
       "davidmirandario   3410\n",
       "gleisi            3381\n",
       "bicmuller         2725"
      ]
     },
     "execution_count": 22,
     "metadata": {},
     "output_type": "execute_result"
    }
   ],
   "source": [
    "# show top mentions\n",
    "mentions[:5]"
   ]
  },
  {
   "cell_type": "code",
   "execution_count": 23,
   "metadata": {
    "scrolled": true
   },
   "outputs": [
    {
     "data": {
      "text/html": [
       "<div>\n",
       "<style scoped>\n",
       "    .dataframe tbody tr th:only-of-type {\n",
       "        vertical-align: middle;\n",
       "    }\n",
       "\n",
       "    .dataframe tbody tr th {\n",
       "        vertical-align: top;\n",
       "    }\n",
       "\n",
       "    .dataframe thead th {\n",
       "        text-align: right;\n",
       "    }\n",
       "</style>\n",
       "<table border=\"1\" class=\"dataframe\">\n",
       "  <thead>\n",
       "    <tr style=\"text-align: right;\">\n",
       "      <th></th>\n",
       "      <th>times</th>\n",
       "    </tr>\n",
       "  </thead>\n",
       "  <tbody>\n",
       "    <tr>\n",
       "      <th>RT @Rodrigo_Janot: Um facista é alguém que diz falar por uma nação ou um grupo não se preocupa com os direitos dos outros e está sempre disposto a usar de violência ou qq outros meios necessários para atingir seus objetivos. M. Albright - livro excelente</th>\n",
       "      <td>6422</td>\n",
       "    </tr>\n",
       "    <tr>\n",
       "      <th>RT @calu_barros: A cada 2 segs uma mulher sofre violência doméstica. Ai o playboy acha engraçado dar o nome de Maria da Penha para um lanche e destaca o ingrediente repOLHO ROXO e ainda fala que esta sofrendo censura. Nada demais pra um país q elegeu um cara q diz q feminicidio é vitimismo.</th>\n",
       "      <td>6092</td>\n",
       "    </tr>\n",
       "    <tr>\n",
       "      <th>RT @wespaina: sou contra violencia exceto  tapa na bunda &amp;amp;  fogo nos racista</th>\n",
       "      <td>6018</td>\n",
       "    </tr>\n",
       "    <tr>\n",
       "      <th>RT @juonvictor: Ontem fui vítima de homofobia dentro da minha própria casa mais um gay nas estatísticas de violência doméstica https://t.co/vL4sUs37bA</th>\n",
       "      <td>6001</td>\n",
       "    </tr>\n",
       "    <tr>\n",
       "      <th>A bolsa estupro nada mais é do que obrigar o pai a pagar pensão. Se o pai-estuprador não o fizer o Estado paga.  Essa é a proposta d quem não tem a mínima noção da realidade das mulheres nesse país e q manter essa gravidez pode ser uma violência muito maior.  Nos poupe Damares.</th>\n",
       "      <td>5651</td>\n",
       "    </tr>\n",
       "    <tr>\n",
       "      <th>RT @elikatakimoto: A bolsa estupro nada mais é do que obrigar o pai a pagar pensão. Se o pai-estuprador não o fizer o Estado paga.  Essa é a proposta d quem não tem a mínima noção da realidade das mulheres nesse país e q manter essa gravidez pode ser uma violência muito maior.  Nos poupe Damares.</th>\n",
       "      <td>5651</td>\n",
       "    </tr>\n",
       "    <tr>\n",
       "      <th>RT @mxssone: sou contra violencia exceto tapa na bunda e fogo nos racista</th>\n",
       "      <td>5279</td>\n",
       "    </tr>\n",
       "    <tr>\n",
       "      <th>Bolsa estupro eu não acredito que li isso. Ignoram o trauma a dor a violência contra a mulher e transformam tudo numa mera questão de dinheiro. Que nojo</th>\n",
       "      <td>4831</td>\n",
       "    </tr>\n",
       "    <tr>\n",
       "      <th>RT @rehventura: Bolsa estupro eu não acredito que li isso. Ignoram o trauma a dor a violência contra a mulher e transformam tudo numa mera questão de dinheiro. Que nojo</th>\n",
       "      <td>4831</td>\n",
       "    </tr>\n",
       "    <tr>\n",
       "      <th>RT @nicolegalvezz: violência não resolve nada bUt há aí malta com mta falta de chapada jUsT sAyInG</th>\n",
       "      <td>4566</td>\n",
       "    </tr>\n",
       "  </tbody>\n",
       "</table>\n",
       "</div>"
      ],
      "text/plain": [
       "                                                    times\n",
       "RT @Rodrigo_Janot: Um facista é alguém que diz ...   6422\n",
       "RT @calu_barros: A cada 2 segs uma mulher sofre...   6092\n",
       "RT @wespaina: sou contra violencia exceto  tapa...   6018\n",
       "RT @juonvictor: Ontem fui vítima de homofobia d...   6001\n",
       "A bolsa estupro nada mais é do que obrigar o pa...   5651\n",
       "RT @elikatakimoto: A bolsa estupro nada mais é ...   5651\n",
       "RT @mxssone: sou contra violencia exceto tapa n...   5279\n",
       "Bolsa estupro eu não acredito que li isso. Igno...   4831\n",
       "RT @rehventura: Bolsa estupro eu não acredito q...   4831\n",
       "RT @nicolegalvezz: violência não resolve nada b...   4566"
      ]
     },
     "execution_count": 23,
     "metadata": {},
     "output_type": "execute_result"
    }
   ],
   "source": [
    "# shopw top tweets\n",
    "tweets[:10]"
   ]
  },
  {
   "cell_type": "code",
   "execution_count": 24,
   "metadata": {},
   "outputs": [
    {
     "data": {
      "text/html": [
       "<div>\n",
       "<style scoped>\n",
       "    .dataframe tbody tr th:only-of-type {\n",
       "        vertical-align: middle;\n",
       "    }\n",
       "\n",
       "    .dataframe tbody tr th {\n",
       "        vertical-align: top;\n",
       "    }\n",
       "\n",
       "    .dataframe thead th {\n",
       "        text-align: right;\n",
       "    }\n",
       "</style>\n",
       "<table border=\"1\" class=\"dataframe\">\n",
       "  <thead>\n",
       "    <tr style=\"text-align: right;\">\n",
       "      <th></th>\n",
       "      <th>times</th>\n",
       "    </tr>\n",
       "  </thead>\n",
       "  <tbody>\n",
       "    <tr>\n",
       "      <th>Damares</th>\n",
       "      <td>10233</td>\n",
       "    </tr>\n",
       "    <tr>\n",
       "      <th>Bolsa</th>\n",
       "      <td>8237</td>\n",
       "    </tr>\n",
       "    <tr>\n",
       "      <th>Estado</th>\n",
       "      <td>5853</td>\n",
       "    </tr>\n",
       "    <tr>\n",
       "      <th>Estupro</th>\n",
       "      <td>4316</td>\n",
       "    </tr>\n",
       "    <tr>\n",
       "      <th>Brasil</th>\n",
       "      <td>4203</td>\n",
       "    </tr>\n",
       "  </tbody>\n",
       "</table>\n",
       "</div>"
      ],
      "text/plain": [
       "         times\n",
       "Damares  10233\n",
       "Bolsa     8237\n",
       "Estado    5853\n",
       "Estupro   4316\n",
       "Brasil    4203"
      ]
     },
     "execution_count": 24,
     "metadata": {},
     "output_type": "execute_result"
    }
   ],
   "source": [
    "# show top names\n",
    "names[:5]"
   ]
  },
  {
   "cell_type": "code",
   "execution_count": 25,
   "metadata": {},
   "outputs": [
    {
     "data": {
      "text/html": [
       "<div>\n",
       "<style scoped>\n",
       "    .dataframe tbody tr th:only-of-type {\n",
       "        vertical-align: middle;\n",
       "    }\n",
       "\n",
       "    .dataframe tbody tr th {\n",
       "        vertical-align: top;\n",
       "    }\n",
       "\n",
       "    .dataframe thead th {\n",
       "        text-align: right;\n",
       "    }\n",
       "</style>\n",
       "<table border=\"1\" class=\"dataframe\">\n",
       "  <thead>\n",
       "    <tr style=\"text-align: right;\">\n",
       "      <th></th>\n",
       "      <th>times</th>\n",
       "    </tr>\n",
       "  </thead>\n",
       "  <tbody>\n",
       "    <tr>\n",
       "      <th>violencia</th>\n",
       "      <td>52567</td>\n",
       "    </tr>\n",
       "    <tr>\n",
       "      <th>nao</th>\n",
       "      <td>25943</td>\n",
       "    </tr>\n",
       "    <tr>\n",
       "      <th>mulher</th>\n",
       "      <td>17538</td>\n",
       "    </tr>\n",
       "    <tr>\n",
       "      <th>contra</th>\n",
       "      <td>14591</td>\n",
       "    </tr>\n",
       "    <tr>\n",
       "      <th>estupro</th>\n",
       "      <td>13696</td>\n",
       "    </tr>\n",
       "  </tbody>\n",
       "</table>\n",
       "</div>"
      ],
      "text/plain": [
       "           times\n",
       "violencia  52567\n",
       "nao        25943\n",
       "mulher     17538\n",
       "contra     14591\n",
       "estupro    13696"
      ]
     },
     "execution_count": 25,
     "metadata": {},
     "output_type": "execute_result"
    }
   ],
   "source": [
    "# show top words\n",
    "words[:5]"
   ]
  },
  {
   "cell_type": "code",
   "execution_count": 26,
   "metadata": {},
   "outputs": [],
   "source": [
    "# exporta hashtags e grafo de retweets no formato GDF\n",
    "\n",
    "export_gdf('network_hashtags.gdf', network_hts, directed=False)\n",
    "export_gdf('network_rts.gdf', network_rts, header_edges=['text VARCHAR', 'date VARCHAR'])\n",
    "\n",
    "# exporta localizações em formato CSV (latitude, longitude)\n",
    "\n",
    "location_id = 0\n",
    "with open('locations.csv', 'w', newline='', encoding='utf8') as f:\n",
    "    file_writer = writer(f, delimiter=',', quoting=QUOTE_MINIMAL)\n",
    "    file_writer.writerow(['id', 'latitude', 'longitude', 'geo_type'])\n",
    "    for value in locations:\n",
    "        latitude = value[0]\n",
    "        longitude = value[1]\n",
    "        geo_type = value[2]\n",
    "        file_writer.writerow([location_id, latitude, longitude, geo_type])\n",
    "        location_id += 1\n",
    "\n",
    "#!ls *csv *gdf"
   ]
  },
  {
   "cell_type": "markdown",
   "metadata": {},
   "source": [
    "**Resultado dos mapas após plot no MapBox:**"
   ]
  },
  {
   "cell_type": "code",
   "execution_count": 27,
   "metadata": {},
   "outputs": [],
   "source": [
    "pointmap = mpimg.imread('pointmap.png') # https://api.mapbox.com/styles/v1/n3150n/cjpv919g5127h2smvek9k3vtg.html?fresh=true&title=true&access_token=pk.eyJ1IjoibjMxNTBuIiwiYSI6ImNqcHI0cTZ6ajE2ZGM0NW1kMHB2MWpxdHYifQ.lCZzhOEYKBtawe0QkRxf0A#7.3/-19.902349/-43.654100/0\n",
    "heatmap = mpimg.imread('heatmap.png') # https://api.mapbox.com/styles/v1/n3150n/cjpvgqis718lz2rrszcsj7v9u.html?fresh=true&title=true&access_token=pk.eyJ1IjoibjMxNTBuIiwiYSI6ImNqcHI0cTZ6ajE2ZGM0NW1kMHB2MWpxdHYifQ.lCZzhOEYKBtawe0QkRxf0A#3.9/-13.330158/-47.103696/0"
   ]
  },
  {
   "cell_type": "code",
   "execution_count": 28,
   "metadata": {},
   "outputs": [
    {
     "data": {
      "image/png": "[encoded data removed]",
      "text/plain": [
       "<Figure size 432x288 with 1 Axes>"
      ]
     },
     "metadata": {
      "needs_background": "light"
     },
     "output_type": "display_data"
    }
   ],
   "source": [
    "plt.imshow(pointmap)\n",
    "plt.show();"
   ]
  },
  {
   "cell_type": "code",
   "execution_count": 29,
   "metadata": {},
   "outputs": [
    {
     "data": {
      "image/png": "[encoded data removed]",
      "text/plain": [
       "<Figure size 432x288 with 1 Axes>"
      ]
     },
     "metadata": {
      "needs_background": "light"
     },
     "output_type": "display_data"
    }
   ],
   "source": [
    "plt.imshow(heatmap)\n",
    "plt.show();"
   ]
  },
  {
   "cell_type": "markdown",
   "metadata": {},
   "source": [
    "**Resultado dos grafos após plot no Gephi:**"
   ]
  },
  {
   "cell_type": "code",
   "execution_count": 30,
   "metadata": {
    "scrolled": true
   },
   "outputs": [],
   "source": [
    "hashtags = mpimg.imread('hashtags.png')\n",
    "retweets = mpimg.imread('retweets.png')"
   ]
  },
  {
   "cell_type": "code",
   "execution_count": 31,
   "metadata": {},
   "outputs": [
    {
     "data": {
      "image/png": "[encoded data removed]",
      "text/plain": [
       "<Figure size 432x288 with 1 Axes>"
      ]
     },
     "metadata": {
      "needs_background": "light"
     },
     "output_type": "display_data"
    }
   ],
   "source": [
    "tweets_count = mpimg.imread('tweets_count.png')\n",
    "plt.imshow(tweets_count)\n",
    "plt.show();"
   ]
  },
  {
   "cell_type": "code",
   "execution_count": 32,
   "metadata": {},
   "outputs": [
    {
     "data": {
      "image/png": "[encoded data removed]",
      "text/plain": [
       "<Figure size 432x288 with 1 Axes>"
      ]
     },
     "metadata": {
      "needs_background": "light"
     },
     "output_type": "display_data"
    }
   ],
   "source": [
    "plt.imshow(retweets)\n",
    "plt.show();"
   ]
  },
  {
   "cell_type": "markdown",
   "metadata": {},
   "source": [
    "**Considerações finais**:\n",
    "\n",
    "A partir de algumas funções básicas, foi possível analisar o dataset de cem mil tweets após uma limpeza inicial, em que retiramos as publicações de menor (<25%) e maior (>75%) impacto com base no número de retweets indexado pelo Twitter. Isso pode ser aprimorado, mas permitiu um grafo com menos nós de comportamento de autoridade no resultado final e uma maior legibilidade (projetos finais [disponíveis para download](https://www.dropbox.com/sh/k8wyajd27lo6yke/AADB3ubQrW9uV8fI1SLRbLIha?dl=0))."
   ]
  }
 ],
 "metadata": {
  "kernelspec": {
   "display_name": "Python 3",
   "language": "python",
   "name": "python3"
  },
  "language_info": {
   "codemirror_mode": {
    "name": "ipython",
    "version": 3
   },
   "file_extension": ".py",
   "mimetype": "text/x-python",
   "name": "python",
   "nbconvert_exporter": "python",
   "pygments_lexer": "ipython3",
   "version": "3.6.8"
  }
 },
 "nbformat": 4,
 "nbformat_minor": 2
}
