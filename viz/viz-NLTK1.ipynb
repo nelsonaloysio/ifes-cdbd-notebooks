{
 "cells": [
  {
   "cell_type": "markdown",
   "metadata": {},
   "source": [
    "# Visualização de Dados em Python - parte 2 em sala\n",
    "\n",
    "\n",
    "Neste notebook, vamos praticar o processamento de texto com a Biblioteca NLTK.\n",
    "\n",
    "É importante que ao aluno já tenha feito o download do NLTK anteriormente.\n",
    "\n",
    "Se for necessário acrescentar passos adicionais além daqueles que estão indicados neste notebook, faça isso\n",
    "\n"
   ]
  },
  {
   "cell_type": "markdown",
   "metadata": {},
   "source": [
    "## Carregando o NLTK\n",
    "\n",
    "\n",
    "\n",
    "Faça a importação da biblioteca NLTK."
   ]
  },
  {
   "cell_type": "code",
   "execution_count": null,
   "metadata": {},
   "outputs": [],
   "source": [
    "import nltk"
   ]
  },
  {
   "cell_type": "markdown",
   "metadata": {},
   "source": [
    "# Tokenização \n",
    "\n"
   ]
  },
  {
   "cell_type": "code",
   "execution_count": null,
   "metadata": {},
   "outputs": [],
   "source": [
    "from nltk.tokenize import sent_tokenize, word_tokenize\n",
    " \n",
    "data = '''A Terra tá soterrada de violência; \n",
    "De guerra, de sofrimento, de desespero; \n",
    "A gente tá vendo tudo, tá vendo a gente; \n",
    "1 - Tá vendo, no nosso espelho, na nossa frente; \n",
    "2 - Tá vendo, na nossa frente, aberração;\n",
    "3 - Tá vendo, tá sendo visto, querendo ou não;\n",
    "4 - Tá vendo, no fim do túnel, escuridão.\n",
    "5 - Tá vendo no fim do túnel escuridão.\n",
    "6 - Tá vendo a nossa morte anunciada.\n",
    "7 - Tá vendo a nossa vida valendo nada.\n",
    "8 - Tô vendo, chovendo sangue no meu jardim.\n",
    "9 - Tá lindo o sol caindo, que nem granada.\n",
    "10 - Tá vindo um carro-bomba na contramão.\n",
    "Tá vindo um carro-bomba na contramão.\n",
    "Tá vindo um carro-bomba na contramão.\n",
    "Tá vindo o suicida na direção'''\n",
    "\n",
    "words = word_tokenize(data)\n",
    "print(words)"
   ]
  },
  {
   "cell_type": "markdown",
   "metadata": {},
   "source": [
    "Exercício -> Faça o código que faça a separação das frases da variável data: "
   ]
  },
  {
   "cell_type": "code",
   "execution_count": null,
   "metadata": {
    "scrolled": true
   },
   "outputs": [],
   "source": [
    "\n"
   ]
  },
  {
   "cell_type": "markdown",
   "metadata": {},
   "source": [
    "Uma possibilidade seria saber a frequencia das palavras e plotar algo como um histograma das palavras. Execue o código abaixo:"
   ]
  },
  {
   "cell_type": "code",
   "execution_count": null,
   "metadata": {},
   "outputs": [],
   "source": [
    "from nltk import FreqDist\n",
    "frequencia = FreqDist(words)\n",
    "frequencia"
   ]
  },
  {
   "cell_type": "markdown",
   "metadata": {},
   "source": [
    "O resultado foi uma distribuição, logo, a mesma pode ser plotada como um gráfico. Execute o código a seguir:"
   ]
  },
  {
   "cell_type": "code",
   "execution_count": null,
   "metadata": {},
   "outputs": [],
   "source": [
    "import numpy as np\n",
    "import matplotlib.pyplot as plt\n",
    " \n",
    "palavras = frequencia.keys()\n",
    "y_pos = np.arange(len(palavras))\n",
    "contagem = frequencia.values()\n",
    "plt.bar(y_pos, contagem, align='center', alpha=0.5)\n",
    "plt.xticks(y_pos, palavras)\n",
    "plt.ylabel('Frequencia')\n",
    "plt.title('Frequencia das palavras na frase')\n",
    "plt.show()"
   ]
  },
  {
   "cell_type": "markdown",
   "metadata": {},
   "source": [
    "Só que o gráfico fcou muito carregado. anda temos que trabalhar melhor os dados. "
   ]
  },
  {
   "cell_type": "markdown",
   "metadata": {},
   "source": [
    "## Retirada de Stop Words\n",
    "\n",
    "Execute o código a seguir e verifique quntos e quais são as palavraas consideradas como stop words da bibloteca NLTK. \n",
    "\n"
   ]
  },
  {
   "cell_type": "code",
   "execution_count": null,
   "metadata": {
    "scrolled": true
   },
   "outputs": [],
   "source": [
    "from nltk.corpus import stopwords\n",
    "stopWords = set(stopwords.words('portuguese'))\n",
    "print(len(stopWords))\n",
    "print(stopWords)"
   ]
  },
  {
   "cell_type": "markdown",
   "metadata": {},
   "source": [
    "O código a seguir retira as Stop Words do resultado. "
   ]
  },
  {
   "cell_type": "code",
   "execution_count": null,
   "metadata": {},
   "outputs": [],
   "source": [
    "from nltk.tokenize import sent_tokenize, word_tokenize\n",
    "from nltk.corpus import stopwords\n",
    " \n",
    "stopWords = set(stopwords.words('portuguese'))\n",
    "wordsFiltered = []\n",
    " \n",
    "for w in words:\n",
    "    if w not in stopWords:\n",
    "        wordsFiltered.append(w)\n",
    " \n",
    "print(wordsFiltered)"
   ]
  },
  {
   "cell_type": "markdown",
   "metadata": {},
   "source": [
    "\n",
    "Mesmo assim, ainda ficou com muita nformação. Veja que ainda tem muitas pontuações e dígitos.\n",
    "\n",
    "Execute os dois conjuntos de códigos abaixo, um que retira os números e outro que retira as pontuações. \n",
    "\n"
   ]
  },
  {
   "cell_type": "code",
   "execution_count": null,
   "metadata": {},
   "outputs": [],
   "source": [
    "import re\n",
    "texto = 'O numero da nossa casa 56, apto 306'\n",
    "re.sub('[-|0-9]',' ', texto)\n"
   ]
  },
  {
   "cell_type": "code",
   "execution_count": null,
   "metadata": {},
   "outputs": [],
   "source": [
    "import re\n",
    "texto = \"i'm back baby!!!, Data Science ??;;;()\"\n",
    "re.sub(r'[-./?!,\":;()\\']',' ',texto)"
   ]
  },
  {
   "cell_type": "markdown",
   "metadata": {},
   "source": [
    "# Exercício: \n",
    "\n",
    "\n",
    "Com o que foi mostrado, faça o pré-prcessamento do texto inicial:\n",
    "\n",
    "1) retirando os números, \n",
    "\n",
    "2) retirando as pontuações\n",
    "\n",
    "3) retirando os Stop Words\n",
    "\n",
    "4) Plote o gráfico de frequencia da palavras\n",
    "\n"
   ]
  },
  {
   "cell_type": "code",
   "execution_count": null,
   "metadata": {},
   "outputs": [],
   "source": []
  },
  {
   "cell_type": "code",
   "execution_count": null,
   "metadata": {},
   "outputs": [],
   "source": []
  },
  {
   "cell_type": "markdown",
   "metadata": {},
   "source": [
    "\n",
    "Só que mesmo assim a visualização ficou ruim, não é?\n",
    "\n",
    "\n",
    "Agora vamos mudar o resultado gráfico para nuvem de palavras.\n"
   ]
  },
  {
   "cell_type": "markdown",
   "metadata": {},
   "source": [
    "# Nuvem de Palavras\n",
    "\n"
   ]
  },
  {
   "cell_type": "code",
   "execution_count": null,
   "metadata": {
    "scrolled": true
   },
   "outputs": [],
   "source": [
    "for k,v in frequencia.items():\n",
    "    linha = k+';'+str(v)+';;;;'\n",
    "    print(linha)\n",
    "    \n"
   ]
  },
  {
   "cell_type": "markdown",
   "metadata": {},
   "source": [
    "Veja se ficou asim (só qe cada palavra numa linha, deixei assim, para ocupar menos espaço):\n",
    "\n",
    "terra;1;;;;\n",
    "tá;16;;;;\n",
    "soterrada;1;;;;\n",
    "violência;1;;;;\n",
    "guerra;1;;;;\n",
    "sofrimento;1;;;;\n",
    "desespero;1;;;;\n",
    "gente;2;;;;\n",
    "vendo;10;;;;\n",
    "tudo;1;;;;\n",
    "espelho;1;;;;\n",
    "frente;2;;;;\n",
    "aberração;1;;;;\n",
    "sendo;1;;;;\n",
    "visto;1;;;;\n",
    "querendo;1;;;;\n",
    "fim;2;;;;\n",
    "túnel;2;;;;\n",
    "escuridão;2;;;;\n",
    "morte;1;;;;\n",
    "anunciada;1;;;;\n",
    "vida;1;;;;\n",
    "valendo;1;;;;\n",
    "nada;1;;;;\n",
    "tô;1;;;;\n",
    "chovendo;1;;;;\n",
    "sangue;1;;;;\n",
    "jardim;1;;;;\n",
    "lindo;1;;;;\n",
    "sol;1;;;;\n",
    "caindo;1;;;;\n",
    "granada;1;;;;\n",
    "vindo;4;;;;\n",
    "carro;3;;;;\n",
    "bomba;3;;;;\n",
    "contramão;3;;;;\n",
    "suicida;1;;;;\n",
    "direção;1;;;;"
   ]
  },
  {
   "cell_type": "markdown",
   "metadata": {},
   "source": [
    "## Ferramentas:\n",
    "\n",
    "* Pegue esse resultado e use o WordArt (clique na opção de csv) e gere uma nuvem de palavras. \n",
    "\n",
    "* Pegue o texto inicial e use no WordArt (sem a opção de csv) e gere uma nuvem de palavras.\n",
    "\n",
    "* Pegue o texto inicial e use no WordClouds e gere uma nuvem de palavras.\n",
    "\n",
    "* Compare os resultados.\n"
   ]
  }
 ],
 "metadata": {
  "kernelspec": {
   "display_name": "Python 3",
   "language": "python",
   "name": "python3"
  },
  "language_info": {
   "codemirror_mode": {
    "name": "ipython",
    "version": 3
   },
   "file_extension": ".py",
   "mimetype": "text/x-python",
   "name": "python",
   "nbconvert_exporter": "python",
   "pygments_lexer": "ipython3",
   "version": "3.6.5"
  }
 },
 "nbformat": 4,
 "nbformat_minor": 2
}
