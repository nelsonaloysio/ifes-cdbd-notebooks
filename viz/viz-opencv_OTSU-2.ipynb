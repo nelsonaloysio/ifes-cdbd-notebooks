{
 "cells": [
  {
   "cell_type": "markdown",
   "metadata": {},
   "source": [
    "# Visualização de Dados em Python\n",
    "\n",
    "\n",
    "Neste notebook, vamos praticar a questão de divisão de classes com o método de Otsu. \n",
    "\n",
    "Se for necessário acrescentar passos adicionais além daqueles que estão indicados neste notebook, faça isso.\n"
   ]
  },
  {
   "cell_type": "markdown",
   "metadata": {},
   "source": [
    "## Imagem de Entrada\n",
    "\n",
    "A imagem de entrada \"cameraman.jpg\" está na página da semana no AVA.\n",
    "\n",
    "O código a seguir faz a leitura da imagem e apresenta a imagem lida."
   ]
  },
  {
   "cell_type": "code",
   "execution_count": null,
   "metadata": {},
   "outputs": [],
   "source": [
    "import matplotlib.pyplot as plt\n",
    "import numpy as np\n",
    "\n",
    "image = plt.imread('cameraman.jpg') \n",
    "\n",
    "image.shape\n"
   ]
  },
  {
   "cell_type": "markdown",
   "metadata": {},
   "source": [
    "O shape é interessante para saber o tamanho da matriz. \n",
    "\n",
    "O código a seguir apenas mostra a imagem lida. Confira o tamanho e a localização do ponto (0,0).\n"
   ]
  },
  {
   "cell_type": "code",
   "execution_count": null,
   "metadata": {},
   "outputs": [],
   "source": [
    "plt.imshow(image, cmap='gray' )\n",
    "plt.show()\n"
   ]
  },
  {
   "cell_type": "markdown",
   "metadata": {},
   "source": [
    "A função abaixo implementa o limiar de Otsu. \n"
   ]
  },
  {
   "cell_type": "code",
   "execution_count": null,
   "metadata": {
    "collapsed": true
   },
   "outputs": [],
   "source": [
    "def threshold_otsu(image, nbins=256):\n",
    "    \"\"\"Return threshold value based on Otsu's method.\n",
    "    Parameters\n",
    "    ----------\n",
    "    image : (N, M) ndarray\n",
    "        Grayscale input image.\n",
    "    nbins : int, optional\n",
    "        Number of bins used to calculate histogram. This value is ignored for\n",
    "        integer arrays.\n",
    "    Returns\n",
    "    -------\n",
    "    threshold : float\n",
    "        Upper threshold value. All pixels with an intensity higher than\n",
    "        this value are assumed to be foreground.\n",
    "    Raises\n",
    "    ------\n",
    "    ValueError\n",
    "         If `image` only contains a single grayscale value.\n",
    "    References\n",
    "    ----------\n",
    "    .. [1] Wikipedia, https://en.wikipedia.org/wiki/Otsu's_Method\n",
    "    Examples\n",
    "    --------\n",
    "    >>> from skimage.data import camera\n",
    "    >>> image = camera()\n",
    "    >>> thresh = threshold_otsu(image)\n",
    "    >>> binary = image <= thresh\n",
    "    Notes\n",
    "    -----\n",
    "    The input image must be grayscale.\n",
    "    \"\"\"\n",
    "    if len(image.shape) > 2 and image.shape[-1] in (3, 4):\n",
    "        msg = \"threshold_otsu is expected to work correctly only for \" \\\n",
    "              \"grayscale images; image shape {0} looks like an RGB image\"\n",
    "        print(msg.format(image.shape))\n",
    "\n",
    "    # Check if the image is multi-colored or not\n",
    "    if image.min() == image.max():\n",
    "        raise ValueError(\"threshold_otsu is expected to work with images \"\n",
    "                         \"having more than one color. The input image seems \"\n",
    "                         \"to have just one color {0}.\".format(image.min()))\n",
    "\n",
    "    hi, bin_centers, z = plt.hist(image.ravel(), nbins)\n",
    "    hi = hi.astype(float)\n",
    "\n",
    "    # class probabilities for all possible thresholds\n",
    "    weight1 = np.cumsum(hi)\n",
    "    weight2 = np.cumsum(hi[::-1])[::-1]\n",
    "    # class means for all possible thresholds\n",
    "    mean1 = np.cumsum(hi * bin_centers[0:256]) / weight1\n",
    "    mean2 = (np.cumsum((hi * bin_centers[0:256])[::-1]) / weight2[::-1])[::-1]\n",
    "\n",
    "    # Clip ends to align class 1 and class 2 variables:\n",
    "    # The last value of `weight1`/`mean1` should pair with zero values in\n",
    "    # `weight2`/`mean2`, which do not exist.\n",
    "    variance12 = weight1[:-1] * weight2[1:] * (mean1[:-1] - mean2[1:]) ** 2\n",
    "\n",
    "    idx = np.argmax(variance12)\n",
    "    threshold = bin_centers[:-1][idx]\n",
    "    return threshold"
   ]
  },
  {
   "cell_type": "markdown",
   "metadata": {},
   "source": [
    "O código a seguir chama a função de Otsu e cria uma imagem Black & White. \n",
    "\n",
    "Verifique qual foi o valor do limiar.\n"
   ]
  },
  {
   "cell_type": "code",
   "execution_count": null,
   "metadata": {},
   "outputs": [],
   "source": [
    "thresh = threshold_otsu(image)\n",
    "binary = image > thresh\n",
    "thresh"
   ]
  },
  {
   "cell_type": "markdown",
   "metadata": {},
   "source": [
    "O código abaixo serve para mostrar a imagem original, o histograma com a marcação do limiar e a imagem resultante. \n"
   ]
  },
  {
   "cell_type": "code",
   "execution_count": null,
   "metadata": {},
   "outputs": [],
   "source": [
    "plt.figure(figsize=(8, 2.5))\n",
    "plt.subplot(1, 3, 1)\n",
    "plt.imshow(image, cmap='gray')\n",
    "plt.title('Original')\n",
    "plt.axis('off')\n",
    "\n",
    "plt.subplot(1, 3, 2, aspect='equal')\n",
    "plt.hist(image)\n",
    "plt.title('Histogram')\n",
    "plt.axvline(thresh, color='r')\n",
    "\n",
    "plt.subplot(1, 3, 3)\n",
    "plt.imshow(binary, cmap='gray')\n",
    "plt.title('Thresholded')\n",
    "plt.axis('off')\n",
    "\n",
    "plt.show()"
   ]
  }
 ],
 "metadata": {
  "kernelspec": {
   "display_name": "Python 3",
   "language": "python",
   "name": "python3"
  },
  "language_info": {
   "codemirror_mode": {
    "name": "ipython",
    "version": 3
   },
   "file_extension": ".py",
   "mimetype": "text/x-python",
   "name": "python",
   "nbconvert_exporter": "python",
   "pygments_lexer": "ipython3",
   "version": "3.6.1"
  }
 },
 "nbformat": 4,
 "nbformat_minor": 2
}
