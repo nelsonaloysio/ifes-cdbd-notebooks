{
 "cells": [
  {
   "cell_type": "markdown",
   "metadata": {},
   "source": [
    "# Aula 2: Tarefas"
   ]
  },
  {
   "cell_type": "markdown",
   "metadata": {},
   "source": [
    "Nome completo: Nelson Aloysio Reis de Almeida Passos"
   ]
  },
  {
   "cell_type": "markdown",
   "metadata": {},
   "source": [
    "## 1) Utilização das Ferramentas NetworkX + Pandas"
   ]
  },
  {
   "cell_type": "markdown",
   "metadata": {},
   "source": [
    "Nesta atividade vamos aprender a utilizar a ferramenta NetworkX combinada com o Pandas. \n",
    "\n",
    "1) Utilize os conceitos vistos na aula 2 (Notebook) para fazer processamento do arquivo de uma Rede Complexa PPI. Você deverá:\n",
    "  * Ler o arquivo \"BINARY_PPI.txt\" da rede PPI e armazenar em um DataFrame;\n",
    "  * Remover as linhas do DataFrame que não contenham informações válidas para as arestas. Ou seja, filtre as linhas cujas colunas 'Gene_Symbol' (0 e 3) sejam '-', por exemplo;\n",
    "  * Usando o NetworkX, crie uma rede a partir deste DataFrame filtrado.\n",
    "  * Exiba quantas componentes conexas a rede possui;\n",
    "  * Calcule a maior componente e armazene-a em um grafo que será utilizado a partir de agora para os próximos exercícios.\n"
   ]
  },
  {
   "cell_type": "markdown",
   "metadata": {},
   "source": [
    "#### Importar bibliotecas"
   ]
  },
  {
   "cell_type": "code",
   "execution_count": 14,
   "metadata": {},
   "outputs": [],
   "source": [
    "import collections\n",
    "import matplotlib.pyplot as plt\n",
    "import networkx as nx\n",
    "import pandas as pd\n",
    "\n",
    "%matplotlib inline"
   ]
  },
  {
   "cell_type": "markdown",
   "metadata": {},
   "source": [
    "#### Carregar e filtrar data frame"
   ]
  },
  {
   "cell_type": "code",
   "execution_count": 2,
   "metadata": {
    "scrolled": true
   },
   "outputs": [
    {
     "name": "stdout",
     "output_type": "stream",
     "text": [
      "Old: (39240, 8) \n",
      "New: (39042, 8)\n"
     ]
    }
   ],
   "source": [
    "df = pd.read_csv('BINARY_PPI.txt', delimiter='\\t', header=None)\n",
    "rows = df[(df[0] == '-') | (df[3] == '-')].index.to_list()\n",
    "old_shape = df.shape\n",
    "df.drop(rows, inplace=True)\n",
    "print('Old:', old_shape, '\\nNew:', df.shape)"
   ]
  },
  {
   "cell_type": "markdown",
   "metadata": {},
   "source": [
    "#### Gerar grafo da rede"
   ]
  },
  {
   "cell_type": "code",
   "execution_count": 3,
   "metadata": {
    "scrolled": true
   },
   "outputs": [
    {
     "name": "stdout",
     "output_type": "stream",
     "text": [
      "Edges: 39001\n"
     ]
    }
   ],
   "source": [
    "G = nx.Graph()\n",
    "\n",
    "for r in range(0,len(df)):\n",
    "    u = df.iloc[r][0]\n",
    "    v = df.iloc[r][3]\n",
    "    G.add_edge(u,v)\n",
    "\n",
    "print('Edges:', len(G.edges()))"
   ]
  },
  {
   "cell_type": "markdown",
   "metadata": {},
   "source": [
    "#### Componentes conexas"
   ]
  },
  {
   "cell_type": "code",
   "execution_count": 4,
   "metadata": {
    "scrolled": true
   },
   "outputs": [
    {
     "name": "stdout",
     "output_type": "stream",
     "text": [
      "Clusters: 265\n"
     ]
    }
   ],
   "source": [
    "Graphs = list(nx.connected_component_subgraphs(G))\n",
    "print(\"Clusters:\", len(Graphs))"
   ]
  },
  {
   "cell_type": "markdown",
   "metadata": {},
   "source": [
    "#### Gerar subgrafo do maior componente"
   ]
  },
  {
   "cell_type": "code",
   "execution_count": 5,
   "metadata": {
    "scrolled": true
   },
   "outputs": [],
   "source": [
    "top_graphs = []\n",
    "\n",
    "for i,graph in enumerate(Graphs):\n",
    "    #print('Cluster %d: %d edges' % (i, graph.size()))\n",
    "    top_graphs.append([graph, graph.size()])\n",
    "\n",
    "top_graphs.sort(key=lambda x:x[1], reverse=True)\n",
    "SG = top_graphs[0][0]"
   ]
  },
  {
   "cell_type": "markdown",
   "metadata": {},
   "source": [
    "2) Calculando informações sobre conectividade e grau dos nós:\n",
    "* Calcule os graus dos nós da rede;\n",
    "* Crie uma DataFrame no Pandas contendo as colunas 'Nó' e 'Grau' e ordene o DataFrame pelo Grau, seguido do Nó (ou Seja, Nós com o mesmo grau são ordenados alfabeticamente).\n",
    "* Salve o DataFrame contendo os Nós e Graus."
   ]
  },
  {
   "cell_type": "code",
   "execution_count": 6,
   "metadata": {},
   "outputs": [],
   "source": [
    "deg = nx.degree_centrality(SG)\n",
    "\n",
    "dfnodes = pd.DataFrame.from_dict(deg, orient='index', columns=['Grau'])\n",
    "dfnodes.sort_values('Grau', ascending=False, inplace=True)\n",
    "\n",
    "dfnodes['Nó'] = dfnodes.index\n",
    "dfnodes.index = pd.RangeIndex(len(dfnodes))\n",
    "\n",
    "dfnodes.to_csv('degree.csv', index=False)"
   ]
  },
  {
   "cell_type": "markdown",
   "metadata": {},
   "source": [
    "3) Crie uma função para exibir as informações estatísticas sobre a rede:\n",
    "* ordem;\n",
    "* tamanho;\n",
    "* diâmetro;\n",
    "* grau médio;\n",
    "* percentis do grau (10%, 25%, 50%, 75%, 90%);\n",
    "* histograma do grau.\n",
    "\n",
    "Em seguida, aplique-a para última a rede calculada (a maior componente conexa). "
   ]
  },
  {
   "cell_type": "code",
   "execution_count": 7,
   "metadata": {},
   "outputs": [],
   "source": [
    "def InformacoesRede(G, title=\"Histograma do Grau da Rede\"):\n",
    "    deg = sorted([d for n, d in G.degree()], reverse=True)\n",
    "    pdeg = pd.Series(deg)\n",
    "    order = G.order()\n",
    "    size = G.size()\n",
    "    diameter = nx.diameter(G)\n",
    "    avgdegree = pdeg.sum()/order\n",
    "    p10 = pdeg.quantile(0.1) # 10% percentile\n",
    "    p25 = pdeg.quantile(0.25) # first quartile\n",
    "    p50 = pdeg.quantile(0.5) # same as median\n",
    "    p75 = pdeg.quantile(0.75) # last quartile\n",
    "    p90 = pdeg.quantile(0.9) # 90% percentile\n",
    "    print('Ordem:', order,\n",
    "          '\\nTamanho:', size,\n",
    "          '\\nDiâmetro:', diameter,\n",
    "          '\\nGrau médio:', avgdegree,\n",
    "          '\\nPercentil 10%:', p10,\n",
    "          '\\nPercentil 25%:', p25,\n",
    "          '\\nPercentil 50%:', p50,\n",
    "          '\\nPercentil 75%:', p75,\n",
    "          '\\nPercentil 90%:', p90)\n",
    "    degree_count = collections.Counter(deg)\n",
    "    deg, cnt = zip(*degree_count.items())\n",
    "    fig, ax = plt.subplots(figsize=(10,6))\n",
    "    plt.bar(deg, cnt, width=0.80, color='b')\n",
    "    plt.title(title)\n",
    "    plt.ylabel(\"Nós\")\n",
    "    plt.xlabel(\"Grau\")\n",
    "    ax.set_xticks([d for d in deg])\n",
    "    ax.set_xticklabels(d for d in deg)\n",
    "    plt.plot()"
   ]
  },
  {
   "cell_type": "code",
   "execution_count": 8,
   "metadata": {},
   "outputs": [
    {
     "name": "stdout",
     "output_type": "stream",
     "text": [
      "Ordem: 9205 \n",
      "Tamanho: 38658 \n",
      "Diâmetro: 14 \n",
      "Grau médio: 8.399348180336773 \n",
      "Percentil 10%: 1.0 \n",
      "Percentil 25%: 2.0 \n",
      "Percentil 50%: 4.0 \n",
      "Percentil 75%: 9.0 \n",
      "Percentil 90%: 19.0\n"
     ]
    },
    {
     "data": {
      "image/png": "[encoded data removed]",
      "text/plain": [
       "<Figure size 720x432 with 1 Axes>"
      ]
     },
     "metadata": {
      "needs_background": "light"
     },
     "output_type": "display_data"
    }
   ],
   "source": [
    "InformacoesRede(SG)"
   ]
  },
  {
   "cell_type": "markdown",
   "metadata": {},
   "source": [
    "4) Calculando subgrafos induzidos a partir de um conjunto de nós. Para gerar os subgrafos / subredes, utilize os TOP (nós de maior grau) e armazene-os em diferentes variáveis:\n",
    "\n",
    "* primeiros 50 nós de maior grau\n",
    "* primeiros 250 nós de maior grau\n",
    "* primeiros 500 nós de maior grau\n",
    "* primeiros 1000 nós de maior grau"
   ]
  },
  {
   "cell_type": "code",
   "execution_count": 9,
   "metadata": {},
   "outputs": [],
   "source": [
    "def GetSubgraph(G, n=100):\n",
    "    deg = G.degree()\n",
    "    dict_deg = dict(deg)\n",
    "    df_deg = pd.DataFrame.from_dict(dict_deg, orient='index')\n",
    "    df_deg_sorted = df_deg.sort_values(0, ascending=False)\n",
    "    hubs = df_deg_sorted.head(n)\n",
    "    array = list(hubs[0].keys())\n",
    "    SG = G.subgraph(array)\n",
    "    return SG"
   ]
  },
  {
   "cell_type": "code",
   "execution_count": 10,
   "metadata": {},
   "outputs": [],
   "source": [
    "top_50 = GetSubgraph(SG, 50)\n",
    "top_250 = GetSubgraph(SG, 250)\n",
    "top_500 = GetSubgraph(SG, 500)\n",
    "top_1000 = GetSubgraph(SG, 1000)"
   ]
  },
  {
   "cell_type": "markdown",
   "metadata": {},
   "source": [
    "5) Para as subredes (TOP 50, 250, 500 e 1000) obtidas no exercício 4:\n",
    "* imprima quais são conexas\n",
    "* Para as subredes que NÃO são conexas, calcule e imprima quantas componentes existem na rede e obtenha a maior componente.\n",
    "* utilizando a função desenvolvida no item 3, imprima as informações das subredes (utilizando as maiores componentes nos casos das subredes não conexas). \n"
   ]
  },
  {
   "cell_type": "code",
   "execution_count": 12,
   "metadata": {},
   "outputs": [
    {
     "name": "stdout",
     "output_type": "stream",
     "text": [
      "Top 50 nodes: 2 clusters (largest: 49 nodes)\n",
      "Top 250 nodes: fully connected\n",
      "Top 500 nodes: fully connected\n",
      "Top 1000 nodes: fully connected\n"
     ]
    }
   ],
   "source": [
    "subgraphs = []\n",
    "\n",
    "for g in [top_50, top_250, top_500, top_1000]:\n",
    "    Graphs = list(nx.connected_component_subgraphs(g))\n",
    "    \n",
    "    if len(Graphs) == 1:\n",
    "        print('Top', len(g.nodes()), 'nodes: fully connected')\n",
    "        subgraphs.append(g)\n",
    "    \n",
    "    else: # tem subcomponentes\n",
    "        top_graphs = []\n",
    "    \n",
    "        for i,graph in enumerate(Graphs):\n",
    "            top_graphs.append([graph, graph.size()])\n",
    "        \n",
    "        top_graphs.sort(key=lambda x:x[1], reverse=True)\n",
    "        sg = top_graphs[0][0]\n",
    "        subgraphs.append(sg)        \n",
    "        \n",
    "        print('Top', len(g.nodes()), 'nodes:', len(Graphs),\n",
    "              'clusters (largest:', len(sg.nodes()), 'nodes)')"
   ]
  },
  {
   "cell_type": "code",
   "execution_count": 16,
   "metadata": {
    "scrolled": false
   },
   "outputs": [
    {
     "name": "stdout",
     "output_type": "stream",
     "text": [
      "\n",
      "=> Top 49 nodes\n",
      "Ordem: 49 \n",
      "Tamanho: 304 \n",
      "Diâmetro: 5 \n",
      "Grau médio: 12.408163265306122 \n",
      "Percentil 10%: 6.0 \n",
      "Percentil 25%: 9.0 \n",
      "Percentil 50%: 12.0 \n",
      "Percentil 75%: 17.0 \n",
      "Percentil 90%: 18.200000000000003\n",
      "\n",
      "=> Top 250 nodes\n",
      "Ordem: 250 \n",
      "Tamanho: 2376 \n",
      "Diâmetro: 5 \n",
      "Grau médio: 19.008 \n",
      "Percentil 10%: 6.0 \n",
      "Percentil 25%: 10.0 \n",
      "Percentil 50%: 16.5 \n",
      "Percentil 75%: 25.0 \n",
      "Percentil 90%: 34.099999999999994\n",
      "\n",
      "=> Top 500 nodes\n",
      "Ordem: 500 \n",
      "Tamanho: 5090 \n",
      "Diâmetro: 7 \n",
      "Grau médio: 20.36 \n",
      "Percentil 10%: 7.900000000000006 \n",
      "Percentil 25%: 11.0 \n",
      "Percentil 50%: 17.0 \n",
      "Percentil 75%: 25.0 \n",
      "Percentil 90%: 37.10000000000002\n",
      "\n",
      "=> Top 1000 nodes\n",
      "Ordem: 1000 \n",
      "Tamanho: 9950 \n",
      "Diâmetro: 6 \n",
      "Grau médio: 19.9 \n",
      "Percentil 10%: 8.0 \n",
      "Percentil 25%: 11.0 \n",
      "Percentil 50%: 15.0 \n",
      "Percentil 75%: 23.0 \n",
      "Percentil 90%: 37.10000000000002\n"
     ]
    },
    {
     "data": {
      "image/png": "[encoded data removed]",
      "text/plain": [
       "<Figure size 720x432 with 1 Axes>"
      ]
     },
     "metadata": {
      "needs_background": "light"
     },
     "output_type": "display_data"
    },
    {
     "data": {
      "image/png": "[encoded data removed]",
      "text/plain": [
       "<Figure size 720x432 with 1 Axes>"
      ]
     },
     "metadata": {
      "needs_background": "light"
     },
     "output_type": "display_data"
    },
    {
     "data": {
      "image/png": "[encoded data removed]",
      "text/plain": [
       "<Figure size 720x432 with 1 Axes>"
      ]
     },
     "metadata": {
      "needs_background": "light"
     },
     "output_type": "display_data"
    },
    {
     "data": {
      "image/png": "[encoded data removed]",
      "text/plain": [
       "<Figure size 720x432 with 1 Axes>"
      ]
     },
     "metadata": {
      "needs_background": "light"
     },
     "output_type": "display_data"
    }
   ],
   "source": [
    "for g in subgraphs:\n",
    "    title = str('Top ' + str(len(g.nodes())) + ' nodes')\n",
    "    print('\\n=>', title)\n",
    "    InformacoesRede(g, title=title)"
   ]
  },
  {
   "cell_type": "markdown",
   "metadata": {},
   "source": [
    "## Cytoscape "
   ]
  },
  {
   "cell_type": "markdown",
   "metadata": {},
   "source": [
    "3) Utilizar a rede dos TOP 250 para salvar em dois arquivos (um com as arestas e outro com os nós+Grau). Utilize os arquivos gerados como entrada para o Cytoscape. A rede, de ordem 250, deverá conter os seguintes requisitos:\n",
    "  * Exibir o tamanho dos nós proporcional ao grau.\n",
    "  * Exibir o tamanho das arestas proporcional à média dos graus do par."
   ]
  },
  {
   "cell_type": "code",
   "execution_count": 39,
   "metadata": {},
   "outputs": [],
   "source": [
    "deg = nx.degree_centrality(top_250)\n",
    "\n",
    "dfnodes250 = pd.DataFrame.from_dict(deg, orient='index', columns=['degree'])\n",
    "dfnodes250.sort_values('degree', ascending=False, inplace=True)\n",
    "\n",
    "dfnodes250['name'] = dfnodes250.index\n",
    "dfnodes250.index = pd.RangeIndex(len(dfnodes250))\n",
    "\n",
    "dfnodes250.to_csv('top250_degree.csv', index=False)"
   ]
  },
  {
   "cell_type": "code",
   "execution_count": 40,
   "metadata": {},
   "outputs": [],
   "source": [
    "with open('top250_edges.txt', 'w') as f:\n",
    "    f.write('source\\ttarget\\n')\n",
    "    for u,v in top_250.edges():\n",
    "        f.write(u+'\\t'+v+'\\n')"
   ]
  },
  {
   "cell_type": "markdown",
   "metadata": {},
   "source": [
    "#### Referências"
   ]
  },
  {
   "cell_type": "markdown",
   "metadata": {},
   "source": [
    "* https://networkx.github.io/documentation/stable/auto_examples/drawing/plot_degree_histogram.html"
   ]
  }
 ],
 "metadata": {
  "kernelspec": {
   "display_name": "Python 3",
   "language": "python",
   "name": "python3"
  },
  "language_info": {
   "codemirror_mode": {
    "name": "ipython",
    "version": 3
   },
   "file_extension": ".py",
   "mimetype": "text/x-python",
   "name": "python",
   "nbconvert_exporter": "python",
   "pygments_lexer": "ipython3",
   "version": "3.6.8"
  }
 },
 "nbformat": 4,
 "nbformat_minor": 2
}
