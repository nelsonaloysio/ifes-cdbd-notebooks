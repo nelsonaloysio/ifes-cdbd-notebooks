{
 "cells": [
  {
   "cell_type": "markdown",
   "metadata": {},
   "source": [
    "# Aula 3 - Medidas de Centralidade"
   ]
  },
  {
   "cell_type": "markdown",
   "metadata": {},
   "source": [
    "### Importando as bibliotecas"
   ]
  },
  {
   "cell_type": "code",
   "execution_count": 1,
   "metadata": {},
   "outputs": [],
   "source": [
    "import networkx as nx\n",
    "import numpy as np\n",
    "import pandas as pd\n",
    "import matplotlib.pyplot as plt"
   ]
  },
  {
   "cell_type": "markdown",
   "metadata": {},
   "source": [
    "### Função que calcula o Brokering"
   ]
  },
  {
   "cell_type": "code",
   "execution_count": 2,
   "metadata": {},
   "outputs": [],
   "source": [
    "def BrokeringCentrality(G, normalized=True):\n",
    "    '''\n",
    "    Computes Brokering Centrality for a graph G.\n",
    "    For each node brokering centrality is defined as:\n",
    "        brokering[node] =  (1 - clustering[node]) * degree[node]\n",
    "\n",
    "    Parameters\n",
    "    ----------\n",
    "        G:  networkx graph\n",
    "            Graph to be computed brokering centrality.\n",
    "\n",
    "    Returns\n",
    "    -------\n",
    "        brokering: dictionary\n",
    "                   Dictionary of nodes with brokering centrality as the value.\n",
    "    '''\n",
    "    Degree     = nx.degree_centrality(G)\n",
    "    Clustering = nx.clustering(G)\n",
    "    Brokering  = {}\n",
    "    for node in G.nodes():\n",
    "        Brokering[node] =  (1 - Clustering[node]) * Degree[node]\n",
    "    #\n",
    "    if normalized == True:\n",
    "        NormalizeDict(Brokering)\n",
    "    #\n",
    "    return Brokering"
   ]
  },
  {
   "cell_type": "markdown",
   "metadata": {},
   "source": [
    "### Função que calcula o Bridgeness"
   ]
  },
  {
   "cell_type": "code",
   "execution_count": 3,
   "metadata": {},
   "outputs": [],
   "source": [
    "def BridgenessCentrality(G, Betweenness=None, normalized=True):\n",
    "    '''\n",
    "    Computes Bridgeness Centrality for a graph G.\n",
    "\n",
    "    For each node the bridgeness coefficient is defined as:\n",
    "        bridge_coeff[node] =  (1/degree[node]) / sum(1/degree[neighbors[node]])\n",
    "\n",
    "    The bridgeness centrality of a node is defined as:\n",
    "        Bridgeness[node] = Betweenness(node) * bridge_coeff[node]\n",
    "\n",
    "    Parameters\n",
    "    ----------\n",
    "        G:  networkx graph\n",
    "            Graph to be computed brokering centrality.\n",
    "        Betweenness:    dictionary\n",
    "            Dictionary of nodes with betweenness centrality as value.\n",
    "\n",
    "            Obs: since computing of betweennes can take a lot of time,\n",
    "            it's possible to provide the betweenness as a parameter,\n",
    "            if it was already computed before, to avoid compute it\n",
    "            multiple times.\n",
    "\n",
    "    Returns\n",
    "    -------\n",
    "        Bridgeness: dictionary\n",
    "                    Dictionary of nodes with bridgeness centrality as value.\n",
    "\n",
    "    Note: Only nodes with degree >= 1 will be returned.\n",
    "\n",
    "    '''\n",
    "    if Betweenness is None:\n",
    "        Betweenness = nx.betweenness_centrality(G)\n",
    "    #\n",
    "    Bridgeness = {}\n",
    "    for node in G.nodes():\n",
    "        degree_node = nx.degree(G,node)\n",
    "        if degree_node > 0:\n",
    "            # sum(1/degree[neighbors[node]]\n",
    "            neighbors_degree  = dict(nx.degree(G, nx.neighbors(G, node))).values()\n",
    "            sum_neigh_inv_deg = sum((1.0/d) for d in neighbors_degree)\n",
    "            #\n",
    "            bridge_coeff = (1.0/degree_node) / sum_neigh_inv_deg\n",
    "            #\n",
    "            Bridgeness[node] = Betweenness[node] * bridge_coeff\n",
    "    #\n",
    "    if normalized == True:\n",
    "        NormalizeDict(Bridgeness)\n",
    "    #\n",
    "    return Bridgeness"
   ]
  },
  {
   "cell_type": "markdown",
   "metadata": {},
   "source": [
    "### Função que normaliza o dicionário de valores"
   ]
  },
  {
   "cell_type": "code",
   "execution_count": 4,
   "metadata": {},
   "outputs": [],
   "source": [
    "def NormalizeDict(D):\n",
    "    '''\n",
    "    Normalizes a dictionary of values.\n",
    "    Finds the maximum value of a dictionary and divides all values by it.\n",
    "\n",
    "    Parameters\n",
    "    ----------\n",
    "        D:  dictionary\n",
    "            Dictionary of float numbers as values.\n",
    "\n",
    "    Returns\n",
    "    -------\n",
    "        ND: dictionary\n",
    "            Normalized (in-place) Dictionary with float number as value.\n",
    "    '''\n",
    "    max_d = max(D.values())\n",
    "    for key in D:\n",
    "        D[key] /= max_d"
   ]
  },
  {
   "cell_type": "markdown",
   "metadata": {},
   "source": [
    "### Função que calcula as medidas de centralidade"
   ]
  },
  {
   "cell_type": "code",
   "execution_count": 5,
   "metadata": {},
   "outputs": [],
   "source": [
    "def ComputeCentralityMeasures(G, normalized=False):\n",
    "    '''\n",
    "    Computes centrality measures of a graph G.\n",
    "\n",
    "    Parameters\n",
    "    ----------\n",
    "        G:  networkx graph\n",
    "            Graph to be computed brokering centrality.\n",
    "            G must be in one single component.\n",
    "\n",
    "    Returns\n",
    "    -------\n",
    "        Centrality Measures Dictionaries:\n",
    "            Degree, Betweenness, Closeness,\n",
    "            Clustering, Brokering, Bridgeness\n",
    "    '''\n",
    "    #Degree      = nx.degree_centrality(G)                             #  0s\n",
    "    Degree      = nx.degree(G)                                         #  0s\n",
    "    Clustering  = nx.clustering(G)                                     #  4s\n",
    "    Betweenness = nx.betweenness_centrality(G,normalized=normalized)   #  ~2750s\n",
    "    Closeness   = nx.closeness_centrality(G)                           #  ~800s\n",
    "    \n",
    "    Brokering   = BrokeringCentrality(G,normalized=normalized)         #  ~8s\n",
    "    Bridgeness  = BridgenessCentrality(G,Betweenness=Betweenness,normalized=normalized)\n",
    "    #\n",
    "    # replace code below to use normalize on Pandas\n",
    "    if normalized == True:\n",
    "        NormalizeDict(Degree)\n",
    "        NormalizeDict(Betweenness)\n",
    "        NormalizeDict(Closeness)\n",
    "        NormalizeDict(Clustering)\n",
    "        NormalizeDict(Brokering)\n",
    "        NormalizeDict(Bridgeness)\n",
    "    #\n",
    "    return (Degree, Betweenness, Closeness, Clustering, Brokering, Bridgeness)"
   ]
  },
  {
   "cell_type": "markdown",
   "metadata": {},
   "source": [
    "### Função que escreve as medidas em um arquivo"
   ]
  },
  {
   "cell_type": "code",
   "execution_count": 6,
   "metadata": {},
   "outputs": [],
   "source": [
    "def WriteCentralityMeasures(filename, NodesOrder, Degree, Betweenness,\n",
    "                            Closeness, Clustering, Brokering, Bridgeness):\n",
    "    '''\n",
    "    Writes, in a file, the centrality measures of a graph G.\n",
    "\n",
    "    Parameters\n",
    "    ----------\n",
    "        G:  networkx graph\n",
    "            Graph to be computed brokering centrality.\n",
    "            G must be in one single component.\n",
    "    '''\n",
    "    f = open(filename, 'w+')\n",
    "    f.write('GENE\\tDegree\\tBetweenness\\tCloseness' +\\\n",
    "              '\\tClustering\\tBrokering\\tBridgeness\\n')\n",
    "    for g in NodesOrder:\n",
    "        line = '%s\\t%.15f\\t%.15f\\t%.15f\\t%.15f\\t%.15f\\t%.15f\\n' % (\n",
    "                g, Degree[g], Betweenness[g], Closeness[g],\n",
    "                Clustering[g], Brokering[g], Bridgeness[g])\n",
    "        f.write(line)\n",
    "    f.close()"
   ]
  },
  {
   "cell_type": "markdown",
   "metadata": {},
   "source": [
    "### Função que transforma um dataframe para um grafo"
   ]
  },
  {
   "cell_type": "code",
   "execution_count": 7,
   "metadata": {},
   "outputs": [],
   "source": [
    "def DataFrame2Graph(dataframe):\n",
    "    G = nx.Graph()\n",
    "    for i in range(dataframe.shape[0]):\n",
    "        # retrieve the first and the second column for each line\n",
    "        u,v = dataframe.iloc[i]\n",
    "        # adds the edge (u,v) to the graph \n",
    "        G.add_edge(u,v)\n",
    "    #\n",
    "    return G"
   ]
  },
  {
   "cell_type": "markdown",
   "metadata": {},
   "source": [
    "## Exemplo de Uso"
   ]
  },
  {
   "cell_type": "markdown",
   "metadata": {},
   "source": [
    "### Carrega os arquivos e insere em um DataFrame"
   ]
  },
  {
   "cell_type": "code",
   "execution_count": 8,
   "metadata": {},
   "outputs": [],
   "source": [
    "df1 = pd.read_csv('1a-greenyellow_case.txt', sep=\"\\t\")\n",
    "df2 = pd.read_csv('1b-greenyellow_control.txt', sep=\"\\t\")"
   ]
  },
  {
   "cell_type": "markdown",
   "metadata": {},
   "source": [
    "### Transforma os DataFrames carregados em grafos"
   ]
  },
  {
   "cell_type": "code",
   "execution_count": 9,
   "metadata": {},
   "outputs": [],
   "source": [
    "G1 = DataFrame2Graph(df1)\n",
    "G2 = DataFrame2Graph(df2)"
   ]
  },
  {
   "cell_type": "markdown",
   "metadata": {},
   "source": [
    "### Exemplo de como realizar a chamadas de função para uma medida específica"
   ]
  },
  {
   "cell_type": "code",
   "execution_count": 10,
   "metadata": {},
   "outputs": [],
   "source": [
    "Degree      = nx.degree(G1)"
   ]
  },
  {
   "cell_type": "code",
   "execution_count": 11,
   "metadata": {},
   "outputs": [],
   "source": [
    "Clustering  = nx.clustering(G1)                                     "
   ]
  },
  {
   "cell_type": "code",
   "execution_count": 12,
   "metadata": {},
   "outputs": [],
   "source": [
    "Betweenness = nx.betweenness_centrality(G1,normalized=False)"
   ]
  },
  {
   "cell_type": "code",
   "execution_count": 13,
   "metadata": {},
   "outputs": [],
   "source": [
    "Closeness   = nx.closeness_centrality(G1)                "
   ]
  },
  {
   "cell_type": "code",
   "execution_count": 14,
   "metadata": {},
   "outputs": [],
   "source": [
    "Brokering   = BrokeringCentrality(G1,normalized=False)         "
   ]
  },
  {
   "cell_type": "code",
   "execution_count": 15,
   "metadata": {},
   "outputs": [],
   "source": [
    "Bridgeness  = BridgenessCentrality(G1,Betweenness=Betweenness,normalized=False)"
   ]
  },
  {
   "cell_type": "markdown",
   "metadata": {},
   "source": [
    "### Retorna o resultado do cálculo para cada medida de centralidade"
   ]
  },
  {
   "cell_type": "markdown",
   "metadata": {},
   "source": [
    "#### Resultado para o G1"
   ]
  },
  {
   "cell_type": "code",
   "execution_count": 16,
   "metadata": {},
   "outputs": [],
   "source": [
    "Degree, Betweenness, Closeness, Clustering, \\\n",
    "Brokering, Bridgeness = ComputeCentralityMeasures(G1, normalized=False)"
   ]
  },
  {
   "cell_type": "markdown",
   "metadata": {},
   "source": [
    "#### Resultado para o G2"
   ]
  },
  {
   "cell_type": "code",
   "execution_count": 17,
   "metadata": {},
   "outputs": [],
   "source": [
    "Degree, Betweenness, Closeness, Clustering, \\\n",
    "Brokering, Bridgeness = ComputeCentralityMeasures(G2, normalized=False)"
   ]
  }
 ],
 "metadata": {
  "kernelspec": {
   "display_name": "Python 3",
   "language": "python",
   "name": "python3"
  },
  "language_info": {
   "codemirror_mode": {
    "name": "ipython",
    "version": 3
   },
   "file_extension": ".py",
   "mimetype": "text/x-python",
   "name": "python",
   "nbconvert_exporter": "python",
   "pygments_lexer": "ipython3",
   "version": "3.6.8"
  }
 },
 "nbformat": 4,
 "nbformat_minor": 2
}
