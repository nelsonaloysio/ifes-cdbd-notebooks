{
 "cells": [
  {
   "cell_type": "markdown",
   "metadata": {},
   "source": [
    "# Mineração de dados no Twitter"
   ]
  },
  {
   "cell_type": "markdown",
   "metadata": {},
   "source": [
    "Antes de começar a mineração de dados no twitter, você precisará ter uma conta de desenvolvedor.\n",
    "Caso não tenha, siga o passo a passo abaixo. Nele, contém tudo que você precisa fazer para gerar os tokens de acesso para usar a api do twitter. Após conseguir os seus acessos, guarde as informações e retorne ao notebook."
   ]
  },
  {
   "cell_type": "markdown",
   "metadata": {},
   "source": [
    "## Como criar um app no twitter\n",
    "\n",
    "Primeiro de tudo, você precisa ter um aplicativo no Twitter Apps (https://apps.twitter.com/) para criar seu programa. Isso permitirá você autenticar no Twitter e utilizar sua API.\n",
    "\n",
    "1. Primeiro, acesse o site oficial do Twitter Apps e logue com sua conta do Twitter;\n",
    "* Em seguida, clique em “Create New App” e digite os dados que solicitam, como:\n",
    "    - Nome\n",
    "    - Descrição\n",
    "    - Site.\n",
    "    - Obs: Não se esqueça de aceitar os termos;\n",
    "\n",
    "* Feito isso, você verá seu novo aplicativo surgir na tela principal do site. Agora, clique sobre o nome da sua aplicação para abri-la;\n",
    "\n",
    "* Acesse a seção “Keys and Access Tokens” para localizar seus dados de autenticação. Encontre os seguintes dados:\n",
    "\n",
    "    - Consumer Key (API Key)\n",
    "    - Consumer Secret (API Secret)\n",
    "    - Access Token\n",
    "    - Access Token Secret"
   ]
  },
  {
   "cell_type": "markdown",
   "metadata": {},
   "source": [
    "# Recursos"
   ]
  },
  {
   "cell_type": "markdown",
   "metadata": {},
   "source": [
    "Para manipular a API do twitter, vamos utilizar a bilioteca tweepy.\n",
    "Você pode instalar via pip:\n",
    "```python\n",
    "    pip install tweepy\n",
    "```"
   ]
  },
  {
   "cell_type": "markdown",
   "metadata": {},
   "source": [
    "# Exemplo"
   ]
  },
  {
   "cell_type": "markdown",
   "metadata": {},
   "source": [
    "Utilize o seu gerenciador de pacotes preferido para instalar o Tweepy. Ex:"
   ]
  },
  {
   "cell_type": "code",
   "execution_count": null,
   "metadata": {},
   "outputs": [],
   "source": [
    "#pip install tweepy"
   ]
  },
  {
   "cell_type": "code",
   "execution_count": null,
   "metadata": {},
   "outputs": [],
   "source": [
    "import tweepy\n",
    "import pandas as pd\n",
    "import networkx as nx\n",
    "import matplotlib.pyplot as plt"
   ]
  },
  {
   "cell_type": "markdown",
   "metadata": {},
   "source": [
    "\n",
    "Preencha as variáveis abaixo com as suas credenciais (tokens)."
   ]
  },
  {
   "cell_type": "code",
   "execution_count": null,
   "metadata": {},
   "outputs": [],
   "source": [
    "CONSUMER_KEY = ''\n",
    "CONSUMER_SECRET = ''\n",
    "\n",
    "ACCESS_TOKEN = ''\n",
    "ACCESS_SECRET = ''"
   ]
  },
  {
   "cell_type": "markdown",
   "metadata": {},
   "source": [
    "Realizar a autenticação com suas credenciais."
   ]
  },
  {
   "cell_type": "code",
   "execution_count": null,
   "metadata": {},
   "outputs": [],
   "source": [
    "auth = tweepy.OAuthHandler(CONSUMER_KEY, CONSUMER_SECRET)\n",
    "auth.set_access_token(ACCESS_TOKEN, ACCESS_SECRET)"
   ]
  },
  {
   "cell_type": "markdown",
   "metadata": {},
   "source": [
    "Criar a api para conectar ao twitter com suas credenciais.\n"
   ]
  },
  {
   "cell_type": "code",
   "execution_count": null,
   "metadata": {},
   "outputs": [],
   "source": [
    "api = tweepy.API(auth, wait_on_rate_limit=True, wait_on_rate_limit_notify=True, compression=True)"
   ]
  },
  {
   "cell_type": "markdown",
   "metadata": {},
   "source": [
    "Encontre você mesmo :)"
   ]
  },
  {
   "cell_type": "code",
   "execution_count": null,
   "metadata": {},
   "outputs": [],
   "source": [
    "api.me()"
   ]
  },
  {
   "cell_type": "markdown",
   "metadata": {},
   "source": [
    "Salvar os seus *seguidores* em um arquivo.\n",
    "\n",
    "Obs: Importante salvar algumas informações, pois múltiplas requisições sucessivas podem bloquear seu usuário temporariamente."
   ]
  },
  {
   "cell_type": "code",
   "execution_count": null,
   "metadata": {},
   "outputs": [],
   "source": [
    "arq = open('followers.txt', 'w')\n",
    "\n",
    "texto = \"NODE1\\tID1\\tNODE2\\tID2\\n\"\n",
    "for follower in tweepy.Cursor(api.followers, screen_name=\"screen_name\").items():\n",
    "    texto += str(follower.screen_name) +' \\t' + str(follower.id) + \"\\t\" + str(api.me().screen_name) + \"\\t\" + str(api.me().id) + \"\\n\"    \n",
    "\n",
    "arq.write(texto)\n",
    "arq.close()"
   ]
  },
  {
   "cell_type": "markdown",
   "metadata": {},
   "source": [
    "Salva quem *você segue* (no twitter, são chamados de friends)."
   ]
  },
  {
   "cell_type": "code",
   "execution_count": null,
   "metadata": {},
   "outputs": [],
   "source": [
    "arq = open('following.txt', 'w')\n",
    "\n",
    "texto = \"NODE1\\tID1\\tNODE2\\tID2\\n\"\n",
    "for friend in tweepy.Cursor(api.friends, screen_name=\"screen_name\").items():\n",
    "    texto += str(api.me().screen_name) + \"\\t\" + str(api.me().id) + \"\\t\" + str(friend.screen_name) +' \\t' + str(friend.id) + \"\\n\"    \n",
    "\n",
    "arq.write(texto)\n",
    "arq.close()"
   ]
  },
  {
   "cell_type": "markdown",
   "metadata": {},
   "source": [
    "Para saber sobre a \"amizade\" entre duas pessoas, use o comando abaixo:"
   ]
  },
  {
   "cell_type": "code",
   "execution_count": null,
   "metadata": {},
   "outputs": [],
   "source": [
    "#friendship = api.show_friendship(source_id = api.me().id, target_id = __id_de_outro)"
   ]
  },
  {
   "cell_type": "markdown",
   "metadata": {},
   "source": [
    "## Mostrar Rede de Seguidores/Amigos "
   ]
  },
  {
   "cell_type": "code",
   "execution_count": null,
   "metadata": {},
   "outputs": [],
   "source": [
    "def DataFrame2Graph(dataframe):\n",
    "    G = nx.DiGraph()\n",
    "    for i in range(dataframe.shape[0]):\n",
    "        u,v = dataframe[['NODE1','NODE2']].iloc[i]\n",
    "        G.add_edge(u,v)\n",
    "    return G"
   ]
  },
  {
   "cell_type": "code",
   "execution_count": null,
   "metadata": {},
   "outputs": [],
   "source": [
    "df_friends = pd.read_csv(\"following.txt\", sep=\"\\t\")\n",
    "df_followers = pd.read_csv(\"followers.txt\", sep=\"\\t\")"
   ]
  },
  {
   "cell_type": "code",
   "execution_count": null,
   "metadata": {},
   "outputs": [],
   "source": [
    "G = DataFrame2Graph(df_friends)\n",
    "H = DataFrame2Graph(df_followers)"
   ]
  },
  {
   "cell_type": "code",
   "execution_count": null,
   "metadata": {},
   "outputs": [],
   "source": [
    "nx.draw(G, with_labels = True)\n",
    "plt.show()\n",
    "\n",
    "nx.draw(H, with_labels = True)\n",
    "plt.show()"
   ]
  },
  {
   "cell_type": "code",
   "execution_count": null,
   "metadata": {},
   "outputs": [],
   "source": []
  }
 ],
 "metadata": {
  "kernelspec": {
   "display_name": "Python 3",
   "language": "python",
   "name": "python3"
  },
  "language_info": {
   "codemirror_mode": {
    "name": "ipython",
    "version": 3
   },
   "file_extension": ".py",
   "mimetype": "text/x-python",
   "name": "python",
   "nbconvert_exporter": "python",
   "pygments_lexer": "ipython3",
   "version": "3.5.4"
  }
 },
 "nbformat": 4,
 "nbformat_minor": 2
}
