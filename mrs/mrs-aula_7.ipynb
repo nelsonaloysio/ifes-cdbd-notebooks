{
 "cells": [
  {
   "cell_type": "markdown",
   "metadata": {
    "deletable": true,
    "editable": true
   },
   "source": [
    "# Aula 7: Tarefas"
   ]
  },
  {
   "cell_type": "markdown",
   "metadata": {
    "deletable": true,
    "editable": true
   },
   "source": [
    "Nome completo:"
   ]
  },
  {
   "cell_type": "markdown",
   "metadata": {
    "deletable": true,
    "editable": true
   },
   "source": [
    "### Utilização das dos resultados da tarefa anterior (aula 4)"
   ]
  },
  {
   "cell_type": "markdown",
   "metadata": {
    "deletable": true,
    "editable": true
   },
   "source": [
    "Na tarefa da aula 4 você aprendeu a utilizar a ferramenta NetworkX combinada com o Pandas para:\n",
    "\n",
    "0. calcular as medidas de centralidade\n",
    "    - Degre\n",
    "    - Betweenness\n",
    "    - Closeness\n",
    "    - Clustering\n",
    "    - Brokering\n",
    "    - Bridgeness\n",
    "0. visualização no Cytoscape."
   ]
  },
  {
   "cell_type": "markdown",
   "metadata": {
    "deletable": true,
    "editable": true
   },
   "source": [
    "### Agora, você utilizará os resultados obtidos na tarefa da aula 5 para gerar a atividade desta tarefa (aula 7)."
   ]
  },
  {
   "cell_type": "markdown",
   "metadata": {
    "deletable": true,
    "editable": true
   },
   "source": [
    "---"
   ]
  },
  {
   "cell_type": "markdown",
   "metadata": {
    "deletable": true,
    "editable": true
   },
   "source": [
    "# Manipulação de redes no NetworkX"
   ]
  },
  {
   "cell_type": "markdown",
   "metadata": {
    "deletable": true,
    "editable": true
   },
   "source": [
    "### 1) Composição de Grafos / Redes"
   ]
  },
  {
   "cell_type": "markdown",
   "metadata": {
    "deletable": true,
    "editable": true
   },
   "source": [
    "A composição de grafos é tarefa de integrar / juntar / unir dois ou mais grafos para formar um grafo resultante. Conceitualmente ela é a união dos grafos. Ela preserva os nós e arestas existentes, se o nó existir em mais de um grafo, caso a aresta ou nó exista apenas em um dos grafos esta/este é adicionada/o ao grafo final. A composição pode ser realizada a partir do código abaixo:\n",
    "\n",
    "Exercício: Crie dois grafos _\"toy examples\"_ e aplique a função anterior para testar seu funcionamento. Caso esteja com erro, corrija-o e apresente abaixo o código corrigido."
   ]
  },
  {
   "cell_type": "code",
   "execution_count": 10,
   "metadata": {
    "collapsed": true,
    "deletable": true,
    "editable": true
   },
   "outputs": [],
   "source": [
    "def ComposeGraphs(Graphs):\n",
    "    '''\n",
    "    Constructs a new Graph by integrating all Graphs.\n",
    "\n",
    "    Parameters\n",
    "    ----------\n",
    "        Graphs: List of PPI's Graph.\n",
    "\n",
    "    Returns\n",
    "    -------\n",
    "        G:  Graph\n",
    "            Composing of all interactomes from list Graphs.\n",
    "    '''\n",
    "    G = Graphs[0].__class__()\n",
    "\n",
    "    for H in Graphs:\n",
    "        nodes = (n for n in iter(H.nodes())) # -- py3 Style\n",
    "        G.add_nodes_from(nodes)\n",
    "        edges = ((u,v) for u,v in iter(H.edges()))  # -- py3 Style\n",
    "        G.add_edges_from(edges)\n",
    "\n",
    "    return G\n"
   ]
  },
  {
   "cell_type": "markdown",
   "metadata": {
    "deletable": true,
    "editable": true
   },
   "source": [
    "## Códigos Auxiliares"
   ]
  },
  {
   "cell_type": "code",
   "execution_count": 11,
   "metadata": {
    "collapsed": true,
    "deletable": true,
    "editable": true
   },
   "outputs": [],
   "source": [
    "import pandas as pd\n",
    "import networkx as nx\n",
    "import matplotlib.pyplot as plt\n",
    "\n",
    "def DataFrame2Graph(dataframe):\n",
    "    G = nx.Graph()\n",
    "    for i in range(dataframe.shape[0]):\n",
    "        # retrieve the first and the second column for each line\n",
    "        u,v = dataframe[['node1','node2']].iloc[i]\n",
    "        \n",
    "        # adds the edge (u,v) to the graph \n",
    "        G.add_edge(u,v)\n",
    "    #\n",
    "    return G"
   ]
  },
  {
   "cell_type": "code",
   "execution_count": 12,
   "metadata": {
    "collapsed": true,
    "deletable": true,
    "editable": true
   },
   "outputs": [],
   "source": [
    "df1 = pd.read_csv('BINARY_PPI.txt', sep=\"\\t\", index_col=False)"
   ]
  },
  {
   "cell_type": "code",
   "execution_count": 13,
   "metadata": {
    "collapsed": true,
    "deletable": true,
    "editable": true
   },
   "outputs": [],
   "source": [
    "# remover todos os \"-\" da rede\n",
    "df1.drop(df1[df1.node1 == \"-\"].index, inplace=True)\n",
    "df1.drop(df1[df1.node2 == \"-\"].index, inplace=True)"
   ]
  },
  {
   "cell_type": "code",
   "execution_count": null,
   "metadata": {
    "collapsed": true,
    "deletable": true,
    "editable": true
   },
   "outputs": [],
   "source": [
    "G1 = DataFrame2Graph(df1)"
   ]
  },
  {
   "cell_type": "code",
   "execution_count": null,
   "metadata": {
    "collapsed": true,
    "deletable": true,
    "editable": true
   },
   "outputs": [],
   "source": []
  },
  {
   "cell_type": "code",
   "execution_count": null,
   "metadata": {
    "collapsed": true,
    "deletable": true,
    "editable": true
   },
   "outputs": [],
   "source": [
    "# apenas para conferir manualmente os graus dos nós..\n",
    "df2 = pd.DataFrame.from_dict(dict(G1.degree()), orient='index')\n",
    "df2[df2[0] == 2]"
   ]
  },
  {
   "cell_type": "code",
   "execution_count": null,
   "metadata": {
    "collapsed": true,
    "deletable": true,
    "editable": true
   },
   "outputs": [],
   "source": [
    "G1.neighbor(\"ACP6\")\n",
    "#G1.edges(\"GNG7\")\n",
    "#G1.edges(\"C2orf18\")"
   ]
  },
  {
   "cell_type": "markdown",
   "metadata": {},
   "source": [
    "### 2) Recomendação de amizade"
   ]
  },
  {
   "cell_type": "markdown",
   "metadata": {},
   "source": [
    "Exercício: Crie uma função que, dados o grafo 'G' e um nó 'node', recomende novas \"amizades\" para o nó 'node'. A função deve recomendar o nó  (grau 2) mais frequente entre os amigos e que não seja amigo (grau 1). \n",
    "    "
   ]
  },
  {
   "cell_type": "markdown",
   "metadata": {
    "deletable": true,
    "editable": true
   },
   "source": [
    "### 3) Grau N de separação"
   ]
  },
  {
   "cell_type": "markdown",
   "metadata": {
    "deletable": true,
    "editable": true
   },
   "source": [
    "Exercício: A ideia da função abaixo é, a partir do grafo \"G\" e nó \"node\", retornar os nós que tenham grau 2 de separação do nó \"node\". Aplique a função Abaixo para testar seu funcionamento. Caso esteja com erro, corrija-o e apresente abaixo o código corrigido."
   ]
  },
  {
   "cell_type": "code",
   "execution_count": 23,
   "metadata": {
    "collapsed": true,
    "deletable": true,
    "editable": true
   },
   "outputs": [],
   "source": [
    "def Degree2Sep(G, node):\n",
    "    '''\n",
    "    Expands the nodes set by adding its neighbors to it.\n",
    "    '''\n",
    "    neighbors2 = set() # neighbors with 2-degree separation\n",
    "    for n in G.neighbors(node):\n",
    "            neighbors2 |= set(G.neighbors(n))\n",
    "    #\n",
    "    return neighbors2"
   ]
  },
  {
   "cell_type": "markdown",
   "metadata": {
    "deletable": true,
    "editable": true
   },
   "source": [
    "Altere a função anterior para retornar os nós de um dado grau de separação:"
   ]
  },
  {
   "cell_type": "code",
   "execution_count": 5,
   "metadata": {
    "collapsed": true,
    "deletable": true,
    "editable": true
   },
   "outputs": [],
   "source": [
    "def Degree2Sep(G, node, d):\n",
    "    #\n",
    "    # onde d: separation degree / grau de separacao\n",
    "    # escreva seu código aqui...\n",
    "    #\n",
    "    pass"
   ]
  },
  {
   "cell_type": "code",
   "execution_count": 83,
   "metadata": {
    "collapsed": false,
    "deletable": true,
    "editable": true
   },
   "outputs": [
    {
     "data": {
      "text/plain": [
       "{'ACP5',\n",
       " 'ACP6',\n",
       " 'ALDH2',\n",
       " 'C2orf18',\n",
       " 'GNB1',\n",
       " 'GNB2',\n",
       " 'GNB3',\n",
       " 'GNB4',\n",
       " 'GNB5',\n",
       " 'KIAA0232',\n",
       " 'MPP3',\n",
       " 'MS4A7',\n",
       " 'NDUFA4L2',\n",
       " 'OAT',\n",
       " 'PSMG2',\n",
       " 'SEC11A',\n",
       " 'SEPHS1',\n",
       " 'SERPINH1',\n",
       " 'TBPL1'}"
      ]
     },
     "execution_count": 83,
     "metadata": {},
     "output_type": "execute_result"
    }
   ],
   "source": [
    "# exemplo de uso da função\n",
    "a = Degree2Sep(G1, 'ACP6')\n",
    "a"
   ]
  },
  {
   "cell_type": "markdown",
   "metadata": {},
   "source": []
  },
  {
   "cell_type": "markdown",
   "metadata": {
    "deletable": true,
    "editable": true
   },
   "source": [
    "---"
   ]
  }
 ],
 "metadata": {
  "kernelspec": {
   "display_name": "Python 2",
   "language": "python",
   "name": "python2"
  },
  "language_info": {
   "codemirror_mode": {
    "name": "ipython",
    "version": 2
   },
   "file_extension": ".py",
   "mimetype": "text/x-python",
   "name": "python",
   "nbconvert_exporter": "python",
   "pygments_lexer": "ipython2",
   "version": "2.7.10"
  }
 },
 "nbformat": 4,
 "nbformat_minor": 2
}
