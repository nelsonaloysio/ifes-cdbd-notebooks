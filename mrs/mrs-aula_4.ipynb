{
 "cells": [
  {
   "cell_type": "markdown",
   "metadata": {},
   "source": [
    "# Aula 4: Tarefas"
   ]
  },
  {
   "cell_type": "markdown",
   "metadata": {},
   "source": [
    "Nome completo: Nelson Aloysio Reis de Almeida Passos"
   ]
  },
  {
   "cell_type": "markdown",
   "metadata": {},
   "source": [
    "#### Bibliotecas"
   ]
  },
  {
   "cell_type": "code",
   "execution_count": 23,
   "metadata": {},
   "outputs": [],
   "source": [
    "import collections\n",
    "import matplotlib.pyplot as plt\n",
    "import networkx as nx\n",
    "import numpy as np\n",
    "import pandas as pd"
   ]
  },
  {
   "cell_type": "markdown",
   "metadata": {},
   "source": [
    "#### Funções"
   ]
  },
  {
   "cell_type": "code",
   "execution_count": 2,
   "metadata": {},
   "outputs": [],
   "source": [
    "def BrokeringCentrality(G, normalized=True):\n",
    "    '''\n",
    "    Computes Brokering Centrality for a graph G.\n",
    "    For each node brokering centrality is defined as:\n",
    "        brokering[node] =  (1 - clustering[node]) * degree[node]\n",
    "\n",
    "    Parameters\n",
    "    ----------\n",
    "        G:  networkx graph\n",
    "            Graph to be computed brokering centrality.\n",
    "\n",
    "    Returns\n",
    "    -------\n",
    "        brokering: dictionary\n",
    "                   Dictionary of nodes with brokering centrality as the value.\n",
    "    '''\n",
    "    Degree     = nx.degree_centrality(G)\n",
    "    Clustering = nx.clustering(G)\n",
    "    Brokering  = {}\n",
    "    for node in G.nodes():\n",
    "        Brokering[node] =  (1 - Clustering[node]) * Degree[node]\n",
    "    #\n",
    "    if normalized == True:\n",
    "        NormalizeDict(Brokering)\n",
    "    #\n",
    "    return Brokering"
   ]
  },
  {
   "cell_type": "code",
   "execution_count": 3,
   "metadata": {},
   "outputs": [],
   "source": [
    "def BridgenessCentrality(G, Betweenness=None, normalized=True):\n",
    "    '''\n",
    "    Computes Bridgeness Centrality for a graph G.\n",
    "\n",
    "    For each node the bridgeness coefficient is defined as:\n",
    "        bridge_coeff[node] =  (1/degree[node]) / sum(1/degree[neighbors[node]])\n",
    "\n",
    "    The bridgeness centrality of a node is defined as:\n",
    "        Bridgeness[node] = Betweenness(node) * bridge_coeff[node]\n",
    "\n",
    "    Parameters\n",
    "    ----------\n",
    "        G:  networkx graph\n",
    "            Graph to be computed brokering centrality.\n",
    "        Betweenness:    dictionary\n",
    "            Dictionary of nodes with betweenness centrality as value.\n",
    "\n",
    "            Obs: since computing of betweennes can take a lot of time,\n",
    "            it's possible to provide the betweenness as a parameter,\n",
    "            if it was already computed before, to avoid compute it\n",
    "            multiple times.\n",
    "\n",
    "    Returns\n",
    "    -------\n",
    "        Bridgeness: dictionary\n",
    "                    Dictionary of nodes with bridgeness centrality as value.\n",
    "\n",
    "    Note: Only nodes with degree >= 1 will be returned.\n",
    "\n",
    "    '''\n",
    "    if Betweenness is None:\n",
    "        Betweenness = nx.betweenness_centrality(G)\n",
    "    #\n",
    "    Bridgeness = {}\n",
    "    for node in G.nodes():\n",
    "        degree_node = nx.degree(G,node)\n",
    "        if degree_node > 0:\n",
    "            # sum(1/degree[neighbors[node]]\n",
    "            neighbors_degree  = dict(nx.degree(G, nx.neighbors(G, node))).values()\n",
    "            sum_neigh_inv_deg = sum((1.0/d) for d in neighbors_degree)\n",
    "            #\n",
    "            bridge_coeff = (1.0/degree_node) / sum_neigh_inv_deg\n",
    "            #\n",
    "            Bridgeness[node] = Betweenness[node] * bridge_coeff\n",
    "    #\n",
    "    if normalized == True:\n",
    "        NormalizeDict(Bridgeness)\n",
    "    #\n",
    "    return Bridgeness"
   ]
  },
  {
   "cell_type": "code",
   "execution_count": 4,
   "metadata": {},
   "outputs": [],
   "source": [
    "def NormalizeDict(D):\n",
    "    '''\n",
    "    Normalizes a dictionary of values.\n",
    "    Finds the maximum value of a dictionary and divides all values by it.\n",
    "\n",
    "    Parameters\n",
    "    ----------\n",
    "        D:  dictionary\n",
    "            Dictionary of float numbers as values.\n",
    "\n",
    "    Returns\n",
    "    -------\n",
    "        ND: dictionary\n",
    "            Normalized (in-place) Dictionary with float number as value.\n",
    "    '''\n",
    "    max_d = max(D.values())\n",
    "    for key in D:\n",
    "        D[key] /= max_d"
   ]
  },
  {
   "cell_type": "code",
   "execution_count": 5,
   "metadata": {},
   "outputs": [],
   "source": [
    "def ComputeCentralityMeasures(G, normalized=False):\n",
    "    '''\n",
    "    Computes centrality measures of a graph G.\n",
    "\n",
    "    Parameters\n",
    "    ----------\n",
    "        G:  networkx graph\n",
    "            Graph to be computed brokering centrality.\n",
    "            G must be in one single component.\n",
    "\n",
    "    Returns\n",
    "    -------\n",
    "        Centrality Measures Dictionaries:\n",
    "            Degree, Betweenness, Closeness,\n",
    "            Clustering, Brokering, Bridgeness\n",
    "    '''\n",
    "    #Degree      = nx.degree_centrality(G)                             #  0s\n",
    "    Degree      = nx.degree(G)                                         #  0s\n",
    "    Clustering  = nx.clustering(G)                                     #  4s\n",
    "    Betweenness = nx.betweenness_centrality(G,normalized=normalized)   #  ~2750s\n",
    "    Closeness   = nx.closeness_centrality(G)                           #  ~800s\n",
    "    \n",
    "    Brokering   = BrokeringCentrality(G,normalized=normalized)         #  ~8s\n",
    "    Bridgeness  = BridgenessCentrality(G,Betweenness=Betweenness,normalized=normalized)\n",
    "    #\n",
    "    # replace code below to use normalize on Pandas\n",
    "    if normalized == True:\n",
    "        NormalizeDict(Degree)\n",
    "        NormalizeDict(Betweenness)\n",
    "        NormalizeDict(Closeness)\n",
    "        NormalizeDict(Clustering)\n",
    "        NormalizeDict(Brokering)\n",
    "        NormalizeDict(Bridgeness)\n",
    "    #\n",
    "    return (Degree, Betweenness, Closeness, Clustering, Brokering, Bridgeness)"
   ]
  },
  {
   "cell_type": "code",
   "execution_count": 6,
   "metadata": {},
   "outputs": [],
   "source": [
    "def WriteCentralityMeasures(filename, NodesOrder, Degree, Betweenness,\n",
    "                            Closeness, Clustering, Brokering, Bridgeness):\n",
    "    '''\n",
    "    Writes, in a file, the centrality measures of a graph G.\n",
    "\n",
    "    Parameters\n",
    "    ----------\n",
    "        G:  networkx graph\n",
    "            Graph to be computed brokering centrality.\n",
    "            G must be in one single component.\n",
    "    '''\n",
    "    f = open(filename, 'w+')\n",
    "    f.write('GENE\\tDegree\\tBetweenness\\tCloseness' +\\\n",
    "              '\\tClustering\\tBrokering\\tBridgeness\\n')\n",
    "    for g in NodesOrder:\n",
    "        line = '%s\\t%.15f\\t%.15f\\t%.15f\\t%.15f\\t%.15f\\t%.15f\\n' % (\n",
    "                g, Degree[g], Betweenness[g], Closeness[g],\n",
    "                Clustering[g], Brokering[g], Bridgeness[g])\n",
    "        f.write(line)\n",
    "    f.close()"
   ]
  },
  {
   "cell_type": "code",
   "execution_count": 7,
   "metadata": {},
   "outputs": [],
   "source": [
    "def DataFrame2Graph(dataframe):\n",
    "    G = nx.Graph()\n",
    "    for i in range(dataframe.shape[0]):\n",
    "        # retrieve the first and the second column for each line\n",
    "        u,v = dataframe.iloc[i]\n",
    "        # adds the edge (u,v) to the graph \n",
    "        G.add_edge(u,v)\n",
    "    #\n",
    "    return G"
   ]
  },
  {
   "cell_type": "code",
   "execution_count": 31,
   "metadata": {},
   "outputs": [],
   "source": [
    "def InformacoesRede(G, title=\"Histograma do Grau da Rede\"):\n",
    "    deg = sorted([d for n, d in G.degree()], reverse=True)\n",
    "    pdeg = pd.Series(deg)\n",
    "    density = nx.density(G)\n",
    "    order = G.order()\n",
    "    size = G.size()\n",
    "    diameter = nx.diameter(G)\n",
    "    avgdegree = pdeg.sum()/order\n",
    "#     p10 = pdeg.quantile(0.1) # 10% percentile\n",
    "#     p25 = pdeg.quantile(0.25) # first quartile\n",
    "#     p50 = pdeg.quantile(0.5) # same as median\n",
    "#     p75 = pdeg.quantile(0.75) # last quartile\n",
    "#     p90 = pdeg.quantile(0.9) # 90% percentile\n",
    "    print('Ordem:', order,\n",
    "          '\\nTamanho:', size,\n",
    "          '\\nDiâmetro:', diameter,\n",
    "          '\\nDensidade:', density,\n",
    "          '\\nGrau médio:', avgdegree)\n",
    "#           '\\nPercentil 10%:', p10,\n",
    "#           '\\nPercentil 25%:', p25,\n",
    "#           '\\nPercentil 50%:', p50,\n",
    "#           '\\nPercentil 75%:', p75,\n",
    "#           '\\nPercentil 90%:', p90)\n",
    "    degree_count = collections.Counter(deg)\n",
    "    deg, cnt = zip(*degree_count.items())\n",
    "    fig, ax = plt.subplots(figsize=(10,6))\n",
    "    plt.bar(deg, cnt, width=0.80, color='b')\n",
    "    plt.title(title)\n",
    "    plt.ylabel(\"Nós\")\n",
    "    plt.xlabel(\"Grau\")\n",
    "    ax.set_xticks([d for d in deg])\n",
    "    ax.set_xticklabels(d for d in deg)\n",
    "    plt.plot()"
   ]
  },
  {
   "cell_type": "code",
   "execution_count": 24,
   "metadata": {},
   "outputs": [],
   "source": [
    "def NetworkClusters(G, c=None):\n",
    "    '''\n",
    "    Selects mostly connected network components up to\n",
    "    a limit as subgraphs and returns an array with them\n",
    "    or compose them all into a single graph and return it.\n",
    "    '''\n",
    "    subgraphs = []\n",
    "    topgraphs = []\n",
    "    \n",
    "    Graphs = list(nx.connected_component_subgraphs(G))\n",
    "\n",
    "    for i, graph in enumerate(Graphs):\n",
    "        topgraphs.append([graph, graph.size()])\n",
    "    \n",
    "    topgraphs.sort(key=lambda x:x[1], reverse=True)\n",
    "\n",
    "    for i in range(0,len(topgraphs))[:c]:\n",
    "        sg = topgraphs[i][0]\n",
    "        subgraphs.append(sg)\n",
    "    \n",
    "    return subgraphs"
   ]
  },
  {
   "cell_type": "markdown",
   "metadata": {},
   "source": [
    "### Questão 1"
   ]
  },
  {
   "cell_type": "markdown",
   "metadata": {},
   "source": [
    "1) A partir da questão 5, utilizando a rede obtida do subgrafo induzido com os TOP 250 nós (de maior grau), obtenha a maior componente conexa 'G' e calcule as seguintes medidas:\n",
    "* ordem de G\n",
    "* tamanho de G\n",
    "* diâmetro de G\n",
    "* densidade da rede G\n",
    "* grau médio G\n",
    "* Histograma de distribuição dos Graus de G\n",
    "* calcule as seguintes medidas de centralidade dos vértices de G: <br>\n",
    "    - Degre\n",
    "    - Betweenness\n",
    "    - Closeness\n",
    "    - Clustering\n",
    "    - Brokering\n",
    "    - Bridgeness\n",
    "* utilize o Pandas para salvar um arquivo 'PPI_NODES_TOP250.txt' com as informações de centralidade dos nós de G.\n",
    "* utilize o Pandas para salvar um arquivo 'PPI_EDGES_TOP250.txt' com as informações das arestas de G. ***Apenas como teste***, crie uma coluna a mais (chamada **'weight'**) para informação númerica da **aresta** que seja a média do grau dos respectivos nós. \n"
   ]
  },
  {
   "cell_type": "code",
   "execution_count": 21,
   "metadata": {},
   "outputs": [],
   "source": [
    "df = pd.read_csv('top250_edges.txt', delimiter=\"\\t\")\n",
    "G = DataFrame2Graph(df)\n",
    "G = NetworkClusters(G,1)[0]"
   ]
  },
  {
   "cell_type": "code",
   "execution_count": 32,
   "metadata": {
    "scrolled": false
   },
   "outputs": [
    {
     "name": "stdout",
     "output_type": "stream",
     "text": [
      "Ordem: 250 \n",
      "Tamanho: 2376 \n",
      "Diâmetro: 5 \n",
      "Densidade: 0.07633734939759036 \n",
      "Grau médio: 19.008\n"
     ]
    },
    {
     "data": {
      "image/png": "[encoded data removed]",
      "text/plain": [
       "<Figure size 720x432 with 1 Axes>"
      ]
     },
     "metadata": {
      "needs_background": "light"
     },
     "output_type": "display_data"
    }
   ],
   "source": [
    "InformacoesRede(G)"
   ]
  },
  {
   "cell_type": "code",
   "execution_count": 39,
   "metadata": {},
   "outputs": [
    {
     "name": "stdout",
     "output_type": "stream",
     "text": [
      "GENE\tDegree\tBetweenness\tCloseness\tClustering\tBrokering\tBridgeness\r\n",
      "XRCC6\t16.000000000000000\t165.628937693270927\t0.461111111111111\t0.166666666666667\t0.053547523427041\t12.989921484907670\r\n"
     ]
    }
   ],
   "source": [
    "deg, bet, clo, clu, bro, bri = ComputeCentralityMeasures(G, normalized=False)\n",
    "\n",
    "WriteCentralityMeasures('PPI_NODES_TOP250.txt', list(G.nodes()),\n",
    "                        deg, bet, clo, clu, bro, bri)\n",
    "\n",
    "#!head -n 2 PPI_NODES_TOP250.txt"
   ]
  },
  {
   "cell_type": "code",
   "execution_count": 50,
   "metadata": {},
   "outputs": [
    {
     "name": "stdout",
     "output_type": "stream",
     "text": [
      "source\ttarget\tweight\r\n",
      "XRCC6\tVAV1\t21.5\r\n"
     ]
    }
   ],
   "source": [
    "edges = list(G.edges())\n",
    "\n",
    "with open('PPI_EDGES_TOP250.txt', 'w') as f:\n",
    "    f.write('source\\ttarget\\tweight\\n')\n",
    "    for u,v in edges:\n",
    "        weight = (deg[u]+deg[v])/2 # <-- mean\n",
    "        f.write(u+'\\t'+v+'\\t'+str(weight)+'\\nt')\n",
    "        \n",
    "#!head -n 2 PPI_EDGES_TOP250.txt"
   ]
  },
  {
   "cell_type": "markdown",
   "metadata": {},
   "source": [
    "### Questão 2"
   ]
  },
  {
   "cell_type": "markdown",
   "metadata": {},
   "source": [
    "2) A partir do Grafo G da questão anterior, obtenha um novo grafo R correspondente ao _**Rich Club**_ contendo os 20% dos nós de maior grau. Compare as medidas deste novo grafo:\n",
    "* ordem de H\n",
    "* tamanho de H\n",
    "* diâmetro de H\n",
    "* <b>densidade</b> da rede H\n",
    "* grau médio de H\n",
    "* Histograma de distribuição dos Graus de H\n",
    "* calcule as seguintes medidas de centralidade dos vértices de H: <br>\n",
    "    - Degre\n",
    "    - Betweenness\n",
    "    - Closeness\n",
    "    - Clustering\n",
    "    - Brokering\n",
    "    - Bridgeness"
   ]
  },
  {
   "cell_type": "code",
   "execution_count": 100,
   "metadata": {},
   "outputs": [],
   "source": [
    "# get list of top nodes\n",
    "# sorted by degree centrality\n",
    "aux, top = [], []\n",
    "for key, value in G.degree:\n",
    "    aux.append([key, value])\n",
    "aux.sort(key=lambda x:x[1], reverse=True)\n",
    "for key, value in aux:\n",
    "    top.append(key)"
   ]
  },
  {
   "cell_type": "code",
   "execution_count": 106,
   "metadata": {
    "scrolled": false
   },
   "outputs": [
    {
     "name": "stdout",
     "output_type": "stream",
     "text": [
      "Ordem: 50 \n",
      "Tamanho: 452 \n",
      "Diâmetro: 3 \n",
      "Densidade: 0.3689795918367347 \n",
      "Grau médio: 18.08\n"
     ]
    },
    {
     "data": {
      "image/png": "[encoded data removed]",
      "text/plain": [
       "<Figure size 720x432 with 1 Axes>"
      ]
     },
     "metadata": {
      "needs_background": "light"
     },
     "output_type": "display_data"
    }
   ],
   "source": [
    "n = int((len(G.nodes())*20)/100)\n",
    "R = G.subgraph(top[:n])\n",
    "InformacoesRede(R)"
   ]
  },
  {
   "cell_type": "markdown",
   "metadata": {},
   "source": [
    "# Cytoscape "
   ]
  },
  {
   "cell_type": "markdown",
   "metadata": {},
   "source": [
    "## Questão 3"
   ]
  },
  {
   "cell_type": "markdown",
   "metadata": {},
   "source": [
    "3) Utilize os arquivos 'PPI_NODES_TOP250.txt' e 'PPI_EDGES_TOP250.txt' -- que contém o grafo G (com os TOP 250 nós de maior grau) -- como entrada para a ferramenta de visualização Cytoscape. Apresente uma visualização da rede com as seguintes informações:\n",
    "  * NÓ: exiba o tamanho dos nós (tamanho do objeto, fonte) proporcional ao grau do nó.\n",
    "  * NÓ: exiba a cor do nó em função do Betweenness (espectro variando entre maior valor==>'vermelho' e menor valor==>'verde').\n",
    "  * NÓ: exiba o shape (formato) do nó dos TOP 25 como 'Diamond'.\n",
    "  \n",
    "  * ARESTA: exiba as arestas com espessura proporcional ao seu valor 'weight'.\n",
    "  "
   ]
  },
  {
   "cell_type": "code",
   "execution_count": 90,
   "metadata": {},
   "outputs": [],
   "source": []
  }
 ],
 "metadata": {
  "kernelspec": {
   "display_name": "Python 3",
   "language": "python",
   "name": "python3"
  },
  "language_info": {
   "codemirror_mode": {
    "name": "ipython",
    "version": 3
   },
   "file_extension": ".py",
   "mimetype": "text/x-python",
   "name": "python",
   "nbconvert_exporter": "python",
   "pygments_lexer": "ipython3",
   "version": "3.6.8"
  }
 },
 "nbformat": 4,
 "nbformat_minor": 2
}
