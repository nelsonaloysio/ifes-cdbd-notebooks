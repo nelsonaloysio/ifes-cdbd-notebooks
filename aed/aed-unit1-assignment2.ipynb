{
 "cells": [
  {
   "cell_type": "markdown",
   "metadata": {},
   "source": [
    "# Análise Exploratória de Dados em Python &ndash; Parte 2\n",
    "\n",
    "Agora que já identificamos quais são as proteínas melhores candidatas a indicar algum efeito do tratamento, vamos tentar aprofundar um pouco mais a análise, identificar possíveis correlações e testar a hipótese de que esteja havendo algum efeito no tratamento. (Não necessariamente o efeito desejado de resgatar a capacidade cognitiva dos ratos, isso não poderia ser testado com um teste clínico químico, apenas com testes de habilidade cognitiva.)\n",
    "\n",
    "Se você não fez isso ainda, retorne ao notebook da parte 1 desta tarefa e salve o conjunto de nomes de colunas que foram selecionadas como candidatas. Digamos, em um arquivo chamado `candidate-columns.csv`. Em seguida, **neste** notebook:\n",
    "\n",
    "1. Carrege o arquivo `candidate-columns.csv`;\n",
    "2. Carrege o arquivo `Data_Cortex_Nuclear.xls`;\n",
    "3. Gere um dataframe apenas com o `MouseID` e as columas candidatas.\n"
   ]
  },
  {
   "cell_type": "code",
   "execution_count": 1,
   "metadata": {},
   "outputs": [
    {
     "data": {
      "text/html": [
       "<div>\n",
       "<style scoped>\n",
       "    .dataframe tbody tr th:only-of-type {\n",
       "        vertical-align: middle;\n",
       "    }\n",
       "\n",
       "    .dataframe tbody tr th {\n",
       "        vertical-align: top;\n",
       "    }\n",
       "\n",
       "    .dataframe thead th {\n",
       "        text-align: right;\n",
       "    }\n",
       "</style>\n",
       "<table border=\"1\" class=\"dataframe\">\n",
       "  <thead>\n",
       "    <tr style=\"text-align: right;\">\n",
       "      <th></th>\n",
       "      <th>MouseID</th>\n",
       "      <th>DYRK1A_N</th>\n",
       "      <th>ITSN1_N</th>\n",
       "      <th>NR2A_N</th>\n",
       "      <th>pCAMKII_N</th>\n",
       "      <th>pELK_N</th>\n",
       "      <th>pERK_N</th>\n",
       "      <th>PKCA_N</th>\n",
       "      <th>pNR2A_N</th>\n",
       "      <th>pPKCAB_N</th>\n",
       "      <th>...</th>\n",
       "      <th>BCL2_N</th>\n",
       "      <th>pCFOS_N</th>\n",
       "      <th>H3AcK18_N</th>\n",
       "      <th>EGR1_N</th>\n",
       "      <th>H3MeK4_N</th>\n",
       "      <th>CaNA_N</th>\n",
       "      <th>Genotype</th>\n",
       "      <th>Treatment</th>\n",
       "      <th>Behavior</th>\n",
       "      <th>class</th>\n",
       "    </tr>\n",
       "  </thead>\n",
       "  <tbody>\n",
       "    <tr>\n",
       "      <th>0</th>\n",
       "      <td>309_1</td>\n",
       "      <td>0.503644</td>\n",
       "      <td>0.747193</td>\n",
       "      <td>5.990152</td>\n",
       "      <td>2.373744</td>\n",
       "      <td>1.750936</td>\n",
       "      <td>0.687906</td>\n",
       "      <td>0.402698</td>\n",
       "      <td>0.605673</td>\n",
       "      <td>2.308745</td>\n",
       "      <td>...</td>\n",
       "      <td>0.134762</td>\n",
       "      <td>0.108336</td>\n",
       "      <td>0.114783</td>\n",
       "      <td>0.13179</td>\n",
       "      <td>0.128186</td>\n",
       "      <td>1.675652</td>\n",
       "      <td>Control</td>\n",
       "      <td>Memantine</td>\n",
       "      <td>C/S</td>\n",
       "      <td>c-CS-m</td>\n",
       "    </tr>\n",
       "  </tbody>\n",
       "</table>\n",
       "<p>1 rows × 39 columns</p>\n",
       "</div>"
      ],
      "text/plain": [
       "  MouseID  DYRK1A_N   ITSN1_N    NR2A_N  pCAMKII_N    pELK_N    pERK_N  \\\n",
       "0   309_1  0.503644  0.747193  5.990152   2.373744  1.750936  0.687906   \n",
       "\n",
       "     PKCA_N   pNR2A_N  pPKCAB_N   ...      BCL2_N   pCFOS_N  H3AcK18_N  \\\n",
       "0  0.402698  0.605673  2.308745   ...    0.134762  0.108336   0.114783   \n",
       "\n",
       "    EGR1_N  H3MeK4_N    CaNA_N  Genotype  Treatment  Behavior   class  \n",
       "0  0.13179  0.128186  1.675652   Control  Memantine       C/S  c-CS-m  \n",
       "\n",
       "[1 rows x 39 columns]"
      ]
     },
     "execution_count": 1,
     "metadata": {},
     "output_type": "execute_result"
    }
   ],
   "source": [
    "import numpy as np\n",
    "import pandas as pd\n",
    "import matplotlib.pyplot as plt\n",
    "%matplotlib inline\n",
    "\n",
    "df = pd.read_excel('Data_Cortex_Nuclear.xls')\n",
    "\n",
    "with open('candidate-columns.csv', 'r') as f:\n",
    "    candidate_columns = f.read().splitlines()\n",
    "\n",
    "proteins = df.loc[:, df.dtypes == float].keys().tolist()\n",
    "for i in proteins:\n",
    "    df.pop(i) if i not in candidate_columns else None\n",
    "\n",
    "objects = df.loc[:, df.dtypes == object].keys().tolist()\n",
    "# for i in objects:\n",
    "#     df.pop(i) if i != 'MouseID' else None\n",
    "\n",
    "# fill empty values\n",
    "df = df.fillna(df.mean())\n",
    "\n",
    "df.head(1)"
   ]
  },
  {
   "cell_type": "markdown",
   "metadata": {},
   "source": [
    "### Estrutura de identificação\n",
    "\n",
    "Além de procurar desvios, é importante identificar a estrutura latente nos dados. Existem várias técnicas para realizar isso. A mais simples seria a inspeção visual da distribuição espacial dos pontos de dados. Infelizmente, frequentemente temos muitas dimensões, o que impede o uso de plotagem simples para vizualizar os dados. Neste exercício, provavelmente o conjunto de variáveis candidatas ainda está com uma dezena ou mais de proteínas. Portanto, precisamos de outras técnicas para ter uma idéia da distribuição e estrutura dos dados.\n",
    "\n",
    "Clusterização é uma boa maneira de expor a estrutura nos dados. Algoritmos de clustering hierárquicos são bons porque não é necessário especificar uma contagem de clusteres. Algoritmos de clustering hierárquicos também dão às suas variáveis uma ordem parcial, da qual você pode tirar proveito. Uma boa forma de agrupamento é uma técnica chamada _Hierarchical DBSCAN_ ou _HDBSCAN_. Esta técnica usa o tamanho mínimo do cluster como o único parâmetro e produz clustering discreto e hierárquico.\n",
    "\n",
    "O HDBSCAN (disponível no pacote [hdbscan](https://hdbscan.readthedocs.io/en/latest/api.html)) é um algoritmo de clustering. Ele estende o DBSCAN convertendo-o em um algoritmo de clustering hierárquico e, em seguida, usando uma técnica para extrair um cluster simples baseado na estabilidade de clusters. O DBSCAN (Density-based spatial clustering of applications with noise) é um algoritmo de clusterização de dados. É um algoritmo de clusterização baseado em densidade: dado um conjunto de pontos em algum espaço, agrupa pontos que estão intimamente agrupados (pontos com muitos vizinhos próximos), marcando como outliers (pontos que ficam sozinhos em regiões de baixa densidade vizinhos estão muito longe). O DBSCAN é um dos algoritmos de clusterização mais comuns e também um dos mais citados na literatura científica.\n",
    "\n",
    "**Atenção:** Infelizmente, a biblioteca _hdbscan_ não vem instalada por padrão no Anaconda. Para instalá-la, execute o comando abaixo:\n",
    "```\n",
    "conda install -c conda-forge hdbscan\n",
    "```\n",
    "Veja [esta página](https://pypi.org/project/hdbscan/) para mais detalhes.\n",
    "\n",
    "Há um tutorial de como o HDBSCAN funciona [aqui](https://hdbscan.readthedocs.io/en/latest/api.html). (Não é necessário, por enquanto, entrar na parte de _Build the minimum spanning tree_ do tutorial.)\n",
    "\n",
    "Identificar se existem clusteres, e quanto são eles, e seus tamanhos, nos ajuda a ter uma melhor “visão” da estrutura dos dados. Porém, simplesmente imprimir os clusteres pode não ser muito útil. Talvez seja melhor apenas tentar obter a informação de quantos clusteres de cada tamanho existem.\n",
    "\n",
    "Para exemplificar o uso do HDBSCAN vamos utilziar um conjunto de dados sobre ausências no trabalho, disponível [aqui](https://archive.ics.uci.edu/ml/datasets/Absenteeism+at+work). Agora considere o código abaixo.\n"
   ]
  },
  {
   "cell_type": "code",
   "execution_count": 2,
   "metadata": {},
   "outputs": [
    {
     "data": {
      "text/html": [
       "<div>\n",
       "<style scoped>\n",
       "    .dataframe tbody tr th:only-of-type {\n",
       "        vertical-align: middle;\n",
       "    }\n",
       "\n",
       "    .dataframe tbody tr th {\n",
       "        vertical-align: top;\n",
       "    }\n",
       "\n",
       "    .dataframe thead th {\n",
       "        text-align: right;\n",
       "    }\n",
       "</style>\n",
       "<table border=\"1\" class=\"dataframe\">\n",
       "  <thead>\n",
       "    <tr style=\"text-align: right;\">\n",
       "      <th></th>\n",
       "      <th>ID</th>\n",
       "      <th>Reason for absence</th>\n",
       "      <th>Month of absence</th>\n",
       "      <th>Day of the week</th>\n",
       "      <th>Seasons</th>\n",
       "      <th>Transportation expense</th>\n",
       "      <th>Distance from Residence to Work</th>\n",
       "      <th>Service time</th>\n",
       "      <th>Age</th>\n",
       "      <th>Work load Average/day</th>\n",
       "      <th>...</th>\n",
       "      <th>Disciplinary failure</th>\n",
       "      <th>Education</th>\n",
       "      <th>Son</th>\n",
       "      <th>Social drinker</th>\n",
       "      <th>Social smoker</th>\n",
       "      <th>Pet</th>\n",
       "      <th>Weight</th>\n",
       "      <th>Height</th>\n",
       "      <th>Body mass index</th>\n",
       "      <th>Absenteeism time in hours</th>\n",
       "    </tr>\n",
       "  </thead>\n",
       "  <tbody>\n",
       "    <tr>\n",
       "      <th>0</th>\n",
       "      <td>11</td>\n",
       "      <td>26</td>\n",
       "      <td>7</td>\n",
       "      <td>3</td>\n",
       "      <td>1</td>\n",
       "      <td>289</td>\n",
       "      <td>36</td>\n",
       "      <td>13</td>\n",
       "      <td>33</td>\n",
       "      <td>239.554</td>\n",
       "      <td>...</td>\n",
       "      <td>0</td>\n",
       "      <td>1</td>\n",
       "      <td>2</td>\n",
       "      <td>1</td>\n",
       "      <td>0</td>\n",
       "      <td>1</td>\n",
       "      <td>90</td>\n",
       "      <td>172</td>\n",
       "      <td>30</td>\n",
       "      <td>4</td>\n",
       "    </tr>\n",
       "  </tbody>\n",
       "</table>\n",
       "<p>1 rows × 21 columns</p>\n",
       "</div>"
      ],
      "text/plain": [
       "   ID  Reason for absence  Month of absence  Day of the week  Seasons  \\\n",
       "0  11                  26                 7                3        1   \n",
       "\n",
       "   Transportation expense  Distance from Residence to Work  Service time  Age  \\\n",
       "0                     289                               36            13   33   \n",
       "\n",
       "   Work load Average/day             ...              Disciplinary failure  \\\n",
       "0                 239.554            ...                                 0   \n",
       "\n",
       "   Education  Son  Social drinker  Social smoker  Pet  Weight  Height  \\\n",
       "0          1    2               1              0    1      90     172   \n",
       "\n",
       "   Body mass index  Absenteeism time in hours  \n",
       "0               30                          4  \n",
       "\n",
       "[1 rows x 21 columns]"
      ]
     },
     "execution_count": 2,
     "metadata": {},
     "output_type": "execute_result"
    }
   ],
   "source": [
    "dfaw = pd.read_csv('Absenteeism_at_work.csv', sep=';')\n",
    "dfaw.head(1)"
   ]
  },
  {
   "cell_type": "code",
   "execution_count": 3,
   "metadata": {},
   "outputs": [
    {
     "data": {
      "image/png": "[encoded data removed]",
      "text/plain": [
       "<Figure size 432x288 with 1 Axes>"
      ]
     },
     "metadata": {
      "needs_background": "light"
     },
     "output_type": "display_data"
    }
   ],
   "source": [
    "import hdbscan\n",
    "\n",
    "# Cria uma instância do clusterizador com tamanho mínimo de cluster igual a 25.\n",
    "clust = hdbscan.HDBSCAN(min_cluster_size=25)\n",
    "\n",
    "# Aplica o clusterizador nos dados para identificação dos clusteres.\n",
    "fit_dfaw = clust.fit(dfaw)\n",
    "\n",
    "# Cria uma série de dados contendo o número do cluster e o índice do ponto de \n",
    "# dados no dataset original que pertence àquele cluster. Pontos considerados ruído, \n",
    "# i.e., não associados a nenhum cluster receberão o label `-1`.\n",
    "clusters_base_info = pd.Series(fit_dfaw.labels_, index=dfaw.index)\n",
    "\n",
    "num_bins = len(clusters_base_info.unique())\n",
    "\n",
    "# Mostra, através de um histograma, quais clusteres foram identificados, e quantos \n",
    "# pontos de dados foram atribuídos a cada cluster.\n",
    "plt.hist(clusters_base_info, num_bins, rwidth=0.8, range=(-1.5,(num_bins-2)+0.5))\n",
    "plt.grid(axis='y', alpha=0.75)\n",
    "plt.show()"
   ]
  },
  {
   "cell_type": "markdown",
   "metadata": {},
   "source": [
    "O gráfico acima permite ver que foram identificados 6 clusteres, rotulados de 0 a 6, e que pouco menos de 250 instâncias foram rotuladas como ruído, ou seja, não pertencem a nenhum cluster. Também é possível ver que o maior cluster é o cluster 3, que compreende pouco menos de 200 instâncias."
   ]
  },
  {
   "cell_type": "markdown",
   "metadata": {},
   "source": [
    "Abora experimente com o conjunto de dados com o qual estamos trabalhando, i.e., com o conjunto de dados contendo os dados das proteínas candidatas. Experimente com diferentes valores de tamanho mínimo de cluster e veja se você consegue identifcar a estrutura do nosso conjunto de dados."
   ]
  },
  {
   "cell_type": "code",
   "execution_count": 4,
   "metadata": {},
   "outputs": [
    {
     "data": {
      "image/png": "[encoded data removed]",
      "text/plain": [
       "<Figure size 432x288 with 1 Axes>"
      ]
     },
     "metadata": {
      "needs_background": "light"
     },
     "output_type": "display_data"
    }
   ],
   "source": [
    "clust = hdbscan.HDBSCAN(min_cluster_size=15)\n",
    "fit_df = clust.fit(df.loc[:, df.dtypes == float])\n",
    "clusters_base_info = pd.Series(fit_df.labels_, index=df.index)\n",
    "num_bins = len(clusters_base_info.unique())\n",
    "plt.hist(clusters_base_info, num_bins, rwidth=0.8, range=(-1.5,(num_bins-2)+0.5))\n",
    "plt.grid(axis='y', alpha=0.75)\n",
    "plt.show()"
   ]
  },
  {
   "cell_type": "markdown",
   "metadata": {},
   "source": [
    "Uma vez que tenhamos identificado uma definição de clusteres que pareça adequada, podemos proceder uma pequena inspeção nos elementos de cada cluster. Por exemplo, considere o código abaixo.\n",
    "\n",
    "```\n",
    "mask = interesting_sample_clusters == 0\n",
    "groups = df[mask].join(interesting_sample_clusters).groupby([\"Genotype\", \"Treatment\", \"Behavior\"])\n",
    "groups.count()[[\"cluster\"]]\n",
    "```\n",
    "\n",
    "Esse código cria uma máscara com as instâncias que pertencem ao cluster 0 (supondo que os dados com os labels dos clusteres foram gerado como o exemplo do histograma acima, e gravado na série `interesting_sample_clusters`). Em seguida usa esta máscara para fazer o `groupby` apenas destas instâncias, agrupando por `Genotype`, por `Treatment`, e por `Behavior`. Finalmente, o código gera uma tabela com as quantidades de instâncias em cada combinação destes três atributos.\n",
    "\n",
    "Execute a operação indicada, e veja se é possível inferir algum tipo de padrão nos clusteres que foram identificados."
   ]
  },
  {
   "cell_type": "code",
   "execution_count": 5,
   "metadata": {},
   "outputs": [
    {
     "data": {
      "text/html": [
       "<div>\n",
       "<style scoped>\n",
       "    .dataframe tbody tr th:only-of-type {\n",
       "        vertical-align: middle;\n",
       "    }\n",
       "\n",
       "    .dataframe tbody tr th {\n",
       "        vertical-align: top;\n",
       "    }\n",
       "\n",
       "    .dataframe thead th {\n",
       "        text-align: right;\n",
       "    }\n",
       "</style>\n",
       "<table border=\"1\" class=\"dataframe\">\n",
       "  <thead>\n",
       "    <tr style=\"text-align: right;\">\n",
       "      <th></th>\n",
       "      <th>-1</th>\n",
       "      <th>0</th>\n",
       "      <th>1</th>\n",
       "      <th>2</th>\n",
       "    </tr>\n",
       "  </thead>\n",
       "  <tbody>\n",
       "    <tr>\n",
       "      <th>Control Memantine C/S</th>\n",
       "      <td>138</td>\n",
       "      <td>9</td>\n",
       "      <td>2.0</td>\n",
       "      <td>1.0</td>\n",
       "    </tr>\n",
       "    <tr>\n",
       "      <th>Control Memantine S/C</th>\n",
       "      <td>31</td>\n",
       "      <td>119</td>\n",
       "      <td>NaN</td>\n",
       "      <td>NaN</td>\n",
       "    </tr>\n",
       "    <tr>\n",
       "      <th>Control Saline C/S</th>\n",
       "      <td>115</td>\n",
       "      <td>1</td>\n",
       "      <td>19.0</td>\n",
       "      <td>NaN</td>\n",
       "    </tr>\n",
       "    <tr>\n",
       "      <th>Control Saline S/C</th>\n",
       "      <td>61</td>\n",
       "      <td>74</td>\n",
       "      <td>NaN</td>\n",
       "      <td>NaN</td>\n",
       "    </tr>\n",
       "    <tr>\n",
       "      <th>Ts65Dn Memantine C/S</th>\n",
       "      <td>94</td>\n",
       "      <td>14</td>\n",
       "      <td>26.0</td>\n",
       "      <td>1.0</td>\n",
       "    </tr>\n",
       "    <tr>\n",
       "      <th>Ts65Dn Memantine S/C</th>\n",
       "      <td>61</td>\n",
       "      <td>74</td>\n",
       "      <td>NaN</td>\n",
       "      <td>NaN</td>\n",
       "    </tr>\n",
       "    <tr>\n",
       "      <th>Ts65Dn Saline C/S</th>\n",
       "      <td>87</td>\n",
       "      <td>6</td>\n",
       "      <td>12.0</td>\n",
       "      <td>NaN</td>\n",
       "    </tr>\n",
       "    <tr>\n",
       "      <th>Ts65Dn Saline S/C</th>\n",
       "      <td>93</td>\n",
       "      <td>17</td>\n",
       "      <td>NaN</td>\n",
       "      <td>25.0</td>\n",
       "    </tr>\n",
       "  </tbody>\n",
       "</table>\n",
       "</div>"
      ],
      "text/plain": [
       "                        -1    0     1     2\n",
       "Control Memantine C/S  138    9   2.0   1.0\n",
       "Control Memantine S/C   31  119   NaN   NaN\n",
       "Control Saline C/S     115    1  19.0   NaN\n",
       "Control Saline S/C      61   74   NaN   NaN\n",
       "Ts65Dn Memantine C/S    94   14  26.0   1.0\n",
       "Ts65Dn Memantine S/C    61   74   NaN   NaN\n",
       "Ts65Dn Saline C/S       87    6  12.0   NaN\n",
       "Ts65Dn Saline S/C       93   17   NaN  25.0"
      ]
     },
     "execution_count": 5,
     "metadata": {},
     "output_type": "execute_result"
    }
   ],
   "source": [
    "from collections import defaultdict\n",
    "\n",
    "clusters = sorted(clusters_base_info.unique().tolist())\n",
    "dict_clusters = defaultdict(dict)\n",
    "\n",
    "for cluster in clusters:\n",
    "    mask = clusters_base_info == cluster\n",
    "    groups = df[mask].join(clusters_base_info.to_frame())\\\n",
    "                     .groupby([\"Genotype\", \"Treatment\", \"Behavior\"]) # <-- precisei adicionar .to_frame()\n",
    "    # print('\\n:: Cluster', cluster, '\\n', groups.count()[[0]][0])\n",
    "    for i in groups.count()[[0]][0].items():\n",
    "        key = str(i[0])[2:-2].replace(\"', '\", ' ')\n",
    "        dict_clusters[cluster][key] = i[1]\n",
    "\n",
    "df_clusters = pd.DataFrame.from_dict(dict_clusters)\n",
    "df_clusters\n",
    "    \n",
    "# Genotype: control (c) or trisomy (t)\n",
    "# Treatment type: memantine (m) or saline (s)\n",
    "# Behavior: context-shock (CS; stimulated to learn) or shock-context (SC; not stimulated to learn)\n",
    "# Class: c-CS-s, c-CS-m, c-SC-s, c-SC-m, t-CS-s, t-CS-m, t-SC-s, t-SC-m "
   ]
  },
  {
   "cell_type": "markdown",
   "metadata": {},
   "source": [
    "Descreva que tipo de intuição você pode tirar das informações mostradas pelos quadros que foram gerados acima. Como você acha que esta intuição pode ajudar a determinar se o tratamento está tendo algum efeito ou não?"
   ]
  },
  {
   "cell_type": "markdown",
   "metadata": {},
   "source": [
    "**Resposta:** No cluster 0 identificado, notam-se níveis maiores em ratos com trissomia que foram administrados com memantina, quando comparados com ratos injetados com solução salina, tanto no grupo de aprendizado estimulado quanto no grupo não estimulado."
   ]
  },
  {
   "cell_type": "markdown",
   "metadata": {},
   "source": [
    "A esta altura, devemos ter chegado a um conjunto relativamente restrito de variáveis em nosso conjunto de dados. O próximo passo é calcular a **matriz de covariância** e desenhá-la, para ver se há correlações entre as variáveis que sobraram."
   ]
  },
  {
   "cell_type": "code",
   "execution_count": 6,
   "metadata": {},
   "outputs": [
    {
     "data": {
      "text/plain": [
       "<matplotlib.axes._subplots.AxesSubplot at 0x7fdb19f88630>"
      ]
     },
     "execution_count": 6,
     "metadata": {},
     "output_type": "execute_result"
    },
    {
     "data": {
      "image/png": "[encoded data removed]",
      "text/plain": [
       "<Figure size 792x648 with 2 Axes>"
      ]
     },
     "metadata": {
      "needs_background": "light"
     },
     "output_type": "display_data"
    }
   ],
   "source": [
    "import seaborn as sns\n",
    "df_num = df[mask] # <-- seria isso mesmo..?\n",
    "df_corr = df_num.corr()\n",
    "f, ax = plt.subplots(figsize=(11, 9))\n",
    "cmap = sns.diverging_palette(220, 10, as_cmap=True)\n",
    "sns.heatmap(df_corr, cmap=cmap, center=0, linewidths=0.5)"
   ]
  },
  {
   "cell_type": "markdown",
   "metadata": {},
   "source": [
    "Com a informação da covariância entre os atributos, como isso influencia no teste de hipóteses?"
   ]
  },
  {
   "cell_type": "markdown",
   "metadata": {},
   "source": [
    "**Resposta:**\n",
    "\n",
    "As proteínas identificadas com alta covariância entre si indicam prováveis candidatas a efeitos experimentais."
   ]
  },
  {
   "cell_type": "markdown",
   "metadata": {},
   "source": [
    "Qual será a sua hipótese nula, $H_0$? E qual será a hipótese alternativa? Que método você pretende usar para testar estas hipóteses?"
   ]
  },
  {
   "cell_type": "markdown",
   "metadata": {},
   "source": [
    "**Resposta:**\n",
    "\n",
    "A hipótese nula (H0) é de que os tratamentos são equivalentes e diferenças entre os grupos são devidas ao acaso. A hipótese alternativa (Ha) é de que os resultados para os grupos são mais diferentes do que aleatoriamente seria possível. Para testá-las, propõe-se um teste de permutação."
   ]
  },
  {
   "cell_type": "markdown",
   "metadata": {},
   "source": [
    "Agora, implemente o teste da hipótese e escreva suas conclusões finais."
   ]
  },
  {
   "cell_type": "code",
   "execution_count": 7,
   "metadata": {},
   "outputs": [
    {
     "name": "stdout",
     "output_type": "stream",
     "text": [
      "pCAMKII_N    \t null hypothesis rejected (p < alpha 0.05)\n",
      "pNR2A_N    \t null hypothesis rejected (p < alpha 0.05)\n",
      "ELK_N    \t null hypothesis rejected (p < alpha 0.05)\n",
      "RSK_N    \t null hypothesis rejected (p < alpha 0.05)\n",
      "SOD1_N    \t null hypothesis rejected (p < alpha 0.05)\n",
      "P38_N    \t null hypothesis rejected (p < alpha 0.05)\n",
      "AMPKA_N    \t null hypothesis rejected (p < alpha 0.05)\n",
      "RAPTOR_N    \t null hypothesis rejected (p < alpha 0.05)\n",
      "GluR4_N    \t null hypothesis rejected (p < alpha 0.05)\n",
      "SNCA_N    \t null hypothesis rejected (p < alpha 0.05)\n",
      "SHH_N    \t null hypothesis rejected (p < alpha 0.05)\n",
      "BCL2_N    \t null hypothesis rejected (p < alpha 0.05)\n",
      "pCFOS_N    \t null hypothesis rejected (p < alpha 0.05)\n",
      "H3AcK18_N    \t null hypothesis rejected (p < alpha 0.05)\n",
      "EGR1_N    \t null hypothesis rejected (p < alpha 0.05)\n",
      "H3MeK4_N    \t null hypothesis rejected (p < alpha 0.05)\n"
     ]
    }
   ],
   "source": [
    "def permutation_test_mean(pooled, n1, n2):\n",
    "    np.random.shuffle(pooled)\n",
    "    x = pooled[:n1]\n",
    "    y = pooled[-n2:]\n",
    "    return x.mean() - y.mean()\n",
    "\n",
    "for protein in df.loc[:, df.dtypes == float].keys().tolist():\n",
    "    df_a = df[clusters_base_info == 0]\n",
    "    df_b = df[clusters_base_info == 1]\n",
    "    a = df_a[protein].values\n",
    "    b = df_b[protein].values\n",
    "    delta = a.mean() - b.mean()\n",
    "    # print(delta)\n",
    "    num_samples = 10000\n",
    "    pooled = np.hstack([a,b])\n",
    "    estimates = np.array(list(map(lambda x: permutation_test_mean(pooled, a.size, b.size), range(num_samples))))\n",
    "    less_extremes = np.where(estimates <= delta)[0]\n",
    "    p = 1.0 - float(len(less_extremes))/float(num_samples)\n",
    "    # print(p)\n",
    "    if p < 0.05:\n",
    "        print(protein, '   \\t null hypothesis rejected (p < alpha 0.05)')\n",
    "        # plotar um histograma das estimativas\n",
    "        # fig, ax = plt.subplots(figsize=(15,9))\n",
    "        # n, bins, patches = ax.hist(x=estimates, bins='auto', color='#0504aa', alpha=0.7, rwidth=0.85)\n",
    "        # ax.axvline(delta, color='k', linestyle='dashed', linewidth=2)\n",
    "        # ax.grid(axis='y', alpha=0.75)\n",
    "        # ax.set_xlabel('Distribuição das Diferenças das Médias')\n",
    "        # ax.set_ylabel('Frequência')\n",
    "        # ax.set_title('Teste de Permutação com a proteína', p)"
   ]
  },
  {
   "cell_type": "markdown",
   "metadata": {},
   "source": [
    "**R:** Considerando-se um valor alpha de 0.05, um total de 16 proteínas acima apresentaram um valor *p < 0.05* (descartando-se a hipótese nula)."
   ]
  }
 ],
 "metadata": {
  "kernelspec": {
   "display_name": "Python 3",
   "language": "python",
   "name": "python3"
  },
  "language_info": {
   "codemirror_mode": {
    "name": "ipython",
    "version": 3
   },
   "file_extension": ".py",
   "mimetype": "text/x-python",
   "name": "python",
   "nbconvert_exporter": "python",
   "pygments_lexer": "ipython3",
   "version": "3.6.8"
  }
 },
 "nbformat": 4,
 "nbformat_minor": 2
}
