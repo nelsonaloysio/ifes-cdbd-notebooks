{
 "cells": [
  {
   "cell_type": "code",
   "execution_count": 1,
   "metadata": {},
   "outputs": [],
   "source": [
    "%matplotlib inline\n",
    "import graphviz\n",
    "import numpy as np\n",
    "import pandas as pd\n",
    "import matplotlib.pyplot as plt\n",
    "from collections import Counter\n",
    "from matplotlib import image as mpimg\n",
    "from matplotlib import pyplot as plt\n",
    "from sklearn import tree\n",
    "from sklearn.preprocessing import LabelEncoder, MinMaxScaler\n",
    "from sklearn.tree import DecisionTreeClassifier"
   ]
  },
  {
   "cell_type": "code",
   "execution_count": 2,
   "metadata": {},
   "outputs": [],
   "source": [
    "def simple_tree_classify(tree, item):\n",
    "    if (type(tree) != tuple):\n",
    "        return tree\n",
    "    else:\n",
    "        attrib = tree[0]\n",
    "        branches = tree[1]\n",
    "        key = item[attrib]\n",
    "        subtree = branches[key]\n",
    "        return simple_tree_classify(subtree, item)"
   ]
  },
  {
   "cell_type": "code",
   "execution_count": 3,
   "metadata": {},
   "outputs": [],
   "source": [
    "def entropy(probabilities):\n",
    "    \"\"\"Dada uma série de probabilidade de classes de um conjunto de dados, calcula o valor total da entropia.\"\"\"\n",
    "    p = probabilities[probabilities != 0]\n",
    "    return sum(-p * np.log2(p))"
   ]
  },
  {
   "cell_type": "code",
   "execution_count": 4,
   "metadata": {},
   "outputs": [],
   "source": [
    "def class_probabilities(labels):\n",
    "    \"\"\"Dada uma série de labels, calcula a série de probabilidades para cada classes de label.\"\"\"\n",
    "    total = len(labels)\n",
    "    c = Counter(labels)\n",
    "    return np.array([count/total for count in c.values()])"
   ]
  },
  {
   "cell_type": "code",
   "execution_count": 5,
   "metadata": {},
   "outputs": [],
   "source": [
    "def data_entropy(labels):\n",
    "    \"\"\"Dada uma série de labels, calcula o valor total da entropia para o conjunto de dados associado à estes labels.\"\"\"\n",
    "    probabilities = class_probabilities(labels)\n",
    "    return entropy(probabilities)"
   ]
  },
  {
   "cell_type": "code",
   "execution_count": 6,
   "metadata": {},
   "outputs": [],
   "source": [
    "def partition_by(df, part_col):\n",
    "    \"\"\"Dado um conjunto de dados e uma coluna, realiza a partição do conjunto\n",
    "    em subconjuntos de acordo com os valores únicos continos na coluna e retorna\n",
    "    a lista de subconjuntos de dados gerada pela partição.\"\"\"\n",
    "    subsets = dict()\n",
    "    for k in df[part_col].unique():\n",
    "        subset = df[df[part_col] == k]\n",
    "        subsets[k] = subset\n",
    "    return subsets"
   ]
  },
  {
   "cell_type": "code",
   "execution_count": 7,
   "metadata": {},
   "outputs": [],
   "source": [
    "def partition_entropy(subsets, label_col):\n",
    "    \"\"\"Calcula o coeficiente de entropia para a partição do conjunto de \n",
    "    dados cujos subconjuntos estão em `subsets`, utilizando a coluna\n",
    "    `label_col` como a coluna contendo os labels.\"\"\"\n",
    "    acc = 0\n",
    "    total = sum([len(s) for s in subsets])\n",
    "    for subset in subsets:\n",
    "        q = len(subset)/total\n",
    "        h = data_entropy(subset[label_col])\n",
    "        acc = acc + q * h\n",
    "    return acc"
   ]
  },
  {
   "cell_type": "code",
   "execution_count": 8,
   "metadata": {},
   "outputs": [],
   "source": [
    "def partition_entropy_by(df, part_col, label_col):\n",
    "    subsets = partition_by(df, part_col)\n",
    "    return partition_entropy(subsets.values(), label_col)"
   ]
  },
  {
   "cell_type": "code",
   "execution_count": 9,
   "metadata": {},
   "outputs": [],
   "source": [
    "def build_tree_id3(df, features, label_col):\n",
    "    labels = df[label_col].unique()\n",
    "    if len(labels) == 1:\n",
    "        return labels[0]\n",
    "    elif len(features) == 0:\n",
    "        c = Counter(labels)\n",
    "        return c.most_common(1)[0][0]\n",
    "    else:\n",
    "        best = min(features, key=lambda k: partition_entropy_by(df, k, label_col))\n",
    "        partitions = partition_by(df, best)\n",
    "        new_features = [k for k in features if k != best]\n",
    "        branches = {key: build_tree_id3(subset, new_features, label_col) for (key, subset) in partitions.items()}\n",
    "        return (best, branches)"
   ]
  },
  {
   "cell_type": "code",
   "execution_count": 10,
   "metadata": {},
   "outputs": [],
   "source": [
    "# load datasets\n",
    "\n",
    "train = pd.read_csv('train.csv', index_col='PassengerId')\n",
    "test = pd.read_csv('test.csv', index_col='PassengerId')"
   ]
  },
  {
   "cell_type": "code",
   "execution_count": 11,
   "metadata": {
    "scrolled": true
   },
   "outputs": [],
   "source": [
    "# cleanup\n",
    "\n",
    "train = train.fillna(train.mean())\n",
    "test = test.fillna(test.mean())\n",
    "\n",
    "train.isna().sum()\n",
    "test.isna().sum()\n",
    "\n",
    "for i in ['Name', 'Ticket', 'Cabin', 'Embarked']:\n",
    "    train.pop(i) if i in train else None\n",
    "    test.pop(i) if i in test else None\n",
    "    \n",
    "labelEncoder = LabelEncoder() # alias\n",
    "\n",
    "labelEncoder.fit(test['Sex'])\n",
    "test['Sex'] = labelEncoder.transform(test['Sex'])\n",
    "\n",
    "labelEncoder.fit(train['Sex'])\n",
    "train['Sex'] = labelEncoder.transform(train['Sex'])"
   ]
  },
  {
   "cell_type": "code",
   "execution_count": 12,
   "metadata": {},
   "outputs": [
    {
     "data": {
      "text/html": [
       "<div>\n",
       "<style scoped>\n",
       "    .dataframe tbody tr th:only-of-type {\n",
       "        vertical-align: middle;\n",
       "    }\n",
       "\n",
       "    .dataframe tbody tr th {\n",
       "        vertical-align: top;\n",
       "    }\n",
       "\n",
       "    .dataframe thead th {\n",
       "        text-align: right;\n",
       "    }\n",
       "</style>\n",
       "<table border=\"1\" class=\"dataframe\">\n",
       "  <thead>\n",
       "    <tr style=\"text-align: right;\">\n",
       "      <th></th>\n",
       "      <th>iSurvived</th>\n",
       "      <th>ipredicted</th>\n",
       "    </tr>\n",
       "    <tr>\n",
       "      <th>PassengerId</th>\n",
       "      <th></th>\n",
       "      <th></th>\n",
       "    </tr>\n",
       "  </thead>\n",
       "  <tbody>\n",
       "    <tr>\n",
       "      <th>1</th>\n",
       "      <td>0</td>\n",
       "      <td>0</td>\n",
       "    </tr>\n",
       "    <tr>\n",
       "      <th>2</th>\n",
       "      <td>1</td>\n",
       "      <td>1</td>\n",
       "    </tr>\n",
       "    <tr>\n",
       "      <th>3</th>\n",
       "      <td>1</td>\n",
       "      <td>1</td>\n",
       "    </tr>\n",
       "    <tr>\n",
       "      <th>4</th>\n",
       "      <td>1</td>\n",
       "      <td>1</td>\n",
       "    </tr>\n",
       "    <tr>\n",
       "      <th>5</th>\n",
       "      <td>0</td>\n",
       "      <td>0</td>\n",
       "    </tr>\n",
       "    <tr>\n",
       "      <th>6</th>\n",
       "      <td>0</td>\n",
       "      <td>0</td>\n",
       "    </tr>\n",
       "    <tr>\n",
       "      <th>7</th>\n",
       "      <td>0</td>\n",
       "      <td>0</td>\n",
       "    </tr>\n",
       "    <tr>\n",
       "      <th>8</th>\n",
       "      <td>0</td>\n",
       "      <td>0</td>\n",
       "    </tr>\n",
       "    <tr>\n",
       "      <th>9</th>\n",
       "      <td>1</td>\n",
       "      <td>1</td>\n",
       "    </tr>\n",
       "    <tr>\n",
       "      <th>10</th>\n",
       "      <td>1</td>\n",
       "      <td>1</td>\n",
       "    </tr>\n",
       "  </tbody>\n",
       "</table>\n",
       "</div>"
      ],
      "text/plain": [
       "             iSurvived  ipredicted\n",
       "PassengerId                       \n",
       "1                    0           0\n",
       "2                    1           1\n",
       "3                    1           1\n",
       "4                    1           1\n",
       "5                    0           0\n",
       "6                    0           0\n",
       "7                    0           0\n",
       "8                    0           0\n",
       "9                    1           1\n",
       "10                   1           1"
      ]
     },
     "execution_count": 12,
     "metadata": {},
     "output_type": "execute_result"
    }
   ],
   "source": [
    "# tree classifier\n",
    "\n",
    "enc = LabelEncoder()\n",
    "t2 = DecisionTreeClassifier()\n",
    "scaler = MinMaxScaler()\n",
    "\n",
    "enc.fit([0, 1])\n",
    "train['iSurvived'] = enc.transform(train['Survived'])\n",
    "train['iSex'] = enc.transform(train['Sex'])\n",
    "\n",
    "enc.fit([3, 1, 2])\n",
    "train['iPclass'] = enc.transform(train['Pclass'])\n",
    "\n",
    "enc.fit([1, 0, 3, 4, 2, 5, 8])\n",
    "train['iSibSp'] = enc.transform(train['SibSp'])\n",
    "\n",
    "enc.fit([0, 1, 2, 5, 3, 4, 6])\n",
    "train['iParch'] = enc.transform(train['Parch'])\n",
    "\n",
    "cols = ['Pclass', 'Sex', 'Age', 'SibSp']\n",
    "\n",
    "t2 = t2.fit(train[cols], train['iSurvived'])\n",
    "train['ipredicted'] = t2.predict(train[cols])\n",
    "\n",
    "train[['iSurvived', 'ipredicted']][:10]"
   ]
  },
  {
   "cell_type": "code",
   "execution_count": 13,
   "metadata": {},
   "outputs": [
    {
     "data": {
      "text/plain": [
       "'titanic.pdf'"
      ]
     },
     "execution_count": 13,
     "metadata": {},
     "output_type": "execute_result"
    }
   ],
   "source": [
    "dot_data = tree.export_graphviz(t2, out_file=None, feature_names=['iSex', 'iPclass', 'iSibSp', 'iParch'])\n",
    "graph = graphviz.Source(dot_data) \n",
    "graph.render(\"titanic\") "
   ]
  }
 ],
 "metadata": {
  "kernelspec": {
   "display_name": "Python 3",
   "language": "python",
   "name": "python3"
  },
  "language_info": {
   "codemirror_mode": {
    "name": "ipython",
    "version": 3
   },
   "file_extension": ".py",
   "mimetype": "text/x-python",
   "name": "python",
   "nbconvert_exporter": "python",
   "pygments_lexer": "ipython3",
   "version": "3.6.8"
  }
 },
 "nbformat": 4,
 "nbformat_minor": 2
}
