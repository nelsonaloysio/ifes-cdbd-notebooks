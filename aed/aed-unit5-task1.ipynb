{
 "cells": [
  {
   "cell_type": "markdown",
   "metadata": {},
   "source": [
    "# Exercício sobre Clusterização\n",
    "\n",
    "Para este exercício, usaremos o conjunto de dados do Titanic (disponível [aqui](https://www.kaggle.com/c/titanic)). \n",
    "\n",
    "Antes de prosseguir, vamos discutir alguns fatos sobre os dados em si. O naufrágio do RMS Titanic é um dos mais infames naufrágios da história. Em 15 de abril de 1912, durante sua viagem inaugural, o Titanic afundou depois de colidir com um iceberg, matando 1502 de 2224 passageiros e tripulantes. Esta tragédia chocou a comunidade internacional e levou a melhores normas de segurança para os navios.\n",
    "\n",
    "Uma das razões pelas quais o naufrágio causou tal perda de vida foi que não havia botes salva-vidas suficientes para os passageiros e a tripulação. Embora tenha havido algum elemento de sorte envolvido na sobrevivência do naufrágio, alguns grupos de pessoas tiveram maior probabilidade de sobreviver do que outros, como mulheres, crianças e a classe-alta.\n",
    "\n",
    "Agora, falando sobre o conjunto de dados, o conjunto de treinamento contém vários registros sobre os passageiros do Titanic (daí o nome do conjunto de dados). Ele possui 12 variáveis que capturam informações tais como `passenger_class`, `port_of_Embarkation`, `passenger_fare`, etc. O rótulo do conjunto de dados é a **Survival**, que denota o status de sobrevivência de um passageiro em particular. Sua tarefa é agrupar os registros em dois, ou seja, os que sobreviveram e os que não sobreviveram.\n",
    "\n",
    "Você pode estar pensando que, como é um conjunto de dados rotulado, como poderia ser usado para uma tarefa de cluster? Você só precisa abandonar a coluna “survival” do conjunto de dados e torná-lo não rotulado. Será tarefa do K-Means agrupar os registros dos conjuntos de dados se eles sobreviverem ou não.\n",
    "\n",
    "Para este tutorial, você precisará dos seguintes pacotes do Python: pandas, NumPy, scikit-learn, Seaborn e Matplotlib."
   ]
  },
  {
   "cell_type": "code",
   "execution_count": 1,
   "metadata": {
    "collapsed": true
   },
   "outputs": [],
   "source": [
    "import pandas as pd\n",
    "import numpy as np\n",
    "from sklearn.cluster import KMeans\n",
    "from sklearn.preprocessing import LabelEncoder\n",
    "from sklearn.preprocessing import MinMaxScaler\n",
    "import seaborn as sns\n",
    "import matplotlib.pyplot as plt\n",
    "%matplotlib inline"
   ]
  },
  {
   "cell_type": "markdown",
   "metadata": {},
   "source": [
    "Importamos todas as dependências que serão necessárias neste exercício. (Você pode incluir outras se achar que seja necessário ou que torna mais fácil o trabalho.) \n",
    "\n",
    "Agora, você carregará o conjunto de dados. Baixe os arquivos de treinamento e de teste do site indicado acima e carregue-os dois dataframes chamados `train` e `test`, respectivamente."
   ]
  },
  {
   "cell_type": "code",
   "execution_count": 2,
   "metadata": {
    "collapsed": true
   },
   "outputs": [],
   "source": [
    "# Carregar os conjuntos de dados de treinamento e de teste\n",
    "# !ls *csv\n",
    "# gender = pd.read_csv('gender_submission.csv')\n",
    "test = pd.read_csv('test.csv', index_col='PassengerId')\n",
    "train = pd.read_csv('train.csv', index_col='PassengerId')"
   ]
  },
  {
   "cell_type": "markdown",
   "metadata": {},
   "source": [
    "Vamos visualizar o tipo de dados com o qual você trabalhará imprimindo algumas amostras dos dataframes de treinameto e de teste."
   ]
  },
  {
   "cell_type": "code",
   "execution_count": 3,
   "metadata": {},
   "outputs": [
    {
     "data": {
      "text/html": [
       "<div>\n",
       "<style scoped>\n",
       "    .dataframe tbody tr th:only-of-type {\n",
       "        vertical-align: middle;\n",
       "    }\n",
       "\n",
       "    .dataframe tbody tr th {\n",
       "        vertical-align: top;\n",
       "    }\n",
       "\n",
       "    .dataframe thead th {\n",
       "        text-align: right;\n",
       "    }\n",
       "</style>\n",
       "<table border=\"1\" class=\"dataframe\">\n",
       "  <thead>\n",
       "    <tr style=\"text-align: right;\">\n",
       "      <th></th>\n",
       "      <th>Survived</th>\n",
       "      <th>Pclass</th>\n",
       "      <th>Name</th>\n",
       "      <th>Sex</th>\n",
       "      <th>Age</th>\n",
       "      <th>SibSp</th>\n",
       "      <th>Parch</th>\n",
       "      <th>Ticket</th>\n",
       "      <th>Fare</th>\n",
       "      <th>Cabin</th>\n",
       "      <th>Embarked</th>\n",
       "    </tr>\n",
       "    <tr>\n",
       "      <th>PassengerId</th>\n",
       "      <th></th>\n",
       "      <th></th>\n",
       "      <th></th>\n",
       "      <th></th>\n",
       "      <th></th>\n",
       "      <th></th>\n",
       "      <th></th>\n",
       "      <th></th>\n",
       "      <th></th>\n",
       "      <th></th>\n",
       "      <th></th>\n",
       "    </tr>\n",
       "  </thead>\n",
       "  <tbody>\n",
       "    <tr>\n",
       "      <th>1</th>\n",
       "      <td>0</td>\n",
       "      <td>3</td>\n",
       "      <td>Braund, Mr. Owen Harris</td>\n",
       "      <td>male</td>\n",
       "      <td>22.0</td>\n",
       "      <td>1</td>\n",
       "      <td>0</td>\n",
       "      <td>A/5 21171</td>\n",
       "      <td>7.2500</td>\n",
       "      <td>NaN</td>\n",
       "      <td>S</td>\n",
       "    </tr>\n",
       "    <tr>\n",
       "      <th>2</th>\n",
       "      <td>1</td>\n",
       "      <td>1</td>\n",
       "      <td>Cumings, Mrs. John Bradley (Florence Briggs Th...</td>\n",
       "      <td>female</td>\n",
       "      <td>38.0</td>\n",
       "      <td>1</td>\n",
       "      <td>0</td>\n",
       "      <td>PC 17599</td>\n",
       "      <td>71.2833</td>\n",
       "      <td>C85</td>\n",
       "      <td>C</td>\n",
       "    </tr>\n",
       "  </tbody>\n",
       "</table>\n",
       "</div>"
      ],
      "text/plain": [
       "             Survived  Pclass  \\\n",
       "PassengerId                     \n",
       "1                   0       3   \n",
       "2                   1       1   \n",
       "\n",
       "                                                          Name     Sex   Age  \\\n",
       "PassengerId                                                                    \n",
       "1                                      Braund, Mr. Owen Harris    male  22.0   \n",
       "2            Cumings, Mrs. John Bradley (Florence Briggs Th...  female  38.0   \n",
       "\n",
       "             SibSp  Parch     Ticket     Fare Cabin Embarked  \n",
       "PassengerId                                                   \n",
       "1                1      0  A/5 21171   7.2500   NaN        S  \n",
       "2                1      0   PC 17599  71.2833   C85        C  "
      ]
     },
     "execution_count": 3,
     "metadata": {},
     "output_type": "execute_result"
    }
   ],
   "source": [
    "# Exiba as primeiras linhas dos datasets de treinamento e de teste.\n",
    "# treinamento\n",
    "train.head(2)"
   ]
  },
  {
   "cell_type": "code",
   "execution_count": 4,
   "metadata": {},
   "outputs": [
    {
     "data": {
      "text/html": [
       "<div>\n",
       "<style scoped>\n",
       "    .dataframe tbody tr th:only-of-type {\n",
       "        vertical-align: middle;\n",
       "    }\n",
       "\n",
       "    .dataframe tbody tr th {\n",
       "        vertical-align: top;\n",
       "    }\n",
       "\n",
       "    .dataframe thead th {\n",
       "        text-align: right;\n",
       "    }\n",
       "</style>\n",
       "<table border=\"1\" class=\"dataframe\">\n",
       "  <thead>\n",
       "    <tr style=\"text-align: right;\">\n",
       "      <th></th>\n",
       "      <th>Pclass</th>\n",
       "      <th>Name</th>\n",
       "      <th>Sex</th>\n",
       "      <th>Age</th>\n",
       "      <th>SibSp</th>\n",
       "      <th>Parch</th>\n",
       "      <th>Ticket</th>\n",
       "      <th>Fare</th>\n",
       "      <th>Cabin</th>\n",
       "      <th>Embarked</th>\n",
       "    </tr>\n",
       "    <tr>\n",
       "      <th>PassengerId</th>\n",
       "      <th></th>\n",
       "      <th></th>\n",
       "      <th></th>\n",
       "      <th></th>\n",
       "      <th></th>\n",
       "      <th></th>\n",
       "      <th></th>\n",
       "      <th></th>\n",
       "      <th></th>\n",
       "      <th></th>\n",
       "    </tr>\n",
       "  </thead>\n",
       "  <tbody>\n",
       "    <tr>\n",
       "      <th>892</th>\n",
       "      <td>3</td>\n",
       "      <td>Kelly, Mr. James</td>\n",
       "      <td>male</td>\n",
       "      <td>34.5</td>\n",
       "      <td>0</td>\n",
       "      <td>0</td>\n",
       "      <td>330911</td>\n",
       "      <td>7.8292</td>\n",
       "      <td>NaN</td>\n",
       "      <td>Q</td>\n",
       "    </tr>\n",
       "    <tr>\n",
       "      <th>893</th>\n",
       "      <td>3</td>\n",
       "      <td>Wilkes, Mrs. James (Ellen Needs)</td>\n",
       "      <td>female</td>\n",
       "      <td>47.0</td>\n",
       "      <td>1</td>\n",
       "      <td>0</td>\n",
       "      <td>363272</td>\n",
       "      <td>7.0000</td>\n",
       "      <td>NaN</td>\n",
       "      <td>S</td>\n",
       "    </tr>\n",
       "  </tbody>\n",
       "</table>\n",
       "</div>"
      ],
      "text/plain": [
       "             Pclass                              Name     Sex   Age  SibSp  \\\n",
       "PassengerId                                                                  \n",
       "892               3                  Kelly, Mr. James    male  34.5      0   \n",
       "893               3  Wilkes, Mrs. James (Ellen Needs)  female  47.0      1   \n",
       "\n",
       "             Parch  Ticket    Fare Cabin Embarked  \n",
       "PassengerId                                        \n",
       "892              0  330911  7.8292   NaN        Q  \n",
       "893              0  363272  7.0000   NaN        S  "
      ]
     },
     "execution_count": 4,
     "metadata": {},
     "output_type": "execute_result"
    }
   ],
   "source": [
    "# Exiba as primeiras linhas dos datasets de treinamento e de teste.\n",
    "# teste\n",
    "test.head(2)"
   ]
  },
  {
   "cell_type": "markdown",
   "metadata": {},
   "source": [
    "Você pode obter algumas estatísticas iniciais dataset de treinamento e de teste usando o método `describe()` do Pandas."
   ]
  },
  {
   "cell_type": "code",
   "execution_count": 5,
   "metadata": {},
   "outputs": [
    {
     "data": {
      "text/html": [
       "<div>\n",
       "<style scoped>\n",
       "    .dataframe tbody tr th:only-of-type {\n",
       "        vertical-align: middle;\n",
       "    }\n",
       "\n",
       "    .dataframe tbody tr th {\n",
       "        vertical-align: top;\n",
       "    }\n",
       "\n",
       "    .dataframe thead th {\n",
       "        text-align: right;\n",
       "    }\n",
       "</style>\n",
       "<table border=\"1\" class=\"dataframe\">\n",
       "  <thead>\n",
       "    <tr style=\"text-align: right;\">\n",
       "      <th></th>\n",
       "      <th>Survived</th>\n",
       "      <th>Pclass</th>\n",
       "      <th>Age</th>\n",
       "      <th>SibSp</th>\n",
       "      <th>Parch</th>\n",
       "      <th>Fare</th>\n",
       "    </tr>\n",
       "  </thead>\n",
       "  <tbody>\n",
       "    <tr>\n",
       "      <th>count</th>\n",
       "      <td>891.000000</td>\n",
       "      <td>891.000000</td>\n",
       "      <td>714.000000</td>\n",
       "      <td>891.000000</td>\n",
       "      <td>891.000000</td>\n",
       "      <td>891.000000</td>\n",
       "    </tr>\n",
       "    <tr>\n",
       "      <th>mean</th>\n",
       "      <td>0.383838</td>\n",
       "      <td>2.308642</td>\n",
       "      <td>29.699118</td>\n",
       "      <td>0.523008</td>\n",
       "      <td>0.381594</td>\n",
       "      <td>32.204208</td>\n",
       "    </tr>\n",
       "    <tr>\n",
       "      <th>std</th>\n",
       "      <td>0.486592</td>\n",
       "      <td>0.836071</td>\n",
       "      <td>14.526497</td>\n",
       "      <td>1.102743</td>\n",
       "      <td>0.806057</td>\n",
       "      <td>49.693429</td>\n",
       "    </tr>\n",
       "    <tr>\n",
       "      <th>min</th>\n",
       "      <td>0.000000</td>\n",
       "      <td>1.000000</td>\n",
       "      <td>0.420000</td>\n",
       "      <td>0.000000</td>\n",
       "      <td>0.000000</td>\n",
       "      <td>0.000000</td>\n",
       "    </tr>\n",
       "    <tr>\n",
       "      <th>25%</th>\n",
       "      <td>0.000000</td>\n",
       "      <td>2.000000</td>\n",
       "      <td>20.125000</td>\n",
       "      <td>0.000000</td>\n",
       "      <td>0.000000</td>\n",
       "      <td>7.910400</td>\n",
       "    </tr>\n",
       "    <tr>\n",
       "      <th>50%</th>\n",
       "      <td>0.000000</td>\n",
       "      <td>3.000000</td>\n",
       "      <td>28.000000</td>\n",
       "      <td>0.000000</td>\n",
       "      <td>0.000000</td>\n",
       "      <td>14.454200</td>\n",
       "    </tr>\n",
       "    <tr>\n",
       "      <th>75%</th>\n",
       "      <td>1.000000</td>\n",
       "      <td>3.000000</td>\n",
       "      <td>38.000000</td>\n",
       "      <td>1.000000</td>\n",
       "      <td>0.000000</td>\n",
       "      <td>31.000000</td>\n",
       "    </tr>\n",
       "    <tr>\n",
       "      <th>max</th>\n",
       "      <td>1.000000</td>\n",
       "      <td>3.000000</td>\n",
       "      <td>80.000000</td>\n",
       "      <td>8.000000</td>\n",
       "      <td>6.000000</td>\n",
       "      <td>512.329200</td>\n",
       "    </tr>\n",
       "  </tbody>\n",
       "</table>\n",
       "</div>"
      ],
      "text/plain": [
       "         Survived      Pclass         Age       SibSp       Parch        Fare\n",
       "count  891.000000  891.000000  714.000000  891.000000  891.000000  891.000000\n",
       "mean     0.383838    2.308642   29.699118    0.523008    0.381594   32.204208\n",
       "std      0.486592    0.836071   14.526497    1.102743    0.806057   49.693429\n",
       "min      0.000000    1.000000    0.420000    0.000000    0.000000    0.000000\n",
       "25%      0.000000    2.000000   20.125000    0.000000    0.000000    7.910400\n",
       "50%      0.000000    3.000000   28.000000    0.000000    0.000000   14.454200\n",
       "75%      1.000000    3.000000   38.000000    1.000000    0.000000   31.000000\n",
       "max      1.000000    3.000000   80.000000    8.000000    6.000000  512.329200"
      ]
     },
     "execution_count": 5,
     "metadata": {},
     "output_type": "execute_result"
    }
   ],
   "source": [
    "# Descreva os conjuntos de dados de treinamento e teste.\n",
    "# treinamento\n",
    "train.describe()"
   ]
  },
  {
   "cell_type": "code",
   "execution_count": 6,
   "metadata": {},
   "outputs": [
    {
     "data": {
      "text/html": [
       "<div>\n",
       "<style scoped>\n",
       "    .dataframe tbody tr th:only-of-type {\n",
       "        vertical-align: middle;\n",
       "    }\n",
       "\n",
       "    .dataframe tbody tr th {\n",
       "        vertical-align: top;\n",
       "    }\n",
       "\n",
       "    .dataframe thead th {\n",
       "        text-align: right;\n",
       "    }\n",
       "</style>\n",
       "<table border=\"1\" class=\"dataframe\">\n",
       "  <thead>\n",
       "    <tr style=\"text-align: right;\">\n",
       "      <th></th>\n",
       "      <th>Pclass</th>\n",
       "      <th>Age</th>\n",
       "      <th>SibSp</th>\n",
       "      <th>Parch</th>\n",
       "      <th>Fare</th>\n",
       "    </tr>\n",
       "  </thead>\n",
       "  <tbody>\n",
       "    <tr>\n",
       "      <th>count</th>\n",
       "      <td>418.000000</td>\n",
       "      <td>332.000000</td>\n",
       "      <td>418.000000</td>\n",
       "      <td>418.000000</td>\n",
       "      <td>417.000000</td>\n",
       "    </tr>\n",
       "    <tr>\n",
       "      <th>mean</th>\n",
       "      <td>2.265550</td>\n",
       "      <td>30.272590</td>\n",
       "      <td>0.447368</td>\n",
       "      <td>0.392344</td>\n",
       "      <td>35.627188</td>\n",
       "    </tr>\n",
       "    <tr>\n",
       "      <th>std</th>\n",
       "      <td>0.841838</td>\n",
       "      <td>14.181209</td>\n",
       "      <td>0.896760</td>\n",
       "      <td>0.981429</td>\n",
       "      <td>55.907576</td>\n",
       "    </tr>\n",
       "    <tr>\n",
       "      <th>min</th>\n",
       "      <td>1.000000</td>\n",
       "      <td>0.170000</td>\n",
       "      <td>0.000000</td>\n",
       "      <td>0.000000</td>\n",
       "      <td>0.000000</td>\n",
       "    </tr>\n",
       "    <tr>\n",
       "      <th>25%</th>\n",
       "      <td>1.000000</td>\n",
       "      <td>21.000000</td>\n",
       "      <td>0.000000</td>\n",
       "      <td>0.000000</td>\n",
       "      <td>7.895800</td>\n",
       "    </tr>\n",
       "    <tr>\n",
       "      <th>50%</th>\n",
       "      <td>3.000000</td>\n",
       "      <td>27.000000</td>\n",
       "      <td>0.000000</td>\n",
       "      <td>0.000000</td>\n",
       "      <td>14.454200</td>\n",
       "    </tr>\n",
       "    <tr>\n",
       "      <th>75%</th>\n",
       "      <td>3.000000</td>\n",
       "      <td>39.000000</td>\n",
       "      <td>1.000000</td>\n",
       "      <td>0.000000</td>\n",
       "      <td>31.500000</td>\n",
       "    </tr>\n",
       "    <tr>\n",
       "      <th>max</th>\n",
       "      <td>3.000000</td>\n",
       "      <td>76.000000</td>\n",
       "      <td>8.000000</td>\n",
       "      <td>9.000000</td>\n",
       "      <td>512.329200</td>\n",
       "    </tr>\n",
       "  </tbody>\n",
       "</table>\n",
       "</div>"
      ],
      "text/plain": [
       "           Pclass         Age       SibSp       Parch        Fare\n",
       "count  418.000000  332.000000  418.000000  418.000000  417.000000\n",
       "mean     2.265550   30.272590    0.447368    0.392344   35.627188\n",
       "std      0.841838   14.181209    0.896760    0.981429   55.907576\n",
       "min      1.000000    0.170000    0.000000    0.000000    0.000000\n",
       "25%      1.000000   21.000000    0.000000    0.000000    7.895800\n",
       "50%      3.000000   27.000000    0.000000    0.000000   14.454200\n",
       "75%      3.000000   39.000000    1.000000    0.000000   31.500000\n",
       "max      3.000000   76.000000    8.000000    9.000000  512.329200"
      ]
     },
     "execution_count": 6,
     "metadata": {},
     "output_type": "execute_result"
    }
   ],
   "source": [
    "# Descreva os conjuntos de dados de treinamento e teste.\n",
    "# treinamento\n",
    "test.describe()"
   ]
  },
  {
   "cell_type": "markdown",
   "metadata": {},
   "source": [
    "Assim, a partir dos resultados acima, você é possível conhecer as variáveis do conjunto de dados e algumas estatísticas básicas delas. Liste os nomes das variáveis (colunas) do conjunto de dados."
   ]
  },
  {
   "cell_type": "code",
   "execution_count": 7,
   "metadata": {},
   "outputs": [
    {
     "name": "stdout",
     "output_type": "stream",
     "text": [
      "test columns: ['Pclass', 'Name', 'Sex', 'Age', 'SibSp', 'Parch', 'Ticket', 'Fare', 'Cabin', 'Embarked'] \n",
      "train columns: ['Pclass', 'Name', 'Sex', 'Age', 'SibSp', 'Parch', 'Ticket', 'Fare', 'Cabin', 'Embarked']\n"
     ]
    }
   ],
   "source": [
    "# Liste as colunas do conjunto de dados\n",
    "test_columns = test.columns.tolist()\n",
    "train_columns = test.columns.tolist()\n",
    "\n",
    "print('test columns:', test_columns,\n",
    "      '\\ntrain columns:', train_columns)"
   ]
  },
  {
   "cell_type": "markdown",
   "metadata": {},
   "source": [
    "É muito importante observar que nem todos os algoritmos de aprendizado de máquina suportam valores ausentes nos dados que eles recebem. O K-means é um deles. Portanto, precisamos tratar os valores ausentes nos dados. Vamos primeiro ver onde estão os valores ausentes:"
   ]
  },
  {
   "cell_type": "code",
   "execution_count": 8,
   "metadata": {},
   "outputs": [
    {
     "data": {
      "text/plain": [
       "Survived      0\n",
       "Pclass        0\n",
       "Name          0\n",
       "Sex           0\n",
       "Age         177\n",
       "SibSp         0\n",
       "Parch         0\n",
       "Ticket        0\n",
       "Fare          0\n",
       "Cabin       687\n",
       "Embarked      2\n",
       "dtype: int64"
      ]
     },
     "execution_count": 8,
     "metadata": {},
     "output_type": "execute_result"
    }
   ],
   "source": [
    "# Use os métodos isna() e sum() para identificar quantos \n",
    "# valores ausentes existem em cada coluna do conjunto de \n",
    "# dados de treinamento.\n",
    "train.isna().sum()"
   ]
  },
  {
   "cell_type": "code",
   "execution_count": 9,
   "metadata": {},
   "outputs": [
    {
     "data": {
      "text/plain": [
       "Pclass        0\n",
       "Name          0\n",
       "Sex           0\n",
       "Age          86\n",
       "SibSp         0\n",
       "Parch         0\n",
       "Ticket        0\n",
       "Fare          1\n",
       "Cabin       327\n",
       "Embarked      0\n",
       "dtype: int64"
      ]
     },
     "execution_count": 9,
     "metadata": {},
     "output_type": "execute_result"
    }
   ],
   "source": [
    "# Use os métodos isna() e sum() para identificar quantos \n",
    "# valores ausentes existem em cada coluna do conjunto de \n",
    "# dados de teste.\n",
    "test.isna().sum()"
   ]
  },
  {
   "cell_type": "markdown",
   "metadata": {},
   "source": [
    "Seu código deve ter mostrado que no conjunto de treinamento as colunas `Age`, `Cabin` e `Embarked`, estão faltando valores, e no conjunto de testes, as colunas `Age` e `Cabine` contêm valores ausentes.\n",
    "\n",
    "Existem algumas maneiras de lidar com valores ausentes:\n",
    "\n",
    "- Remover linhas com valores ausentes\n",
    "- Impute valores ausentes\n",
    "\n",
    "Tipicamente o último é preferível, porque removermos as linhas com valores ausentes, isso poderá causar insuficiência nos dados, o que, por sua vez, resultará em treinamento ineficiente do modelo de aprendizado de máquina.\n",
    "\n",
    "Agora, existem várias maneiras de executar a imputação:\n",
    "\n",
    "- Um valor constante que possui significado dentro do domínio, como 0, distinto de todos os outros valores.\n",
    "- Um valor de outro registro selecionado aleatoriamente.\n",
    "- Um valor médio, mediano ou de moda para a coluna.\n",
    "- Um valor estimado por outro modelo de aprendizado de máquina.\n",
    "\n",
    "Qualquer imputação executada no conjunto de treinamento terá que ser executada nos dados de teste no futuro, quando forem necessárias previsões do modelo final de aprendizado de máquina. Isso precisa ser levado em consideração ao escolher como imputar os valores ausentes.\n",
    "\n",
    "O Pandas fornece a função `fillna()` para substituir valores ausentes por um valor específico. Vamos aplicar essa função com Imputação de Média."
   ]
  },
  {
   "cell_type": "code",
   "execution_count": 10,
   "metadata": {
    "collapsed": true
   },
   "outputs": [],
   "source": [
    "# Use a função fillna() para preencher os valores ausentes com a média no dataframe de treinamento.\n",
    "train = train.fillna(train.mean())"
   ]
  },
  {
   "cell_type": "code",
   "execution_count": 11,
   "metadata": {
    "collapsed": true
   },
   "outputs": [],
   "source": [
    "# Use a função fillna() para preencher os valores ausentes com a média no dataframe de teste.\n",
    "test = test.fillna(test.mean())"
   ]
  },
  {
   "cell_type": "markdown",
   "metadata": {},
   "source": [
    "Agora que você imputou os valores ausentes no conjunto de dados, é hora de ver se o conjunto de dados ainda tem algum valor ausente."
   ]
  },
  {
   "cell_type": "code",
   "execution_count": 12,
   "metadata": {},
   "outputs": [
    {
     "data": {
      "text/plain": [
       "Survived      0\n",
       "Pclass        0\n",
       "Name          0\n",
       "Sex           0\n",
       "Age           0\n",
       "SibSp         0\n",
       "Parch         0\n",
       "Ticket        0\n",
       "Fare          0\n",
       "Cabin       687\n",
       "Embarked      2\n",
       "dtype: int64"
      ]
     },
     "execution_count": 12,
     "metadata": {},
     "output_type": "execute_result"
    }
   ],
   "source": [
    "# Verifique se ainda há dados ausentes no conjunto de treinamento.\n",
    "train.isna().sum()"
   ]
  },
  {
   "cell_type": "code",
   "execution_count": 13,
   "metadata": {},
   "outputs": [
    {
     "data": {
      "text/plain": [
       "Pclass        0\n",
       "Name          0\n",
       "Sex           0\n",
       "Age           0\n",
       "SibSp         0\n",
       "Parch         0\n",
       "Ticket        0\n",
       "Fare          0\n",
       "Cabin       327\n",
       "Embarked      0\n",
       "dtype: int64"
      ]
     },
     "execution_count": 13,
     "metadata": {},
     "output_type": "execute_result"
    }
   ],
   "source": [
    "# Verifique se ainda há dados ausentes no conjunto de testes.\n",
    "test.isna().sum()"
   ]
  },
  {
   "cell_type": "markdown",
   "metadata": {},
   "source": [
    "Como seu código deve ter mostrado, ainda há alguns valores ausentes nas colunas `Cabin` e `Embarked`. Isso ocorre porque esses valores não são numéricos. Para realizar a imputação de média, os valores precisam estar em formato numérico. Existem maneiras de converter um valor não numérico para um valor numérico. Falaremos mais sobre isso depois.\n",
    "\n",
    "Vamos fazer mais algumas análises para entender melhor os dados. A compreensão é realmente necessária para executar qualquer tarefa de Aprendizado de Máquina. Vamos começar descobrindo quais recursos são categóricos e quais são numéricos.\n",
    "\n",
    "- Categórico: `Survival`,` Sexo` e `Embarked`\n",
    "- Ordinal: `Pclass`.\n",
    "- Contínuo: `Idade`, `Fare`.\n",
    "- Discreto: `SibSp`,` Parch`.\n",
    "\n",
    "Duas características são deixadas de fora, as quais não estão listadas acima em nenhuma das categorias. Sim, você adivinhou certo, `Ticket` e` Cabin`. `Ticket` é uma mistura de tipos de dados numéricos e alfanuméricos. `Cabin` é alfanumérico. Vamos ver alguns valores de amostra."
   ]
  },
  {
   "cell_type": "code",
   "execution_count": 14,
   "metadata": {},
   "outputs": [
    {
     "data": {
      "text/plain": [
       "PassengerId\n",
       "1           A/5 21171\n",
       "2            PC 17599\n",
       "3    STON/O2. 3101282\n",
       "4              113803\n",
       "5              373450\n",
       "Name: Ticket, dtype: object"
      ]
     },
     "execution_count": 14,
     "metadata": {},
     "output_type": "execute_result"
    }
   ],
   "source": [
    "# Liste os primeiros valores da coluna Ticket no dataframe de treinamento\n",
    "train['Ticket'].head(5)"
   ]
  },
  {
   "cell_type": "code",
   "execution_count": 15,
   "metadata": {},
   "outputs": [
    {
     "data": {
      "text/plain": [
       "PassengerId\n",
       "1     NaN\n",
       "2     C85\n",
       "3     NaN\n",
       "4    C123\n",
       "5     NaN\n",
       "Name: Cabin, dtype: object"
      ]
     },
     "execution_count": 15,
     "metadata": {},
     "output_type": "execute_result"
    }
   ],
   "source": [
    "# Liste os primeiros valores da coluna Cabin no dataframe de treinamento\n",
    "train['Cabin'].head(5)"
   ]
  },
  {
   "cell_type": "markdown",
   "metadata": {},
   "source": [
    "Por hora, vamos deixar os dados como estão.\n",
    "\n",
    "Agora vamos ver a contagem de sobrevivência dos passageiros em relação as seguintes características:\n",
    "\n",
    "- Pclass\n",
    "- Sex\n",
    "- SibSp\n",
    "- Parch\n",
    "\n",
    "Vamos fazer isso um por um:\n",
    "\n",
    "Contagem de sobrevivência em relação a `Pclass`:"
   ]
  },
  {
   "cell_type": "code",
   "execution_count": 16,
   "metadata": {},
   "outputs": [
    {
     "data": {
      "text/plain": [
       "Pclass\n",
       "1    0.629630\n",
       "2    0.472826\n",
       "3    0.242363\n",
       "Name: Survived, dtype: float64"
      ]
     },
     "execution_count": 16,
     "metadata": {},
     "output_type": "execute_result"
    }
   ],
   "source": [
    "# Calcule a média de sobreviventes, agrupado pelo valor de Pclass\n",
    "# O resultado deve ser um dataframe com uma coluna para Pclass e \n",
    "# outra para a média de Suvived, ordenado por Survived.\n",
    "train_pclass = train.groupby('Pclass')['Survived'].mean()\n",
    "train_pclass"
   ]
  },
  {
   "cell_type": "markdown",
   "metadata": {},
   "source": [
    "Contagem de sobrevivência em relação a `Sex`:"
   ]
  },
  {
   "cell_type": "code",
   "execution_count": 17,
   "metadata": {},
   "outputs": [
    {
     "data": {
      "text/plain": [
       "Sex\n",
       "female    0.742038\n",
       "male      0.188908\n",
       "Name: Survived, dtype: float64"
      ]
     },
     "execution_count": 17,
     "metadata": {},
     "output_type": "execute_result"
    }
   ],
   "source": [
    "# Calcule a média de sobreviventes, agrupado pelo valor de Sex.\n",
    "# O resultado deve ser um dataframe com uma coluna para Sex e \n",
    "# outra para a média de Suvived, ordenado por Survived.\n",
    "train_sex = train.groupby('Sex')['Survived'].mean()\n",
    "train_sex"
   ]
  },
  {
   "cell_type": "markdown",
   "metadata": {},
   "source": [
    "Contegem de sobrevivência em relação a `SibSp` (número de irmãos ou conjuges embarcados no navio):"
   ]
  },
  {
   "cell_type": "code",
   "execution_count": 18,
   "metadata": {},
   "outputs": [
    {
     "data": {
      "text/plain": [
       "SibSp\n",
       "0    0.345395\n",
       "1    0.535885\n",
       "2    0.464286\n",
       "3    0.250000\n",
       "4    0.166667\n",
       "5    0.000000\n",
       "8    0.000000\n",
       "Name: Survived, dtype: float64"
      ]
     },
     "execution_count": 18,
     "metadata": {},
     "output_type": "execute_result"
    }
   ],
   "source": [
    "# Calcule a média de sobreviventes, agrupado pelo valor de SibSp\n",
    "# O resultado deve ser um dataframe com uma coluna para SibSp e \n",
    "# outra para a média de Suvived, ordenado por Survived.\n",
    "train_sibsp = train.groupby('SibSp')['Survived'].mean()\n",
    "train_sibsp"
   ]
  },
  {
   "cell_type": "markdown",
   "metadata": {},
   "source": [
    "Contagem de sobreviventes em relação a `Parch` (número de pais ou filhos embarcados no navio):"
   ]
  },
  {
   "cell_type": "code",
   "execution_count": 19,
   "metadata": {},
   "outputs": [
    {
     "data": {
      "text/plain": [
       "Parch\n",
       "0    0.343658\n",
       "1    0.550847\n",
       "2    0.500000\n",
       "3    0.600000\n",
       "4    0.000000\n",
       "5    0.200000\n",
       "6    0.000000\n",
       "Name: Survived, dtype: float64"
      ]
     },
     "execution_count": 19,
     "metadata": {},
     "output_type": "execute_result"
    }
   ],
   "source": [
    "# Calcule a média de sobreviventes, agrupado pelo valor de Parch\n",
    "# O resultado deve ser um dataframe com uma coluna para Parch e \n",
    "# outra para a média de Suvived, ordenado por Survived.\n",
    "train_parch = train.groupby('Parch')['Survived'].mean()\n",
    "train_parch"
   ]
  },
  {
   "cell_type": "markdown",
   "metadata": {},
   "source": [
    "Para explorar a relação entre idade e sobrevivência iremos plotar o histograma de distribuição de sobrevivência por idade. Faremos dois gráficos, um para `suvived=0` e outro para `survived=1`.\n",
    "\n",
    "Para simplificar o desenho dos dois diagrama utilize o padrão de código mostrado abaixo:\n",
    "```\n",
    "g = sns.FacetGrid(train, col='Survived')\n",
    "g.map(plt.hist, 'Age', bins=20)\n",
    "```\n",
    "\n",
    "A primeira função, `FaceGrid`, cria uma grade de gráficos. Nessa grade as colunas serão definidas pelos valores da coluna `Survived`. Também é possível especificar linhas com o parâmetro `row=NomeDaColuna`. A segunda função `g.map` irá criar cada um dos gráficos do grid, neste caso usando a função `plt.hist`, com dados distribuídos por `Age`.\n"
   ]
  },
  {
   "cell_type": "code",
   "execution_count": 20,
   "metadata": {},
   "outputs": [
    {
     "data": {
      "text/plain": [
       "<seaborn.axisgrid.FacetGrid at 0x7f9a409e7240>"
      ]
     },
     "execution_count": 20,
     "metadata": {},
     "output_type": "execute_result"
    },
    {
     "data": {
      "image/png": "[encoded data removed]",
      "text/plain": [
       "<Figure size 432x216 with 2 Axes>"
      ]
     },
     "metadata": {},
     "output_type": "display_data"
    }
   ],
   "source": [
    "# Plote os histogramas de sobrevivência por idade.\n",
    "import seaborn as sns\n",
    "g = sns.FacetGrid(train, col='Survived')\n",
    "g.map(plt.hist, 'Age', bins=20)"
   ]
  },
  {
   "cell_type": "markdown",
   "metadata": {},
   "source": [
    "Agora vamos analisar o efeito da classe de passagem na sobrevivência dos passageiros, conjuntamente com a distribuição por idade.\n",
    "\n",
    "Utilize novamente a função `FaceGrid`, mas desta vez além de  `col='Survived'`, especifique também `row='Pclass'` como parâmetro. Isso deverá gerar um grid de 3 linhas (uma para cada valor de `Pclass`) por 2 colunas (uma para cada valor de `Survived`).\n"
   ]
  },
  {
   "cell_type": "code",
   "execution_count": 21,
   "metadata": {},
   "outputs": [
    {
     "data": {
      "text/plain": [
       "<seaborn.axisgrid.FacetGrid at 0x7f9a406cb208>"
      ]
     },
     "execution_count": 21,
     "metadata": {},
     "output_type": "execute_result"
    },
    {
     "data": {
      "image/png": "[encoded data removed]",
      "text/plain": [
       "<Figure size 432x648 with 6 Axes>"
      ]
     },
     "metadata": {},
     "output_type": "display_data"
    }
   ],
   "source": [
    "# Plote os histogramas de sobrevivência por classe e idade.\n",
    "g = sns.FacetGrid(train, row='Pclass', col='Survived')\n",
    "g.map(plt.hist, 'Age', bins=20)"
   ]
  },
  {
   "cell_type": "markdown",
   "metadata": {},
   "source": [
    "**Descreva suas conclusões preliminares sobre o que os dados revelaram até agora:**\n",
    "\n",
    "R: Os passageiros de terceira classe apresentaram menor índice de sobrevivência entre os grupos (e também o mais populoso, em especial jovens entre 20 e 30 anos), e os passageiros de primeira classe, o maior.\n",
    "\n",
    "Já os passageiros de segunda classe encontram-se razoavelmente equiparados entre sobreviventes e não sobreviventes.\n",
    "\n",
    "O fato mais notável, porém, é que apenas entre os passageiros de primeira classe o número de sobreviventes aparenta ser maior que o de não sobreviventes. \n",
    "\n",
    "$\\Diamond$\n"
   ]
  },
  {
   "cell_type": "markdown",
   "metadata": {},
   "source": [
    "Chega de visualização e análise por enquanto. Vamos realmente construir um modelo K-Means com o conjunto de treinamento. Mas antes disso, também precisaremos de alguns pré-processamentos de dados. Podemos ver que nem todos os valores de características são do mesmo tipo. Alguns deles são numéricos e alguns deles não são. Para facilitar o cálculo, serão fornecidos apenas dados numéricos para o modelo. Vamos ver os tipos de dados temos para as diferentes caracteísticas:"
   ]
  },
  {
   "cell_type": "code",
   "execution_count": 22,
   "metadata": {},
   "outputs": [
    {
     "name": "stdout",
     "output_type": "stream",
     "text": [
      "<class 'pandas.core.frame.DataFrame'>\n",
      "Int64Index: 891 entries, 1 to 891\n",
      "Data columns (total 11 columns):\n",
      "Survived    891 non-null int64\n",
      "Pclass      891 non-null int64\n",
      "Name        891 non-null object\n",
      "Sex         891 non-null object\n",
      "Age         891 non-null float64\n",
      "SibSp       891 non-null int64\n",
      "Parch       891 non-null int64\n",
      "Ticket      891 non-null object\n",
      "Fare        891 non-null float64\n",
      "Cabin       204 non-null object\n",
      "Embarked    889 non-null object\n",
      "dtypes: float64(2), int64(4), object(5)\n",
      "memory usage: 83.5+ KB\n"
     ]
    }
   ],
   "source": [
    "# Utilize a função info() no dataset de treinamento para descrever os dados\n",
    "train.info()"
   ]
  },
  {
   "cell_type": "markdown",
   "metadata": {},
   "source": [
    "Assim, você pode ver que os seguintes recursos não são numéricos:\n",
    "\n",
    "- Name\n",
    "- Sex\n",
    "- Ticket\n",
    "- Cabin\n",
    "- Embarked\n",
    "\n",
    "Antes de convertê-los em números, podemos querer fazer um pouco de engenharia de características, ou seja, acreditamos que características como `Name`, `Ticket`, `Cabin` e `Embarked` não têm qualquer impacto sobre o status de sobrevivência dos passageiros. Muitas vezes, é melhor treinar seu modelo apenas com características significativas do que treiná-lo com todas as características, incluindo as desnecessárias. Isso não só ajuda na modelagem eficiente, mas também o treinamento do modelo pode acontecer em muito menos tempo. Assim, para este exercício, as características `Name`, `Ticket`, `Cabin` e `Embarked` podem ser descartadas e não terão impacto significativo no treinamento do modelo K-Means.\n"
   ]
  },
  {
   "cell_type": "code",
   "execution_count": 23,
   "metadata": {
    "collapsed": true
   },
   "outputs": [],
   "source": [
    "# Remova as colunas ['Name','Ticket', 'Cabin','Embarked'] do dataset de treinamento\n",
    "for i in ['Name', 'Ticket', 'Cabin', 'Embarked']:\n",
    "    train.pop(i)"
   ]
  },
  {
   "cell_type": "code",
   "execution_count": 24,
   "metadata": {
    "collapsed": true
   },
   "outputs": [],
   "source": [
    "# Remova as colunas ['Name','Ticket', 'Cabin','Embarked'] do dataset de testes\n",
    "for i in ['Name', 'Ticket', 'Cabin', 'Embarked']:\n",
    "    test.pop(i)"
   ]
  },
  {
   "cell_type": "markdown",
   "metadata": {},
   "source": [
    "Agora que a parte de remoção foi concluída, vamos converter a característica `Sex` para numérico (somente `Sex` permanece como uma característica não-numérica). Você fará isso usando uma técnica chamada [Label Encoding](http://scikit-learn.org/stable/modules/generated/sklearn.preprocessing.LabelEncoder.html).\n",
    "\n",
    "O Scikit-Learn implementa um algoritmo de codificação de rótulos (label encoding) através da classe `LabelEncoding` no pacote `sklearn.preprocessing`. A utilização da classe segue o seguinte padrão:\n",
    "\n",
    "```\n",
    "labelEncoder = LabelEncoder()\n",
    "labelEncoder.fit(df['colName'])\n",
    "df['colName'] = labelEncoder.transform(df['colName'])\n",
    "```\n",
    "\n",
    "Note que se desejarmos, como é o caso, utilizar a mesma codificação de rótulos tanto para a base de treinamento quanto para a base de testes, devemos fazer primeiro todo o ajuste do codificador, i.e., chamar a função `fit()` no treinamento, e depois, utilizando o mesmo codificador, fazer a transformação tanto do dataset de treinamento quanto do dataset de teste.\n"
   ]
  },
  {
   "cell_type": "code",
   "execution_count": 25,
   "metadata": {
    "collapsed": true
   },
   "outputs": [],
   "source": [
    "# Condifique os rótulos da coluna Sex nos datasets de treinamento e de teste\n",
    "labelEncoder = LabelEncoder() # alias\n",
    "\n",
    "# transformação do dataset de teste\n",
    "labelEncoder.fit(test['Sex'])\n",
    "test['Sex'] = labelEncoder.transform(test['Sex'])\n",
    "\n",
    "# transformação do dataset de treinamento\n",
    "labelEncoder.fit(train['Sex'])\n",
    "train['Sex'] = labelEncoder.transform(train['Sex'])"
   ]
  },
  {
   "cell_type": "markdown",
   "metadata": {},
   "source": [
    "Verifique novamente as informações sobre os conjuntos de dados para ter certeza de que, agora, todas as características são numéricas."
   ]
  },
  {
   "cell_type": "code",
   "execution_count": 26,
   "metadata": {},
   "outputs": [
    {
     "name": "stdout",
     "output_type": "stream",
     "text": [
      "<class 'pandas.core.frame.DataFrame'>\n",
      "Int64Index: 418 entries, 892 to 1309\n",
      "Data columns (total 6 columns):\n",
      "Pclass    418 non-null int64\n",
      "Sex       418 non-null int64\n",
      "Age       418 non-null float64\n",
      "SibSp     418 non-null int64\n",
      "Parch     418 non-null int64\n",
      "Fare      418 non-null float64\n",
      "dtypes: float64(2), int64(4)\n",
      "memory usage: 22.9 KB\n"
     ]
    }
   ],
   "source": [
    "# Utilize a função info() para verificar os tipos de \n",
    "# dados das características dos datasets.\n",
    "# teste\n",
    "test.info()"
   ]
  },
  {
   "cell_type": "code",
   "execution_count": 27,
   "metadata": {},
   "outputs": [
    {
     "name": "stdout",
     "output_type": "stream",
     "text": [
      "<class 'pandas.core.frame.DataFrame'>\n",
      "Int64Index: 891 entries, 1 to 891\n",
      "Data columns (total 7 columns):\n",
      "Survived    891 non-null int64\n",
      "Pclass      891 non-null int64\n",
      "Sex         891 non-null int64\n",
      "Age         891 non-null float64\n",
      "SibSp       891 non-null int64\n",
      "Parch       891 non-null int64\n",
      "Fare        891 non-null float64\n",
      "dtypes: float64(2), int64(5)\n",
      "memory usage: 55.7 KB\n"
     ]
    }
   ],
   "source": [
    "# Utilize a função info() para verificar os tipos de \n",
    "# dados das características dos datasets.\n",
    "# Utilize a função info() para verificar os tipos de \n",
    "# dados das características dos datasets.\n",
    "# treinamento\n",
    "train.info()"
   ]
  },
  {
   "cell_type": "markdown",
   "metadata": {},
   "source": [
    "Muito bem. Parece que agora já podemos treinar o modelo K-Means.\n",
    "\n",
    "Primeiro vamos eliminar a coluna `Survived` dos dados com a função `drop()` e transformar os dados em uma array do NumPy (que é o tipo de dados que o KMeans espera). Isso pode ser feito com o seguinte código:\n",
    "```\n",
    "X = np.array(train.drop(['Survived'], 1).astype(float))\n",
    "```\n",
    "Também vamos precisar guardar os valores da característica `Survived` para comparar com os valores de rótulos gerados pelo K-means. Podemos faxer isso com o código abaixo:\n",
    "```\n",
    "y = np.array(train['Survived'])\n",
    "```\n",
    "Uma vez que os dados estejam preparados, podemos agora construir o modelo K-means. Especificaremos dois clusteres pois queremos agrupar os dados em duas categorias, correspondendo aos grupos dos que sobreviveram e dos que não sobreviveram. Nossa conjectura é que haja semelhanças suficientes entre os dados para permitir esse agrupamento.\n",
    "\n",
    "Prepare os dados e crie o modelo K-means."
   ]
  },
  {
   "cell_type": "code",
   "execution_count": 28,
   "metadata": {
    "collapsed": true
   },
   "outputs": [],
   "source": [
    "# Prepare os dados X e y para treinamento e validação do modelo\n",
    "y = np.array(train['Survived'])\n",
    "X = np.array(train.drop(['Survived'], 1).astype(float)) # <-- é isso mesmo?"
   ]
  },
  {
   "cell_type": "code",
   "execution_count": 29,
   "metadata": {},
   "outputs": [
    {
     "data": {
      "text/plain": [
       "KMeans(algorithm='auto', copy_x=True, init='k-means++', max_iter=300,\n",
       "    n_clusters=2, n_init=10, n_jobs=None, precompute_distances='auto',\n",
       "    random_state=None, tol=0.0001, verbose=0)"
      ]
     },
     "execution_count": 29,
     "metadata": {},
     "output_type": "execute_result"
    }
   ],
   "source": [
    "# Crie o modelo K-means\n",
    "kmeans = KMeans(n_clusters=2) # sobreviventes e não-sobreviventes\n",
    "kmeans.fit(X)"
   ]
  },
  {
   "cell_type": "code",
   "execution_count": 30,
   "metadata": {},
   "outputs": [
    {
     "data": {
      "text/plain": [
       "array([[  2.39140811,   0.66587112,  29.56980696,   0.51431981,\n",
       "          0.349642  ,  22.41194248],\n",
       "       [  1.        ,   0.35849057,  31.74369034,   0.66037736,\n",
       "          0.88679245, 187.03285849]])"
      ]
     },
     "execution_count": 30,
     "metadata": {},
     "output_type": "execute_result"
    }
   ],
   "source": [
    "# Verificação dos centróides\n",
    "kmeans.cluster_centers_"
   ]
  },
  {
   "cell_type": "code",
   "execution_count": 31,
   "metadata": {},
   "outputs": [
    {
     "data": {
      "text/plain": [
       "array([0, 0, 0, 0, 0, 0, 0, 0, 0, 0, 0, 0, 0, 0, 0, 0, 0, 0, 0, 0, 0, 0,\n",
       "       0, 0, 0, 0, 0, 1, 0, 0, 0, 1, 0, 0, 0, 0, 0, 0, 0, 0, 0, 0, 0, 0,\n",
       "       0, 0, 0, 0, 0, 0], dtype=int32)"
      ]
     },
     "execution_count": 31,
     "metadata": {},
     "output_type": "execute_result"
    }
   ],
   "source": [
    "# Verificação dos clusters\n",
    "kmeans.labels_[:50]"
   ]
  },
  {
   "cell_type": "markdown",
   "metadata": {},
   "source": [
    "Agora que temo um modelo K-means para o nosso conjunto de dados, utilize a função `predict(X)` para obter os rótulos previstos pelo modelo e calcular o nível de acurácia do modelo. O nível de acurácia é obtido dividindo-se o número de previsões corretas pelo número total de instâncias. Para calcular a acurácia você terá que comparar os rótulos previstos com os rótulos guardados em `y`."
   ]
  },
  {
   "cell_type": "code",
   "execution_count": 32,
   "metadata": {
    "collapsed": true
   },
   "outputs": [],
   "source": [
    "# Calcule os rótulos previstos\n",
    "labels = kmeans.predict(X)"
   ]
  },
  {
   "cell_type": "code",
   "execution_count": 33,
   "metadata": {},
   "outputs": [
    {
     "data": {
      "text/plain": [
       "0.6442199775533108"
      ]
     },
     "execution_count": 33,
     "metadata": {},
     "output_type": "execute_result"
    }
   ],
   "source": [
    "# Calcule a acurácia do seu modelo\n",
    "from sklearn.metrics import accuracy_score\n",
    "accuracy_score(labels, y)"
   ]
  },
  {
   "cell_type": "markdown",
   "metadata": {},
   "source": [
    "Provavelmente, você obteve uma acurácia em torno de 50%. Considerando-se que os dados estão bastante desbalanceados, i.e., o cluster correspondendo a `Survived = 0` contém muito mais elementos do que o cluster com `Survived = 1`, até que o resultado não está tão ruim. Entretanto, também não está muito bom.\n",
    "\n",
    "Uma possível fonte de dificuldade para o algoritmo do K-means é o fato de as características estarem com escalas diferentes, i.e., as características do conjunto de dados contêm diferentes intervalos de valores. Então, o que acontece é que uma pequena alteração em uma característica pode não ser significativa em comparação com as outras características. Portanto, também é importante dimensionar os valores das características para um mesmo intervalo.\n",
    "\n",
    "Vamos fazer isso agora e, para esse experimento, usaremos o intervalo de 0 a 1 como o intervalo de valores uniformes em todos os recursos. O código que implementa esta normalização é dados abaixo.\n",
    "\n",
    "```\n",
    "scaler = MinMaxScaler()\n",
    "X_scaled = scaler.fit_transform(X)\n",
    "```\n",
    "\n",
    "Execute este código, gere novamente um modelo K-means, desta vez para o modelo escalonado, e calcule novamente a acurácia do modelo."
   ]
  },
  {
   "cell_type": "code",
   "execution_count": 34,
   "metadata": {
    "collapsed": true
   },
   "outputs": [],
   "source": [
    "# Gere a versão normalizada dos dados de treinamento\n",
    "scaler = MinMaxScaler()\n",
    "X_scaled = scaler.fit_transform(X)"
   ]
  },
  {
   "cell_type": "code",
   "execution_count": 35,
   "metadata": {},
   "outputs": [
    {
     "data": {
      "text/plain": [
       "KMeans(algorithm='auto', copy_x=True, init='k-means++', max_iter=300,\n",
       "    n_clusters=2, n_init=10, n_jobs=None, precompute_distances='auto',\n",
       "    random_state=None, tol=0.0001, verbose=0)"
      ]
     },
     "execution_count": 35,
     "metadata": {},
     "output_type": "execute_result"
    }
   ],
   "source": [
    "# Gere o modelo K-means para a versão normalizada dos dados\n",
    "kmeans2 = KMeans(n_clusters=2) # sobreviventes e não-sobreviventes\n",
    "kmeans2.fit(X_scaled)"
   ]
  },
  {
   "cell_type": "code",
   "execution_count": 36,
   "metadata": {},
   "outputs": [
    {
     "data": {
      "text/plain": [
       "0.2132435465768799"
      ]
     },
     "execution_count": 36,
     "metadata": {},
     "output_type": "execute_result"
    }
   ],
   "source": [
    "# Calcule a acurácia do modelo com os dados normalizados\n",
    "labels_scaled = kmeans2.predict(X_scaled)\n",
    "accuracy_score(labels_scaled, y)"
   ]
  },
  {
   "cell_type": "markdown",
   "metadata": {},
   "source": [
    "A acurácia deve ter melhorado mas, provavelmente, ainda deve estar na casa dos 65%, talvez menos. \n",
    "\n",
    "Que outra(s) técnica(s) você poderia utilizar para tentar melhorar a acurácia do seu modelo de predição?\n",
    "\n",
    "**Resposta:**\n",
    "\n",
    "Podemos utilizar outros algoritmos para tentar predizer a sobrevivência dos passageiros. Entre estes, os dferentes métodos de kernel para aprendizado de máquina, e técnicas de agrupamento espectral (spectral clustering).\n",
    "\n",
    "Ou ainda, a fim de aprofundarmos mais no uso do algoritmo já utilizado, talvez possamos verificar pelo método da silhueta ou do \"cotovelo\" se o valor ótimo de clusters a ser considerado é mesmo 2, ou se deveríamos tentar a clusterização por k-means utilizando um outro valor k.\n",
    "\n",
    "$\\Diamond$"
   ]
  },
  {
   "cell_type": "markdown",
   "metadata": {},
   "source": [
    "Implemente a(s) técnicas que você descreveu acima e verifique se foi ou não possível melhorar o modelo."
   ]
  },
  {
   "cell_type": "code",
   "execution_count": 37,
   "metadata": {},
   "outputs": [
    {
     "name": "stderr",
     "output_type": "stream",
     "text": [
      "/home/neo/.anaconda3/lib/python3.6/site-packages/sklearn/manifold/spectral_embedding_.py:237: UserWarning: Graph is not fully connected, spectral embedding may not work as expected.\n",
      "  warnings.warn(\"Graph is not fully connected, spectral embedding\"\n"
     ]
    },
    {
     "name": "stdout",
     "output_type": "stream",
     "text": [
      "precomputed => array must be 2-dimensional and square. shape = (891, 6)\n",
      "additive_chi2 => array must not contain infs or NaNs\n"
     ]
    },
    {
     "name": "stderr",
     "output_type": "stream",
     "text": [
      "/home/neo/.anaconda3/lib/python3.6/site-packages/scipy/sparse/csgraph/_laplacian.py:120: RuntimeWarning: invalid value encountered in sqrt\n",
      "  w = np.where(isolated_node_mask, 1, np.sqrt(w))\n"
     ]
    },
    {
     "name": "stdout",
     "output_type": "stream",
     "text": [
      "affinity \t\t accuracy\n",
      "rbf      \t     \t 0.7867564534231201\n",
      "poly      \t     \t 0.7867564534231201\n",
      "polynomial      \t 0.7867564534231201\n",
      "linear      \t     \t 0.6868686868686869\n",
      "nearest_neighbors      \t 0.41975308641975306\n",
      "sigmoid      \t     \t 0.31200897867564537\n",
      "cosine      \t     \t 0.2850729517396184\n",
      "chi2      \t     \t 0.2132435465768799\n",
      "laplacian      \t     \t 0.2132435465768799\n"
     ]
    }
   ],
   "source": [
    "# Implemente as suas técnicas. Utilize quantas células achar necessário.\n",
    "from sklearn.cluster import SpectralClustering\n",
    "\n",
    "# affinity:\n",
    "# default - 'nearest_neighbors’, ‘precomputed’, ‘rbf\n",
    "# ‘additive_chi2’ - sklearn.pairwise.additive_chi2_kernel\n",
    "# ‘chi2’ - sklearn.pairwise.chi2_kernel\n",
    "# ‘linear’ - sklearn.pairwise.linear_kernel\n",
    "# ‘poly’ - sklearn.pairwise.polynomial_kernel\n",
    "# ‘polynomial’ - sklearn.pairwise.polynomial_kernel\n",
    "# ‘rbf’ - sklearn.pairwise.rbf_kernel\n",
    "# ‘laplacian’ - sklearn.pairwise.laplacian_kernel\n",
    "# ‘sigmoid’ - sklearn.pairwise.sigmoid_kernel\n",
    "# ‘cosine’ - sklearn.pairwise.cosine_similarity\n",
    "\n",
    "affinity_default = ['nearest_neighbors', 'precomputed', 'rbf']\n",
    "affinity_kernels = ['additive_chi2', 'chi2', 'linear', 'poly', 'polynomial', 'rbf', 'laplacian', 'sigmoid', 'cosine']\n",
    "\n",
    "accuracy = {}\n",
    "\n",
    "for a in affinity_default+affinity_kernels:\n",
    "    \n",
    "    try:\n",
    "        model = SpectralClustering(n_clusters=2, # <-- sobreviventes/não sobreviventes\n",
    "                                   affinity=a, # <-- aproximação por método de kernel\n",
    "                                   assign_labels='kmeans')\n",
    "\n",
    "        accuracy[a] = accuracy_score(model.fit_predict(X_scaled), y)\n",
    "    \n",
    "    except ValueError as e: # pass\n",
    "        print(a, '=>', str(e))\n",
    "\n",
    "print('affinity \\t\\t accuracy')\n",
    "for k,v in sorted(accuracy.items(), key=lambda x:x[1], reverse=True):\n",
    "    print(k, '     \\t'*(1 if len(k)>9 else 2), v)"
   ]
  },
  {
   "cell_type": "markdown",
   "metadata": {},
   "source": [
    "# 6. Conclusão\n",
    "\n",
    "Neste exercício arranhamos a superfície de uma das técnicas de clusterização mais populares, o K-Means. Se você gostaria de aprender mais sobre essas técnicas de agrupamento, eu recomendo que você confira a página da Wikipédia.com sobre [k-means clustering](https://en.wikipedia.org/wiki/K-means_clustering), e a página do [K-Means no Scikit-Learn](https://scikit-learn.org/stable/modules/generated/sklearn.cluster.KMeans.html).\n",
    "\n",
    "Também é interessante notar que, embora possamos usar essa técnica com algum sucesso, o K-Means não seria a técnica mais indicada para resolver este problema específico."
   ]
  }
 ],
 "metadata": {
  "kernelspec": {
   "display_name": "Python 3",
   "language": "python",
   "name": "python3"
  },
  "language_info": {
   "codemirror_mode": {
    "name": "ipython",
    "version": 3
   },
   "file_extension": ".py",
   "mimetype": "text/x-python",
   "name": "python",
   "nbconvert_exporter": "python",
   "pygments_lexer": "ipython3",
   "version": "3.6.8"
  }
 },
 "nbformat": 4,
 "nbformat_minor": 2
}
