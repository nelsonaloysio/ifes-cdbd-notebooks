{
 "cells": [
  {
   "cell_type": "markdown",
   "metadata": {},
   "source": [
    "# Experimentos Estatísticos e Testes de Significância"
   ]
  },
  {
   "cell_type": "markdown",
   "metadata": {},
   "source": [
    "## 1. Teste A/B\n",
    "\n",
    "O Teste A/B é um experimento com dois grupos para determinar qual dos dois tratamentos (procuto, procedimento, etc.) é o melhor.\n",
    "\n",
    "O código abaixo define um conjunto de dados simples representando o resultado de um experimento para testas o efeito de dois preços diferentes nas vendas de um produto."
   ]
  },
  {
   "cell_type": "code",
   "execution_count": 1,
   "metadata": {},
   "outputs": [
    {
     "data": {
      "text/html": [
       "<div>\n",
       "<style scoped>\n",
       "    .dataframe tbody tr th:only-of-type {\n",
       "        vertical-align: middle;\n",
       "    }\n",
       "\n",
       "    .dataframe tbody tr th {\n",
       "        vertical-align: top;\n",
       "    }\n",
       "\n",
       "    .dataframe thead th {\n",
       "        text-align: right;\n",
       "    }\n",
       "</style>\n",
       "<table border=\"1\" class=\"dataframe\">\n",
       "  <thead>\n",
       "    <tr style=\"text-align: right;\">\n",
       "      <th></th>\n",
       "      <th>Price</th>\n",
       "      <th>Conversion</th>\n",
       "      <th>Noconversion</th>\n",
       "    </tr>\n",
       "  </thead>\n",
       "  <tbody>\n",
       "    <tr>\n",
       "      <th>0</th>\n",
       "      <td>Price A</td>\n",
       "      <td>200</td>\n",
       "      <td>23539</td>\n",
       "    </tr>\n",
       "    <tr>\n",
       "      <th>1</th>\n",
       "      <td>Price B</td>\n",
       "      <td>182</td>\n",
       "      <td>22406</td>\n",
       "    </tr>\n",
       "  </tbody>\n",
       "</table>\n",
       "</div>"
      ],
      "text/plain": [
       "     Price  Conversion  Noconversion\n",
       "0  Price A         200         23539\n",
       "1  Price B         182         22406"
      ]
     },
     "execution_count": 1,
     "metadata": {},
     "output_type": "execute_result"
    }
   ],
   "source": [
    "import numpy as np\n",
    "import pandas as pd\n",
    "\n",
    "ecommerce = pd.DataFrame([['Price A', 200, 23539], ['Price B', 182, 22406]], \n",
    "                         columns=['Price', 'Conversion', 'Noconversion'])\n",
    "ecommerce"
   ]
  },
  {
   "cell_type": "markdown",
   "metadata": {},
   "source": [
    "## 2. Testes de Hipóteses\n",
    "\n",
    "Os testes de hipóteses, também chamados de _testes de significância_, são onipresentes na análise estatística tradicional. Seu objetivo é ajudá-lo a saber se o acaso aleatório pode ser responsável por um efeito observado.\n",
    "\n",
    "Em um teste A/B adequadamente projetado, você coleta dados sobre os tratamentos A e B de tal forma que qualquer diferença observada entre A e B deve ser devida a:\n",
    "- Acaso aleatório na atribuição de sujeitos\n",
    "- Uma verdadeira diferença entre A e B\n",
    "\n",
    "### 2.1. Hipótese Nula\n",
    "\n",
    "Existe envolve uma suposição básica de que os tratamentos são equivalentes e qualquer diferença entre os grupos é devida ao acaso. Esta suposição de base é denominada **hipótese nula**. Nossa esperança é, então, que possamos, de fato, provar que a hipótese nula está errada e mostrar que os resultados para os grupos A e B são mais diferentes do que o acaso poderia produzir.\n",
    "\n",
    "### 2.2. Hipótese Alternativa\n",
    "\n",
    "Os testes de hipóteses, por sua natureza, envolvem não apenas uma hipótese nula, mas também uma **hipótese alternativa**. Em conjunto, as hipóteses nula e alternativa devem considerar todas as possibilidades. A natureza da hipótese nula determina a estrutura do teste de hipóteses.\n"
   ]
  },
  {
   "cell_type": "markdown",
   "metadata": {},
   "source": [
    "## 3. Reamostragem\n",
    "\n",
    "_Reamostragem_ em estatística significa coletar repetidamente valores de dados observados, com um objetivo geral de avaliar a variabilidade aleatória em uma estatística.\n",
    "\n",
    "Existem dois tipos principais de procedimentos de reamostragem: **bootstrap** e os **testes de permutação**. O _bootstrap_ é usado para avaliar a confiabilidade de uma estimativa. _Testes de permutação_ são usados para testar hipóteses, tipicamente envolvendo dois ou mais grupos.\n",
    "\n",
    "### 3.1 Testes de Permutação\n",
    "\n",
    "Em um procedimento de permutação, duas ou mais amostras estão envolvidas, tipicamente os grupos em um teste de hipótese. Permutar significa alterar a ordem de um conjunto de valores. O primeiro passo em um teste de permutação de uma hipótese é combinar os resultados dos grupos A e B (e, se usados, C, D, ...) juntos. Esta é a incorporação lógica da hipótese nula de que os tratamentos aos quais os grupos foram expostos não altera o efeito. Em seguida, testamos essa hipótese desenhando aleatoriamente grupos desse conjunto combinado e vendo o quanto eles diferem um do outro. O procedimento de permutação é o seguinte:\n",
    "\n",
    "1. Combine os resultados dos diferentes grupos em um único conjunto de dados.\n",
    "2. Embaralhe os dados combinados e, em seguida, retire aleatoriamente uma amostra do mesmo tamanho que o grupo A.\n",
    "3. A partir dos dados restantes, retire aleatoriamente uma amostra do mesmo tamanho que o grupo B.\n",
    "4. Faça o mesmo para os grupos C, D e assim por diante.\n",
    "5. Seja qual for a estatística ou estimativa calculada para as amostras originais, calcule-as agora para as novas amostras e registre; isso constitui uma iteração de permutação.\n",
    "6. Repita as etapas anteriores $R$ vezes para obter uma distribuição de permutação da estatística de teste.\n",
    "\n",
    "O código em Python abaixo implementa esse algoritmo para dois grupo (A e B) e utilizando a estatística de média.\n"
   ]
  },
  {
   "cell_type": "code",
   "execution_count": 2,
   "metadata": {},
   "outputs": [],
   "source": [
    "def permutation_test_mean(pooled, n1, n2):\n",
    "    np.random.shuffle(pooled)\n",
    "    x = pooled[:n1]\n",
    "    y = pooled[-n2:]\n",
    "    return x.mean() - y.mean()"
   ]
  },
  {
   "cell_type": "markdown",
   "metadata": {},
   "source": [
    "**Exemplo 1.** Como exemplo de uso da função `permutation_test_mean`, apresentamos dois conjuntos de dados abaixo ($a$ e $b$) que representam os tempos médios de sobrevida (em meses) para um tratamento (grupo A) e um grupo de controle (grupo B)."
   ]
  },
  {
   "cell_type": "code",
   "execution_count": 3,
   "metadata": {},
   "outputs": [
    {
     "name": "stdout",
     "output_type": "stream",
     "text": [
      "30.63492063492064\n"
     ]
    }
   ],
   "source": [
    "a = np.array([94,197,16,38,99,141,23])\n",
    "b = np.array([52,104,146,10,51,30,40,27,46])\n",
    "delta = a.mean() - b.mean()\n",
    "print(delta)"
   ]
  },
  {
   "cell_type": "markdown",
   "metadata": {},
   "source": [
    "Como vemos, o grupo A tem uma sobrevida média superior em 30 meses ao grupo A. A questão agora é determinar o quão provável é que esta deferença se deva apenas ao acaso na distribuição dos indivíduos nos grupos. Para isso usaremos o teste de permutação."
   ]
  },
  {
   "cell_type": "code",
   "execution_count": 4,
   "metadata": {},
   "outputs": [
    {
     "name": "stdout",
     "output_type": "stream",
     "text": [
      "0.13780000000000003\n"
     ]
    }
   ],
   "source": [
    "num_samples = 10000\n",
    "pooled = np.hstack([a,b])\n",
    "estimates = np.array(list(map(lambda x: permutation_test_mean(pooled, a.size, b.size), range(num_samples))))\n",
    "less_extremes = np.where(estimates <= delta)[0]\n",
    "p = 1.0 - float(len(less_extremes))/float(num_samples)\n",
    "print(p)"
   ]
  },
  {
   "cell_type": "markdown",
   "metadata": {},
   "source": [
    "O que significa que existe uma change de aproximadamente 14% de que o mero acaso possa gerar diferenças de média tão grandes quanto os que foram medidos pelo experimento. Considerando um valor de _alfa_ de 5%, nós falhamos em rejeitar a Hipótese Nula ($H_0$).\n",
    "\n",
    "A título de vizualização, apresentamos a seguir o histograma das estimativas geradas pelo teste de permutação.\n"
   ]
  },
  {
   "cell_type": "code",
   "execution_count": 5,
   "metadata": {},
   "outputs": [
    {
     "data": {
      "text/plain": [
       "Text(0.5, 1.0, 'Teste de Permutação')"
      ]
     },
     "execution_count": 5,
     "metadata": {},
     "output_type": "execute_result"
    },
    {
     "data": {
      "image/png": "[encoded data removed]",
      "text/plain": [
       "<Figure size 1080x648 with 1 Axes>"
      ]
     },
     "metadata": {
      "needs_background": "light"
     },
     "output_type": "display_data"
    }
   ],
   "source": [
    "import matplotlib.pyplot as plt\n",
    "%matplotlib inline\n",
    "\n",
    "# An \"interface\" to matplotlib.axes.Axes.hist() method\n",
    "fig, ax = plt.subplots(figsize=(15,9))\n",
    "n, bins, patches = ax.hist(x=estimates, bins='auto', color='#0504aa', alpha=0.7, rwidth=0.85)\n",
    "ax.axvline(delta, color='k', linestyle='dashed', linewidth=2)\n",
    "ax.grid(axis='y', alpha=0.75)\n",
    "ax.set_xlabel('Distribuição das Diferenças das Médias')\n",
    "ax.set_ylabel('Frequência')\n",
    "ax.set_title('Teste de Permutação')"
   ]
  },
  {
   "cell_type": "markdown",
   "metadata": {},
   "source": [
    "Isso conclui o exemplo. $\\Diamond$"
   ]
  },
  {
   "cell_type": "markdown",
   "metadata": {},
   "source": [
    "**Exercício 1.** Utilize testes de permutação para determinar se a diferença entre as taxas de converção para os Preços A e B do dataframe `ecommerce` (definido acima) são estatisticamente significativas ou não. Considere _alfa_ igual a 5%. Para fazer os testes de permutação crie vetores contendo zeros e uns para representar as observações (zeros para não-coversão e uns para conversão) utilizando as funções `np.zeros` e `np.ones` do NumPy.\n",
    "\n",
    "Neste exercício, estamos interessados na quantidade de conversões (compras) e não nas médias. Por isso a função `permutation_test_mean` não irá funcionar. Utilize a função `permutation_test_sum` definida abaixo."
   ]
  },
  {
   "cell_type": "code",
   "execution_count": 6,
   "metadata": {},
   "outputs": [],
   "source": [
    "def permutation_test_sum(pooled, n1, n2):\n",
    "    np.random.shuffle(pooled)\n",
    "    x = pooled[:n1]\n",
    "    y = pooled[-n2:]\n",
    "    return x.sum() - y.sum()"
   ]
  },
  {
   "cell_type": "markdown",
   "metadata": {},
   "source": [
    "Caso seja necessário, insira mais células no notebook."
   ]
  },
  {
   "cell_type": "code",
   "execution_count": 7,
   "metadata": {},
   "outputs": [
    {
     "name": "stdout",
     "output_type": "stream",
     "text": [
      "0.3378\n"
     ]
    }
   ],
   "source": [
    "# Código para análise dos dados\n",
    "import numpy as np\n",
    "\n",
    "int_samples = 20000\n",
    "\n",
    "a_zeros = np.zeros([23539])#int(ecommerce['Noconversion'][0])]) # 23539\n",
    "a_ones = np.ones([200])#int(ecommerce['Conversion'][0])]) # 200\n",
    "b_zeros = np.zeros([22406])#int(ecommerce['Noconversion'][1])]) # 22406\n",
    "b_ones = np.ones([182])#int(ecommerce['Conversion'][1])]) # 182\n",
    "\n",
    "size_a = a_zeros.size + a_ones.size\n",
    "size_b = b_zeros.size + b_ones.size\n",
    "\n",
    "# average conversion\n",
    "delta = (((a_ones.sum()*100)/size_a) - (((b_ones.sum()*100)/size_b)))\n",
    "\n",
    "pooled_conv = np.hstack([a_ones, b_ones])\n",
    "pooled_noconv = np.hstack([a_zeros, b_zeros])\n",
    "pooled_all = np.hstack([pooled_conv, pooled_noconv])\n",
    "\n",
    "estimates = np.array(list(map(lambda x: permutation_test_sum(pooled_all, size_a, size_b), range(int_samples))))\n",
    "less_extremes = np.where(estimates <= delta)[0]\n",
    "p = 1.0 - float(len(less_extremes))/float(num_samples)\n",
    "\n",
    "print(p)"
   ]
  },
  {
   "cell_type": "markdown",
   "metadata": {},
   "source": [
    "_Comente os resultados Obtidos_"
   ]
  },
  {
   "cell_type": "markdown",
   "metadata": {},
   "source": [
    "Uma vez que p=0.33, existe uma chance aproximada de 33% de que a aleatoriedade gere uma conversão de compra.\n",
    "A hipótese nula, portanto, não pode ser descartada considerando-se um valor alfa de 5%."
   ]
  },
  {
   "cell_type": "markdown",
   "metadata": {},
   "source": [
    "$\\Diamond$ **_Fim do Exercício 1_** $\\Diamond$"
   ]
  },
  {
   "cell_type": "markdown",
   "metadata": {},
   "source": [
    "**Exercício 2.** Baixe o conjunto de dados chamado `web_page_data.csv` da página da disciplina no Moodle e carregue estes dados para um DataFrame em Python. Este DataFrame contém dois campos, _Page_ e _Time_. Utilize os conceitos vistos até aqui para determinar se a diferença de tempo de permanência entre os usuário que acessam a 'Page A' e os usuários que acessam a 'Page B' é estatisticamente significativa ou não. Considere o valor de _alfa_ igual a 5%. (Se precisar, insira mais células no notebook.)"
   ]
  },
  {
   "cell_type": "code",
   "execution_count": 10,
   "metadata": {},
   "outputs": [
    {
     "name": "stdout",
     "output_type": "stream",
     "text": [
      "0.925\n"
     ]
    }
   ],
   "source": [
    "# Código para a análise dos dados\n",
    "int_samples = 1000\n",
    "\n",
    "df = pd.read_csv('web_page_data.csv')\n",
    "\n",
    "page_a = df[df['Page'] == 'Page A']\n",
    "page_b = df[df['Page'] == 'Page B']\n",
    "\n",
    "a_sum = page_a.sum()['Time']\n",
    "a_count = page_a.count()['Time']\n",
    "a_time = page_a['Time']\n",
    "\n",
    "b_sum = page_b.sum()['Time']\n",
    "b_count = page_b.count()['Time']\n",
    "b_time = page_b['Time']\n",
    "\n",
    "# average conversion (buy) time\n",
    "delta = abs((a_sum / a_count) - (b_sum / b_count))\n",
    "\n",
    "pooled = np.hstack([a_time, b_time])\n",
    "\n",
    "estimates = np.array(list(map(lambda x: permutation_test_sum(pooled,\n",
    "                                                             len(a_time),\n",
    "                                                             len(b_time)),\n",
    "                                                             range(int_samples))))\n",
    "\n",
    "less_extremes = np.where(estimates <= delta)[0]\n",
    "\n",
    "p = 1.0 - float(len(less_extremes))/float(int_samples)\n",
    "\n",
    "print(p)"
   ]
  },
  {
   "cell_type": "markdown",
   "metadata": {},
   "source": [
    "_Comente os resultados obtidos_"
   ]
  },
  {
   "cell_type": "markdown",
   "metadata": {},
   "source": [
    "Uma vez que p=0.92, existe uma chance aproximada de 92% de que a aleatoriedade se relacione à permanência de tempo na paǵina.\n",
    "A hipótese nula, portanto, não pode ser descartada considerando-se um valor alfa de 5%."
   ]
  },
  {
   "cell_type": "markdown",
   "metadata": {},
   "source": [
    "$\\Diamond$ **_Fim do Exercício 2_** $\\Diamond$"
   ]
  },
  {
   "cell_type": "markdown",
   "metadata": {},
   "source": [
    "## 4. Análise de Variância (ANOVA)\n",
    "\n",
    "Suponha que, em vez de um teste A/B, tivéssemos uma comparação de vários grupos, digamos A-B-C-D, cada um com dados numéricos. O procedimento estatístico que testa uma diferença estatisticamente significativa entre os grupos é chamado de análise de variância, ou ANOVA.\n",
    "\n",
    "Em vez de nos preocuparmos com todas as diferentes comparações possíveis entre pares de páginas individuais, podemos fazer um único teste geral que aborda a questão: _“É possível que todos os diferentes tratamentos (A-B-C-D) tenham o mesmo efeito, e a diferença entre eles se deva ao acaso?”_ O procedimento usado para testar esta hipótese é o ANOVA. A base para o ANOVA pode ser vista no seguinte procedimento de reamostragem:\n",
    "1. Combine todos os dados juntos em uma única caixa\n",
    "2. Embaralhe e extraia $K$ novas amostras, repectivamente com $[n_1, n_2, \\ldots, n_k]$ observações cada\n",
    "3. Registre a média de cada um dos $K$ grupos\n",
    "4. Registre a variância entre as $K$ médias do grupo\n",
    "5. Repita os passos 2 a 4 muitas vezes (umas 1.000 ou mais)\n",
    "Que proporção das vezes a variância reamostrada excedeu a variância observada? Esse é o valor $p$.\n",
    "\n",
    "Existem duas funções no pacote SciPy que implementa o cálculo do ANOVA. Ambas definidas dentro do sub-pacote `scipy.stats`. A função `f_oneway` e a função `kruskal`. \n",
    "\n",
    "A função `f_oneway` dá resultados mais confiáveis, mas ela pré-supõe alguns requisitos:\n",
    "1. As amostras são independentes.\n",
    "2. Cada amostra é de uma população normalmente distribuída.\n",
    "3. Os desvios padrão da população dos grupos são todos iguais. Esta propriedade é conhecida como homocedasticidade.\n",
    "\n",
    "A função `kruskal` não exige estes pré-requisitos, mas tem menor poder e menor precisão no cálculo do valor $p$.\n"
   ]
  },
  {
   "cell_type": "markdown",
   "metadata": {},
   "source": [
    "**Exemplo 2.** Temos um conjunto de dados referente a um experimento para determinar se a dose de um certo remédio tem influência na libido dos pacientes. (O conjunto de dados `difficile.csv` está disponível na página do Moodle.) Este conjunto de dados possui três atrubutos: `person` (identificador numérico do paciente), `dose` (1=placebo, 2=baixa, ou 3=alta), e `libido` (indicador numérico de nível).\n",
    "\n",
    "Vamos dar uma olhada no conjunto de dados:\n"
   ]
  },
  {
   "cell_type": "code",
   "execution_count": 11,
   "metadata": {},
   "outputs": [
    {
     "data": {
      "text/html": [
       "<div>\n",
       "<style scoped>\n",
       "    .dataframe tbody tr th:only-of-type {\n",
       "        vertical-align: middle;\n",
       "    }\n",
       "\n",
       "    .dataframe tbody tr th {\n",
       "        vertical-align: top;\n",
       "    }\n",
       "\n",
       "    .dataframe thead th {\n",
       "        text-align: right;\n",
       "    }\n",
       "</style>\n",
       "<table border=\"1\" class=\"dataframe\">\n",
       "  <thead>\n",
       "    <tr style=\"text-align: right;\">\n",
       "      <th></th>\n",
       "      <th>dose</th>\n",
       "      <th>libido</th>\n",
       "    </tr>\n",
       "  </thead>\n",
       "  <tbody>\n",
       "    <tr>\n",
       "      <th>count</th>\n",
       "      <td>15.000000</td>\n",
       "      <td>15.000000</td>\n",
       "    </tr>\n",
       "    <tr>\n",
       "      <th>mean</th>\n",
       "      <td>2.000000</td>\n",
       "      <td>3.466667</td>\n",
       "    </tr>\n",
       "    <tr>\n",
       "      <th>std</th>\n",
       "      <td>0.845154</td>\n",
       "      <td>1.767430</td>\n",
       "    </tr>\n",
       "    <tr>\n",
       "      <th>min</th>\n",
       "      <td>1.000000</td>\n",
       "      <td>1.000000</td>\n",
       "    </tr>\n",
       "    <tr>\n",
       "      <th>25%</th>\n",
       "      <td>1.000000</td>\n",
       "      <td>2.000000</td>\n",
       "    </tr>\n",
       "    <tr>\n",
       "      <th>50%</th>\n",
       "      <td>2.000000</td>\n",
       "      <td>3.000000</td>\n",
       "    </tr>\n",
       "    <tr>\n",
       "      <th>75%</th>\n",
       "      <td>3.000000</td>\n",
       "      <td>4.500000</td>\n",
       "    </tr>\n",
       "    <tr>\n",
       "      <th>max</th>\n",
       "      <td>3.000000</td>\n",
       "      <td>7.000000</td>\n",
       "    </tr>\n",
       "  </tbody>\n",
       "</table>\n",
       "</div>"
      ],
      "text/plain": [
       "            dose     libido\n",
       "count  15.000000  15.000000\n",
       "mean    2.000000   3.466667\n",
       "std     0.845154   1.767430\n",
       "min     1.000000   1.000000\n",
       "25%     1.000000   2.000000\n",
       "50%     2.000000   3.000000\n",
       "75%     3.000000   4.500000\n",
       "max     3.000000   7.000000"
      ]
     },
     "execution_count": 11,
     "metadata": {},
     "output_type": "execute_result"
    }
   ],
   "source": [
    "import pandas as pd\n",
    "import scipy.stats as stats\n",
    "import matplotlib.pyplot as plt\n",
    "\n",
    "df = pd.read_csv(\"difficile.csv\")\n",
    "df.drop('person', axis= 1, inplace= True)\n",
    "\n",
    "df.describe()"
   ]
  },
  {
   "cell_type": "markdown",
   "metadata": {},
   "source": [
    "Agora vejamos, aproximadamente como o atributo libido está distribuído de acordo com as doses."
   ]
  },
  {
   "cell_type": "code",
   "execution_count": 12,
   "metadata": {},
   "outputs": [
    {
     "data": {
      "text/html": [
       "<div>\n",
       "<style scoped>\n",
       "    .dataframe tbody tr th:only-of-type {\n",
       "        vertical-align: middle;\n",
       "    }\n",
       "\n",
       "    .dataframe tbody tr th {\n",
       "        vertical-align: top;\n",
       "    }\n",
       "\n",
       "    .dataframe thead th {\n",
       "        text-align: right;\n",
       "    }\n",
       "</style>\n",
       "<table border=\"1\" class=\"dataframe\">\n",
       "  <thead>\n",
       "    <tr style=\"text-align: right;\">\n",
       "      <th></th>\n",
       "      <th>count</th>\n",
       "      <th>mean</th>\n",
       "      <th>std</th>\n",
       "      <th>min</th>\n",
       "      <th>25%</th>\n",
       "      <th>50%</th>\n",
       "      <th>75%</th>\n",
       "      <th>max</th>\n",
       "    </tr>\n",
       "    <tr>\n",
       "      <th>dose</th>\n",
       "      <th></th>\n",
       "      <th></th>\n",
       "      <th></th>\n",
       "      <th></th>\n",
       "      <th></th>\n",
       "      <th></th>\n",
       "      <th></th>\n",
       "      <th></th>\n",
       "    </tr>\n",
       "  </thead>\n",
       "  <tbody>\n",
       "    <tr>\n",
       "      <th>1</th>\n",
       "      <td>5.0</td>\n",
       "      <td>2.2</td>\n",
       "      <td>1.303840</td>\n",
       "      <td>1.0</td>\n",
       "      <td>1.0</td>\n",
       "      <td>2.0</td>\n",
       "      <td>3.0</td>\n",
       "      <td>4.0</td>\n",
       "    </tr>\n",
       "    <tr>\n",
       "      <th>2</th>\n",
       "      <td>5.0</td>\n",
       "      <td>3.2</td>\n",
       "      <td>1.303840</td>\n",
       "      <td>2.0</td>\n",
       "      <td>2.0</td>\n",
       "      <td>3.0</td>\n",
       "      <td>4.0</td>\n",
       "      <td>5.0</td>\n",
       "    </tr>\n",
       "    <tr>\n",
       "      <th>3</th>\n",
       "      <td>5.0</td>\n",
       "      <td>5.0</td>\n",
       "      <td>1.581139</td>\n",
       "      <td>3.0</td>\n",
       "      <td>4.0</td>\n",
       "      <td>5.0</td>\n",
       "      <td>6.0</td>\n",
       "      <td>7.0</td>\n",
       "    </tr>\n",
       "  </tbody>\n",
       "</table>\n",
       "</div>"
      ],
      "text/plain": [
       "      count  mean       std  min  25%  50%  75%  max\n",
       "dose                                                \n",
       "1       5.0   2.2  1.303840  1.0  1.0  2.0  3.0  4.0\n",
       "2       5.0   3.2  1.303840  2.0  2.0  3.0  4.0  5.0\n",
       "3       5.0   5.0  1.581139  3.0  4.0  5.0  6.0  7.0"
      ]
     },
     "execution_count": 12,
     "metadata": {},
     "output_type": "execute_result"
    }
   ],
   "source": [
    "df['libido'].groupby(df['dose']).describe()"
   ]
  },
  {
   "cell_type": "markdown",
   "metadata": {},
   "source": [
    "É possível ver que o grupo que recebeu dose 1 (placebo) tem a menor média, o grupo que recebeu dose 2 (baixa) tem media superior ao placebo, e o grupo que recebeu dose 3 (alta) tem a maior média. A questão agora é determinar se essa diferença é *estatisticamente significante* ou se pode ser explicada apenas pelo acaso. Ou seja, temos que determinar se podemos recusar a Hipótese Nula ($H_0$) de que o tratamento não é resposável pelo efeito verificado.\n",
    "\n",
    "Para isso, como temos mais de dois grupos, vamos utilizar o teste ANOVA. Se for possível desejamos utilizar a função `f_oneway` que dá resultados com maior poder. Portanto, precisamos verificar se os pré-requisitos são satisfeitos."
   ]
  },
  {
   "cell_type": "markdown",
   "metadata": {},
   "source": [
    "_Pré-requisito 1._ As amostra são independentes.\n",
    "\n",
    "Uma vez que as amostras foram realizadas para pacientes diferentes e não envolveram nenhum tipo de medida repetida, elas são independentes."
   ]
  },
  {
   "cell_type": "markdown",
   "metadata": {},
   "source": [
    "_Pré-requisito 2._ Cada amostra é de uma população normalmente distribuída.\n",
    "\n",
    "Este pré-requisito pode ser verificado pelo [Teste de Shapiro-Wilk](https://en.wikipedia.org/wiki/Shapiro%E2%80%93Wilk_test) que é implementado pela função `shapiro` do pacote `scipy.stats`. Esta função retorna dois valores, o primeiro é a _Estatística F_ da amostra, e o segundo é o valor $p$ da hipótese de que a amostra seja normalmente distribuída. Assim, se o segundo valor retornado pela função `shapiro` for superior ao valor de _alfa_ isso indica que a amostra deve ser, de fato, normalmente distribuída.\n",
    "\n",
    "Abaixo calcularemos a função `shapiro` para as três doses."
   ]
  },
  {
   "cell_type": "code",
   "execution_count": 13,
   "metadata": {},
   "outputs": [
    {
     "data": {
      "text/plain": [
       "(0.902019739151001, 0.421149343252182)"
      ]
     },
     "execution_count": 13,
     "metadata": {},
     "output_type": "execute_result"
    }
   ],
   "source": [
    "from scipy.stats import shapiro\n",
    "\n",
    "shapiro(df['libido'][df['dose'] == 1])"
   ]
  },
  {
   "cell_type": "code",
   "execution_count": 14,
   "metadata": {},
   "outputs": [
    {
     "data": {
      "text/plain": [
       "(0.902019739151001, 0.421149343252182)"
      ]
     },
     "execution_count": 14,
     "metadata": {},
     "output_type": "execute_result"
    }
   ],
   "source": [
    "shapiro(df['libido'][df['dose'] == 2])"
   ]
  },
  {
   "cell_type": "code",
   "execution_count": 15,
   "metadata": {},
   "outputs": [
    {
     "data": {
      "text/plain": [
       "(0.9867621660232544, 0.9671739339828491)"
      ]
     },
     "execution_count": 15,
     "metadata": {},
     "output_type": "execute_result"
    }
   ],
   "source": [
    "shapiro(df['libido'][df['dose'] == 3])"
   ]
  },
  {
   "cell_type": "markdown",
   "metadata": {},
   "source": [
    "Como podemos ver, nos três casos, a amostra é normalmente distribuída. Embora não seja necessário, vamos plotar os gráficos QQ-plot das três amostras para nos familiarizarmos mais com os dados."
   ]
  },
  {
   "cell_type": "code",
   "execution_count": 16,
   "metadata": {
    "scrolled": true
   },
   "outputs": [
    {
     "data": {
      "text/plain": [
       "Text(0.5, 1.0, 'Q-Q Plot para Placebo')"
      ]
     },
     "execution_count": 16,
     "metadata": {},
     "output_type": "execute_result"
    },
    {
     "data": {
      "image/png": "[encoded data removed]",
      "text/plain": [
       "<Figure size 432x288 with 1 Axes>"
      ]
     },
     "metadata": {
      "needs_background": "light"
     },
     "output_type": "display_data"
    }
   ],
   "source": [
    "from scipy import stats\n",
    "\n",
    "stats.probplot(df['libido'][df['dose'] == 1], plot=plt)\n",
    "plt.title(\"Q-Q Plot para Placebo\")"
   ]
  },
  {
   "cell_type": "code",
   "execution_count": 17,
   "metadata": {},
   "outputs": [
    {
     "data": {
      "text/plain": [
       "Text(0.5, 1.0, 'Q-Q Plot para Dose Baixa')"
      ]
     },
     "execution_count": 17,
     "metadata": {},
     "output_type": "execute_result"
    },
    {
     "data": {
      "image/png": "[encoded data removed]",
      "text/plain": [
       "<Figure size 432x288 with 1 Axes>"
      ]
     },
     "metadata": {
      "needs_background": "light"
     },
     "output_type": "display_data"
    }
   ],
   "source": [
    "stats.probplot(df['libido'][df['dose'] == 2], plot=plt)\n",
    "plt.title(\"Q-Q Plot para Dose Baixa\")"
   ]
  },
  {
   "cell_type": "code",
   "execution_count": 18,
   "metadata": {},
   "outputs": [
    {
     "data": {
      "text/plain": [
       "Text(0.5, 1.0, 'Q-Q Plot para Dose Alta')"
      ]
     },
     "execution_count": 18,
     "metadata": {},
     "output_type": "execute_result"
    },
    {
     "data": {
      "image/png": "[encoded data removed]",
      "text/plain": [
       "<Figure size 432x288 with 1 Axes>"
      ]
     },
     "metadata": {
      "needs_background": "light"
     },
     "output_type": "display_data"
    }
   ],
   "source": [
    "stats.probplot(df['libido'][df['dose'] == 3], plot=plt)\n",
    "plt.title(\"Q-Q Plot para Dose Alta\")"
   ]
  },
  {
   "cell_type": "markdown",
   "metadata": {},
   "source": [
    "Pelos gráficos, podemos ver que a amostra para dose alta está, realmente, muito mais conformada à distribuição normal do que as amostras para placebo e para dose baixa. Como já indicavam os valores calculados pela função `shapiro`."
   ]
  },
  {
   "cell_type": "markdown",
   "metadata": {},
   "source": [
    "_Pré-requisito 3._ Homogeneidade de Variância\n",
    "\n",
    "É possível verificar se as variâncias de diversas amostras é (aproximadamente) a mesma utilizando-se a o [Teste de Levene](https://en.wikipedia.org/wiki/Levene%27s_test) que é implementado pela função `stats.levene` na biblioteca SciPy. O Teste de Levene testa a hipótese nula de que todas as amostras de entrada são de populações com variâncias iguais. A função retorna dois valores: a estatística de teste, e o valor $p$ da hipótese nula.\n",
    "\n",
    "Assim, podemos verificar a homogeneidade de variância da seguinte forma:\n"
   ]
  },
  {
   "cell_type": "code",
   "execution_count": 19,
   "metadata": {},
   "outputs": [
    {
     "data": {
      "text/plain": [
       "LeveneResult(statistic=0.11764705882352934, pvalue=0.8900225182757423)"
      ]
     },
     "execution_count": 19,
     "metadata": {},
     "output_type": "execute_result"
    }
   ],
   "source": [
    "stats.levene(df['libido'][df['dose'] == 1], \n",
    "             df['libido'][df['dose'] == 2],\n",
    "             df['libido'][df['dose'] == 3])"
   ]
  },
  {
   "cell_type": "markdown",
   "metadata": {},
   "source": [
    "Podemos ver que o valor $p$ retornado é bem acima de $\\alpha = 0.05$. Portanto não é possível rejeitar a hipótese nula. Ou seja, as distribuição possuem de fato homogeneidade nas variâncias.\n",
    "\n",
    "Agora que verificamos **todos os três** pré-requisitos, podemos conduzir o Teste ANOVA propriamente dito.\n"
   ]
  },
  {
   "cell_type": "code",
   "execution_count": 20,
   "metadata": {},
   "outputs": [
    {
     "data": {
      "text/plain": [
       "F_onewayResult(statistic=5.11864406779661, pvalue=0.024694289538222603)"
      ]
     },
     "execution_count": 20,
     "metadata": {},
     "output_type": "execute_result"
    }
   ],
   "source": [
    "stats.f_oneway(df['libido'][df['dose'] == 1], \n",
    "               df['libido'][df['dose'] == 2],\n",
    "               df['libido'][df['dose'] == 3])"
   ]
  },
  {
   "cell_type": "markdown",
   "metadata": {},
   "source": [
    "Temo a Estatística $F = 5.119$ e o valor $p = 0.025$, o que indica que podemos rejeitar a Hipótese Nula ($H_0$), e portanto **existe de fato um efeito significativo** da dosagem do medicamento na libido. \n",
    "\n",
    "Porém não sabemos ainda onde este efeito ocorre (como a dosagem influencia no efeito). Para determinar qual o efeito de cada grupo deveríamos conduzir uma análise chamada _Testes Post-hoc_, que não vimos ainda."
   ]
  },
  {
   "cell_type": "markdown",
   "metadata": {},
   "source": [
    "$\\Diamond$ **_Fim do Exemplo 2_** $\\Diamond$"
   ]
  },
  {
   "cell_type": "markdown",
   "metadata": {},
   "source": [
    "**Exercício 3.** Baixe o arquivo `four_sessions.csv` da página do Moodle, e determine se a o _layout_ da página web, é ou não estatísticamente significante para o tempo de permanência na página. Proceda conforme o exemplo acima. Adicione ao notebook quantas células julgar necessárias."
   ]
  },
  {
   "cell_type": "code",
   "execution_count": 21,
   "metadata": {},
   "outputs": [
    {
     "name": "stdout",
     "output_type": "stream",
     "text": [
      "Levene => LeveneResult(statistic=1.0820751064653509, pvalue=0.38485546300675083)\n",
      "Anova => F_onewayResult(statistic=2.739825341901467, pvalue=0.0775862152580146)\n"
     ]
    }
   ],
   "source": [
    "# Análise de significância\n",
    "from scipy import stats\n",
    "from scipy.stats import shapiro\n",
    "\n",
    "df = pd.read_csv(\"four_sessions.csv\")\n",
    "\n",
    "# teste de homocedasticidade (homogeneity test)\n",
    "shapiro1 = shapiro(df['Time'][df['Page'] == 'Page 1'])\n",
    "shapiro2 = shapiro(df['Time'][df['Page'] == 'Page 2'])\n",
    "shapiro3 = shapiro(df['Time'][df['Page'] == 'Page 3'])\n",
    "shapiro4 = shapiro(df['Time'][df['Page'] == 'Page 4'])\n",
    "\n",
    "# teste do valor de alfa (maior ou igual a 0,5%, isto é, 0.05)\n",
    "p = shapiro1[1] >= 0.05 and shapiro2[1] >= 0.05 and shapiro3[1] >= 0.05 and shapiro4[1] >= 0.05\n",
    "\n",
    "if p: # true\n",
    "\n",
    "    levene = stats.levene(df['Time'][df['Page'] == 'Page 1'], \n",
    "                          df['Time'][df['Page'] == 'Page 2'],\n",
    "                          df['Time'][df['Page'] == 'Page 3'],\n",
    "                          df['Time'][df['Page'] == 'Page 4'])\n",
    "\n",
    "    anova = stats.f_oneway(df['Time'][df['Page'] == 'Page 1'], \n",
    "                           df['Time'][df['Page'] == 'Page 2'],\n",
    "                           df['Time'][df['Page'] == 'Page 3'],\n",
    "                           df['Time'][df['Page'] == 'Page 4'])\n",
    "\n",
    "print('Levene =>', levene)\n",
    "print('Anova =>', anova)"
   ]
  },
  {
   "cell_type": "markdown",
   "metadata": {},
   "source": [
    "$\\Diamond$ **_Fim do Exercício 3_** $\\Diamond$"
   ]
  },
  {
   "cell_type": "markdown",
   "metadata": {},
   "source": [
    "Podemos ver que o **p value (levene_result[1])** retornado no teste de Leneve é bem acima de **α=0.05**. Portanto **não é possível rejeitar a hipótese nula**. Ou seja, a distribuição possui de fato homogeneidade nas variâncias. Além disso, pelo teste de Anova é constatato o **p value** acima de **α=0.05**."
   ]
  }
 ],
 "metadata": {
  "kernelspec": {
   "display_name": "Python 3",
   "language": "python",
   "name": "python3"
  },
  "language_info": {
   "codemirror_mode": {
    "name": "ipython",
    "version": 3
   },
   "file_extension": ".py",
   "mimetype": "text/x-python",
   "name": "python",
   "nbconvert_exporter": "python",
   "pygments_lexer": "ipython3",
   "version": "3.6.8"
  }
 },
 "nbformat": 4,
 "nbformat_minor": 2
}
